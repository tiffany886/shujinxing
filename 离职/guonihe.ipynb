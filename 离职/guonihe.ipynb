{
 "cells": [
  {
   "cell_type": "code",
   "execution_count": 4,
   "metadata": {},
   "outputs": [
    {
     "name": "stdout",
     "output_type": "stream",
     "text": [
      "逻辑回归模型准确率: 1.0\n",
      "SVM 模型准确率: 0.9957627118644068\n"
     ]
    }
   ],
   "source": [
    "import pandas as pd\n",
    "from sklearn.model_selection import train_test_split\n",
    "from sklearn.linear_model import LogisticRegression\n",
    "from sklearn.svm import SVC\n",
    "from sklearn.preprocessing import StandardScaler\n",
    "from sklearn.metrics import accuracy_score\n",
    "\n",
    "# 假设你已经有了 DataFrame，这里只是示例，你需要根据实际情况加载数据\n",
    "# 示例数据加载\n",
    "# data = pd.read_csv('your_data.csv')\n",
    "DATA_PATH = '/kaggle/input/bi-attrition-predict/'\n",
    "data = pd.read_csv('train.csv')\n",
    "# test = pd.read_csv(f'{DATA_PATH}/test.csv')\n",
    "# 这里假设你已经有了 DataFrame，直接使用你提供的信息构建示例数据\n",
    "import numpy as np\n",
    "\n",
    "# 数据预处理\n",
    "# 对分类变量进行独热编码\n",
    "categorical_columns = data.select_dtypes(include=['object']).columns\n",
    "data_encoded = pd.get_dummies(data, columns=categorical_columns)\n",
    "\n",
    "# 分离特征和目标变量\n",
    "X = data_encoded.drop('Attrition_Yes', axis=1)  # 假设目标变量是 Attrition，且编码后为 Attrition_Yes\n",
    "y = data_encoded['Attrition_Yes']\n",
    "\n",
    "# 数据标准化\n",
    "scaler = StandardScaler()\n",
    "X_scaled = scaler.fit_transform(X)\n",
    "\n",
    "# 2:8 分离数据集和训练集\n",
    "X_train, X_test, y_train, y_test = train_test_split(X_scaled, y, test_size=0.2, random_state=42)\n",
    "\n",
    "# 逻辑回归模型\n",
    "logreg = LogisticRegression()\n",
    "logreg.fit(X_train, y_train)\n",
    "y_pred_logreg = logreg.predict(X_test)\n",
    "accuracy_logreg = accuracy_score(y_test, y_pred_logreg)\n",
    "print(f\"逻辑回归模型准确率: {accuracy_logreg}\")\n",
    "\n",
    "# SVM 模型\n",
    "svm = SVC()\n",
    "svm.fit(X_train, y_train)\n",
    "y_pred_svm = svm.predict(X_test)\n",
    "accuracy_svm = accuracy_score(y_test, y_pred_svm)\n",
    "print(f\"SVM 模型准确率: {accuracy_svm}\")"
   ]
  },
  {
   "cell_type": "code",
   "execution_count": 6,
   "metadata": {},
   "outputs": [
    {
     "name": "stderr",
     "output_type": "stream",
     "text": [
      "c:\\UserFiles\\Anaconda3\\envs\\hh\\lib\\site-packages\\tqdm\\auto.py:21: TqdmWarning: IProgress not found. Please update jupyter and ipywidgets. See https://ipywidgets.readthedocs.io/en/stable/user_install.html\n",
      "  from .autonotebook import tqdm as notebook_tqdm\n"
     ]
    }
   ],
   "source": [
    "import pandas as pd\n",
    "import numpy as np\n",
    "from sklearn.model_selection import train_test_split, cross_val_score\n",
    "from sklearn.preprocessing import StandardScaler, OneHotEncoder\n",
    "from sklearn.linear_model import LogisticRegression\n",
    "from sklearn.svm import SVC\n",
    "from sklearn.metrics import accuracy_score\n",
    "from sklearn.impute import SimpleImputer\n",
    "from sklearn.compose import ColumnTransformer\n",
    "from sklearn.pipeline import Pipeline\n",
    "import optuna\n",
    "import pandas as pd\n",
    "import numpy as np\n",
    "from sklearn.model_selection import train_test_split\n",
    "from sklearn.preprocessing import StandardScaler, OneHotEncoder\n",
    "from sklearn.linear_model import LogisticRegression\n",
    "from sklearn.svm import SVC\n",
    "from sklearn.metrics import accuracy_score, classification_report\n",
    "from sklearn.impute import SimpleImputer\n",
    "from sklearn.compose import ColumnTransformer\n",
    "from sklearn.pipeline import Pipeline\n"
   ]
  },
  {
   "cell_type": "code",
   "execution_count": null,
   "metadata": {},
   "outputs": [
    {
     "name": "stderr",
     "output_type": "stream",
     "text": [
      "c:\\UserFiles\\Anaconda3\\envs\\hh\\lib\\site-packages\\sklearn\\linear_model\\_logistic.py:460: ConvergenceWarning: lbfgs failed to converge (status=1):\n",
      "STOP: TOTAL NO. of ITERATIONS REACHED LIMIT.\n",
      "\n",
      "Increase the number of iterations (max_iter) or scale the data as shown in:\n",
      "    https://scikit-learn.org/stable/modules/preprocessing.html\n",
      "Please also refer to the documentation for alternative solver options:\n",
      "    https://scikit-learn.org/stable/modules/linear_model.html#logistic-regression\n",
      "  n_iter_i = _check_optimize_result(\n"
     ]
    },
    {
     "name": "stdout",
     "output_type": "stream",
     "text": [
      "Logistic Regression Results:\n",
      "Accuracy: 0.7686666666666667\n",
      "Classification Report:\n",
      "               precision    recall  f1-score   support\n",
      "\n",
      "           0       0.76      0.99      0.86      1059\n",
      "           1       0.89      0.24      0.38       441\n",
      "\n",
      "    accuracy                           0.77      1500\n",
      "   macro avg       0.82      0.62      0.62      1500\n",
      "weighted avg       0.80      0.77      0.72      1500\n",
      "\n",
      "SVM Results:\n",
      "Accuracy: 0.764\n",
      "Classification Report:\n",
      "               precision    recall  f1-score   support\n",
      "\n",
      "           0       0.75      1.00      0.86      1059\n",
      "           1       0.98      0.20      0.33       441\n",
      "\n",
      "    accuracy                           0.76      1500\n",
      "   macro avg       0.86      0.60      0.60      1500\n",
      "weighted avg       0.82      0.76      0.70      1500\n",
      "\n"
     ]
    }
   ],
   "source": [
    "\n",
    "# 假设数据已经加载到 DataFrame df 中\n",
    "df = pd.read_csv('data.csv')\n",
    "\n",
    "# 1. 数据预处理\n",
    "# 分离特征和目标变量\n",
    "X = df.drop(columns=['Credit Default'])\n",
    "y = df['Credit Default']\n",
    "\n",
    "# 定义数值和分类特征\n",
    "numerical_features = ['Annual Income', 'Tax Liens', 'Number of Open Accounts', \n",
    "                      'Years of Credit History', 'Maximum Open Credit', \n",
    "                      'Number of Credit Problems', 'Months since last delinquent', \n",
    "                      'Bankruptcies', 'Current Loan Amount', 'Current Credit Balance', \n",
    "                      'Monthly Debt', 'Credit Score']\n",
    "categorical_features = ['Home Ownership', 'Years in current job', 'Purpose', 'Term']\n",
    "\n",
    "# 创建预处理 Pipeline\n",
    "numerical_transformer = Pipeline(steps=[\n",
    "    ('imputer', SimpleImputer(strategy='median')),  # 用中位数填充缺失值\n",
    "    ('scaler', StandardScaler())  # 标准化数值特征\n",
    "])\n",
    "\n",
    "categorical_transformer = Pipeline(steps=[\n",
    "    ('imputer', SimpleImputer(strategy='most_frequent')),  # 用众数填充缺失值\n",
    "    ('onehot', OneHotEncoder(handle_unknown='ignore'))  # One-Hot Encoding\n",
    "])\n",
    "\n",
    "preprocessor = ColumnTransformer(\n",
    "    transformers=[\n",
    "        ('num', numerical_transformer, numerical_features),\n",
    "        ('cat', categorical_transformer, categorical_features)\n",
    "    ])\n",
    "\n",
    "# 2. 数据集划分\n",
    "X_train, X_test, y_train, y_test = train_test_split(X, y, test_size=0.2, random_state=42)\n",
    "\n",
    "# 3. 逻辑回归\n",
    "logistic_pipeline = Pipeline(steps=[\n",
    "    ('preprocessor', preprocessor),\n",
    "    ('classifier', LogisticRegression(random_state=42))\n",
    "])\n",
    "\n",
    "logistic_pipeline.fit(X_train, y_train)\n",
    "y_pred_logistic = logistic_pipeline.predict(X_test)\n",
    "\n",
    "print(\"Logistic Regression Results:\")\n",
    "print(\"Accuracy:\", accuracy_score(y_test, y_pred_logistic))\n",
    "print(\"Classification Report:\\n\", classification_report(y_test, y_pred_logistic))\n",
    "\n",
    "# 4. SVM\n",
    "svm_pipeline = Pipeline(steps=[\n",
    "    ('preprocessor', preprocessor),\n",
    "    ('classifier', SVC(kernel='linear', random_state=42))\n",
    "])\n",
    "\n",
    "svm_pipeline.fit(X_train, y_train)\n",
    "y_pred_svm = svm_pipeline.predict(X_test)\n",
    "\n",
    "print(\"SVM Results:\")\n",
    "print(\"Accuracy:\", accuracy_score(y_test, y_pred_svm))\n",
    "print(\"Classification Report:\\n\", classification_report(y_test, y_pred_svm))"
   ]
  },
  {
   "cell_type": "code",
   "execution_count": 7,
   "metadata": {},
   "outputs": [
    {
     "name": "stderr",
     "output_type": "stream",
     "text": [
      "[I 2025-03-09 14:18:51,615] A new study created in memory with name: no-name-f06ad0b0-a45a-42c5-89ab-b464a3f0f439\n",
      "[I 2025-03-09 14:18:52,378] Trial 0 finished with value: 0.775 and parameters: {'C': 0.027430602674501158, 'solver': 'sag', 'max_iter': 907}. Best is trial 0 with value: 0.775.\n",
      "[I 2025-03-09 14:18:52,498] Trial 1 finished with value: 0.7738333333333333 and parameters: {'C': 0.011661123632373933, 'solver': 'lbfgs', 'max_iter': 429}. Best is trial 0 with value: 0.775.\n",
      "[I 2025-03-09 14:18:55,454] Trial 2 finished with value: 0.7746666666666667 and parameters: {'C': 0.4172614569060097, 'solver': 'sag', 'max_iter': 993}. Best is trial 0 with value: 0.775.\n",
      "[I 2025-03-09 14:18:55,938] Trial 3 finished with value: 0.7748333333333334 and parameters: {'C': 0.013677844397879703, 'solver': 'sag', 'max_iter': 657}. Best is trial 0 with value: 0.775.\n",
      "[I 2025-03-09 14:18:56,224] Trial 4 finished with value: 0.774 and parameters: {'C': 1.593476762964584, 'solver': 'lbfgs', 'max_iter': 582}. Best is trial 0 with value: 0.775.\n",
      "c:\\UserFiles\\Anaconda3\\envs\\hh\\lib\\site-packages\\sklearn\\linear_model\\_sag.py:350: ConvergenceWarning: The max_iter was reached which means the coef_ did not converge\n",
      "  warnings.warn(\n",
      "c:\\UserFiles\\Anaconda3\\envs\\hh\\lib\\site-packages\\sklearn\\linear_model\\_sag.py:350: ConvergenceWarning: The max_iter was reached which means the coef_ did not converge\n",
      "  warnings.warn(\n",
      "c:\\UserFiles\\Anaconda3\\envs\\hh\\lib\\site-packages\\sklearn\\linear_model\\_sag.py:350: ConvergenceWarning: The max_iter was reached which means the coef_ did not converge\n",
      "  warnings.warn(\n",
      "[I 2025-03-09 14:18:58,593] Trial 5 finished with value: 0.7738333333333333 and parameters: {'C': 1.3901887862232896, 'solver': 'sag', 'max_iter': 602}. Best is trial 0 with value: 0.775.\n",
      "[I 2025-03-09 14:18:58,753] Trial 6 finished with value: 0.7746666666666666 and parameters: {'C': 0.14827524414671747, 'solver': 'lbfgs', 'max_iter': 352}. Best is trial 0 with value: 0.775.\n",
      "[I 2025-03-09 14:18:59,104] Trial 7 finished with value: 0.7728333333333334 and parameters: {'C': 3.8468486618171953, 'solver': 'lbfgs', 'max_iter': 312}. Best is trial 0 with value: 0.775.\n",
      "c:\\UserFiles\\Anaconda3\\envs\\hh\\lib\\site-packages\\sklearn\\linear_model\\_sag.py:350: ConvergenceWarning: The max_iter was reached which means the coef_ did not converge\n",
      "  warnings.warn(\n",
      "c:\\UserFiles\\Anaconda3\\envs\\hh\\lib\\site-packages\\sklearn\\linear_model\\_sag.py:350: ConvergenceWarning: The max_iter was reached which means the coef_ did not converge\n",
      "  warnings.warn(\n",
      "c:\\UserFiles\\Anaconda3\\envs\\hh\\lib\\site-packages\\sklearn\\linear_model\\_sag.py:350: ConvergenceWarning: The max_iter was reached which means the coef_ did not converge\n",
      "  warnings.warn(\n",
      "[I 2025-03-09 14:19:03,244] Trial 8 finished with value: 0.773 and parameters: {'C': 5.81689651397136, 'solver': 'saga', 'max_iter': 956}. Best is trial 0 with value: 0.775.\n",
      "[I 2025-03-09 14:19:03,399] Trial 9 finished with value: 0.7733333333333333 and parameters: {'C': 90.4288261621196, 'solver': 'liblinear', 'max_iter': 729}. Best is trial 0 with value: 0.775.\n",
      "[I 2025-03-09 14:19:03,500] Trial 10 finished with value: 0.7745000000000001 and parameters: {'C': 0.08288761010271213, 'solver': 'liblinear', 'max_iter': 814}. Best is trial 0 with value: 0.775.\n",
      "c:\\UserFiles\\Anaconda3\\envs\\hh\\lib\\site-packages\\sklearn\\linear_model\\_sag.py:350: ConvergenceWarning: The max_iter was reached which means the coef_ did not converge\n",
      "  warnings.warn(\n",
      "c:\\UserFiles\\Anaconda3\\envs\\hh\\lib\\site-packages\\sklearn\\linear_model\\_sag.py:350: ConvergenceWarning: The max_iter was reached which means the coef_ did not converge\n",
      "  warnings.warn(\n",
      "[I 2025-03-09 14:19:04,078] Trial 11 finished with value: 0.7741666666666666 and parameters: {'C': 0.020971812424379996, 'solver': 'sag', 'max_iter': 148}. Best is trial 0 with value: 0.775.\n",
      "[I 2025-03-09 14:19:05,001] Trial 12 finished with value: 0.7743333333333333 and parameters: {'C': 0.04265633244812888, 'solver': 'sag', 'max_iter': 771}. Best is trial 0 with value: 0.775.\n",
      "[I 2025-03-09 14:19:07,065] Trial 13 finished with value: 0.7748333333333334 and parameters: {'C': 0.250565833567141, 'solver': 'sag', 'max_iter': 860}. Best is trial 0 with value: 0.775.\n",
      "[I 2025-03-09 14:19:08,534] Trial 14 finished with value: 0.7745000000000001 and parameters: {'C': 0.03583259863513683, 'solver': 'saga', 'max_iter': 678}. Best is trial 0 with value: 0.775.\n",
      "[I 2025-03-09 14:19:08,954] Trial 15 finished with value: 0.7733333333333333 and parameters: {'C': 0.010495316090842201, 'solver': 'sag', 'max_iter': 503}. Best is trial 0 with value: 0.775.\n",
      "[I 2025-03-09 14:19:10,167] Trial 16 finished with value: 0.7738333333333333 and parameters: {'C': 0.07169699609796129, 'solver': 'sag', 'max_iter': 884}. Best is trial 0 with value: 0.775.\n",
      "c:\\UserFiles\\Anaconda3\\envs\\hh\\lib\\site-packages\\sklearn\\linear_model\\_sag.py:350: ConvergenceWarning: The max_iter was reached which means the coef_ did not converge\n",
      "  warnings.warn(\n",
      "c:\\UserFiles\\Anaconda3\\envs\\hh\\lib\\site-packages\\sklearn\\linear_model\\_sag.py:350: ConvergenceWarning: The max_iter was reached which means the coef_ did not converge\n",
      "  warnings.warn(\n",
      "c:\\UserFiles\\Anaconda3\\envs\\hh\\lib\\site-packages\\sklearn\\linear_model\\_sag.py:350: ConvergenceWarning: The max_iter was reached which means the coef_ did not converge\n",
      "  warnings.warn(\n",
      "[I 2025-03-09 14:19:12,704] Trial 17 finished with value: 0.7731666666666667 and parameters: {'C': 79.35774359542839, 'solver': 'sag', 'max_iter': 661}. Best is trial 0 with value: 0.775.\n",
      "[I 2025-03-09 14:19:12,844] Trial 18 finished with value: 0.7733333333333333 and parameters: {'C': 17.848991135011875, 'solver': 'liblinear', 'max_iter': 902}. Best is trial 0 with value: 0.775.\n",
      "c:\\UserFiles\\Anaconda3\\envs\\hh\\lib\\site-packages\\sklearn\\linear_model\\_sag.py:350: ConvergenceWarning: The max_iter was reached which means the coef_ did not converge\n",
      "  warnings.warn(\n",
      "c:\\UserFiles\\Anaconda3\\envs\\hh\\lib\\site-packages\\sklearn\\linear_model\\_sag.py:350: ConvergenceWarning: The max_iter was reached which means the coef_ did not converge\n",
      "  warnings.warn(\n",
      "c:\\UserFiles\\Anaconda3\\envs\\hh\\lib\\site-packages\\sklearn\\linear_model\\_sag.py:350: ConvergenceWarning: The max_iter was reached which means the coef_ did not converge\n",
      "  warnings.warn(\n",
      "[I 2025-03-09 14:19:14,965] Trial 19 finished with value: 0.7745000000000001 and parameters: {'C': 0.38567814228938463, 'solver': 'saga', 'max_iter': 486}. Best is trial 0 with value: 0.775.\n",
      "[I 2025-03-09 14:19:14,965] A new study created in memory with name: no-name-b56e422f-6bf9-4b93-9480-bbfa4793b438\n",
      "[I 2025-03-09 14:19:17,217] Trial 0 finished with value: 0.7733333333333334 and parameters: {'C': 0.9472167198556415, 'kernel': 'rbf', 'gamma': 'auto'}. Best is trial 0 with value: 0.7733333333333334.\n",
      "[I 2025-03-09 14:19:37,538] Trial 1 finished with value: 0.7725 and parameters: {'C': 2.7492748921105714, 'kernel': 'linear', 'gamma': 'scale'}. Best is trial 0 with value: 0.7733333333333334.\n",
      "[I 2025-03-09 14:19:41,158] Trial 2 finished with value: 0.7394999999999999 and parameters: {'C': 55.92087991813033, 'kernel': 'rbf', 'gamma': 'scale'}. Best is trial 0 with value: 0.7733333333333334.\n",
      "[I 2025-03-09 14:19:42,932] Trial 3 finished with value: 0.7683333333333334 and parameters: {'C': 35.94769066779083, 'kernel': 'poly', 'gamma': 'auto'}. Best is trial 0 with value: 0.7733333333333334.\n",
      "[I 2025-03-09 14:19:45,370] Trial 4 finished with value: 0.773 and parameters: {'C': 4.2399654733163, 'kernel': 'rbf', 'gamma': 'auto'}. Best is trial 0 with value: 0.7733333333333334.\n",
      "[I 2025-03-09 14:33:50,028] Trial 5 finished with value: 0.7725 and parameters: {'C': 75.57419622051825, 'kernel': 'linear', 'gamma': 'auto'}. Best is trial 0 with value: 0.7733333333333334.\n",
      "[I 2025-03-09 14:33:52,353] Trial 6 finished with value: 0.7736666666666666 and parameters: {'C': 0.07362218897164399, 'kernel': 'linear', 'gamma': 'scale'}. Best is trial 6 with value: 0.7736666666666666.\n",
      "[I 2025-03-09 14:33:53,953] Trial 7 finished with value: 0.7736666666666666 and parameters: {'C': 0.11927202481269762, 'kernel': 'poly', 'gamma': 'scale'}. Best is trial 6 with value: 0.7736666666666666.\n",
      "[I 2025-03-09 14:33:58,535] Trial 8 finished with value: 0.7399999999999999 and parameters: {'C': 48.732246055651856, 'kernel': 'poly', 'gamma': 'scale'}. Best is trial 6 with value: 0.7736666666666666.\n",
      "[I 2025-03-09 14:34:03,499] Trial 9 finished with value: 0.7735 and parameters: {'C': 0.39529297608466096, 'kernel': 'linear', 'gamma': 'scale'}. Best is trial 6 with value: 0.7736666666666666.\n",
      "[I 2025-03-09 14:34:05,007] Trial 10 finished with value: 0.7736666666666666 and parameters: {'C': 0.011778307081033309, 'kernel': 'linear', 'gamma': 'scale'}. Best is trial 6 with value: 0.7736666666666666.\n",
      "[I 2025-03-09 14:34:06,555] Trial 11 finished with value: 0.774 and parameters: {'C': 0.0625091282490611, 'kernel': 'poly', 'gamma': 'scale'}. Best is trial 11 with value: 0.774.\n",
      "[I 2025-03-09 14:34:08,093] Trial 12 finished with value: 0.7733333333333333 and parameters: {'C': 0.02812397949481725, 'kernel': 'poly', 'gamma': 'scale'}. Best is trial 11 with value: 0.774.\n",
      "[I 2025-03-09 14:34:09,645] Trial 13 finished with value: 0.774 and parameters: {'C': 0.08461569709926388, 'kernel': 'poly', 'gamma': 'scale'}. Best is trial 11 with value: 0.774.\n",
      "[I 2025-03-09 14:34:11,302] Trial 14 finished with value: 0.7728333333333333 and parameters: {'C': 0.18017233082024128, 'kernel': 'poly', 'gamma': 'scale'}. Best is trial 11 with value: 0.774.\n",
      "[I 2025-03-09 14:34:12,838] Trial 15 finished with value: 0.7735 and parameters: {'C': 0.04344101367210617, 'kernel': 'poly', 'gamma': 'scale'}. Best is trial 11 with value: 0.774.\n",
      "[I 2025-03-09 14:34:14,374] Trial 16 finished with value: 0.7735 and parameters: {'C': 0.013772573803845414, 'kernel': 'poly', 'gamma': 'scale'}. Best is trial 11 with value: 0.774.\n",
      "[I 2025-03-09 14:34:16,018] Trial 17 finished with value: 0.7721666666666667 and parameters: {'C': 0.3455359978587435, 'kernel': 'poly', 'gamma': 'scale'}. Best is trial 11 with value: 0.774.\n",
      "[I 2025-03-09 14:34:17,618] Trial 18 finished with value: 0.7738333333333333 and parameters: {'C': 1.0661830284567877, 'kernel': 'poly', 'gamma': 'auto'}. Best is trial 11 with value: 0.774.\n",
      "[I 2025-03-09 14:34:19,203] Trial 19 finished with value: 0.7735 and parameters: {'C': 0.03533120203830819, 'kernel': 'poly', 'gamma': 'scale'}. Best is trial 11 with value: 0.774.\n"
     ]
    },
    {
     "name": "stdout",
     "output_type": "stream",
     "text": [
      "Logistic Regression Results:\n",
      "Best Parameters: {'C': 0.027430602674501158, 'solver': 'sag', 'max_iter': 907}\n",
      "Accuracy: 0.768\n",
      "SVM Results:\n",
      "Best Parameters: {'C': 0.0625091282490611, 'kernel': 'poly', 'gamma': 'scale'}\n",
      "Accuracy: 0.762\n"
     ]
    }
   ],
   "source": [
    "# 3. 定义 Optuna 目标函数\n",
    "def objective_logistic(trial):\n",
    "    # 定义超参数搜索空间\n",
    "    C = trial.suggest_float('C', 0.01, 100, log=True)\n",
    "    solver = trial.suggest_categorical('solver', ['lbfgs', 'liblinear', 'sag', 'saga'])\n",
    "    max_iter = trial.suggest_int('max_iter', 100, 1000)\n",
    "\n",
    "    # 创建逻辑回归 Pipeline\n",
    "    logistic_pipeline = Pipeline(steps=[\n",
    "        ('preprocessor', preprocessor),\n",
    "        ('classifier', LogisticRegression(C=C, solver=solver, max_iter=max_iter, random_state=42))\n",
    "    ])\n",
    "\n",
    "    # 使用交叉验证评估模型\n",
    "    score = cross_val_score(logistic_pipeline, X_train, y_train, cv=3, scoring='accuracy').mean()\n",
    "    return score\n",
    "\n",
    "def objective_svm(trial):\n",
    "    # 定义超参数搜索空间\n",
    "    C = trial.suggest_float('C', 0.01, 100, log=True)\n",
    "    kernel = trial.suggest_categorical('kernel', ['linear', 'rbf', 'poly'])\n",
    "    gamma = trial.suggest_categorical('gamma', ['scale', 'auto'])\n",
    "\n",
    "    # 创建 SVM Pipeline\n",
    "    svm_pipeline = Pipeline(steps=[\n",
    "        ('preprocessor', preprocessor),\n",
    "        ('classifier', SVC(C=C, kernel=kernel, gamma=gamma, random_state=42))\n",
    "    ])\n",
    "\n",
    "    # 使用交叉验证评估模型\n",
    "    score = cross_val_score(svm_pipeline, X_train, y_train, cv=3, scoring='accuracy').mean()\n",
    "    return score\n",
    "\n",
    "# 4. 使用 Optuna 进行调参\n",
    "# 逻辑回归调参\n",
    "study_logistic = optuna.create_study(direction='maximize')\n",
    "study_logistic.optimize(objective_logistic, n_trials=20)\n",
    "\n",
    "# SVM 调参\n",
    "study_svm = optuna.create_study(direction='maximize')\n",
    "study_svm.optimize(objective_svm, n_trials=20)\n",
    "\n",
    "# 5. 使用最佳参数训练模型\n",
    "# 逻辑回归\n",
    "best_params_logistic = study_logistic.best_params\n",
    "logistic_pipeline = Pipeline(steps=[\n",
    "    ('preprocessor', preprocessor),\n",
    "    ('classifier', LogisticRegression(**best_params_logistic, random_state=42))\n",
    "])\n",
    "logistic_pipeline.fit(X_train, y_train)\n",
    "y_pred_logistic = logistic_pipeline.predict(X_test)\n",
    "print(\"Logistic Regression Results:\")\n",
    "print(\"Best Parameters:\", best_params_logistic)\n",
    "print(\"Accuracy:\", accuracy_score(y_test, y_pred_logistic))\n",
    "\n",
    "# SVM\n",
    "best_params_svm = study_svm.best_params\n",
    "svm_pipeline = Pipeline(steps=[\n",
    "    ('preprocessor', preprocessor),\n",
    "    ('classifier', SVC(**best_params_svm, random_state=42))\n",
    "])\n",
    "svm_pipeline.fit(X_train, y_train)\n",
    "y_pred_svm = svm_pipeline.predict(X_test)\n",
    "print(\"SVM Results:\")\n",
    "print(\"Best Parameters:\", best_params_svm)\n",
    "print(\"Accuracy:\", accuracy_score(y_test, y_pred_svm))"
   ]
  },
  {
   "cell_type": "markdown",
   "metadata": {},
   "source": [
    "15min"
   ]
  },
  {
   "cell_type": "code",
   "execution_count": null,
   "metadata": {},
   "outputs": [],
   "source": [
    "# 获取低方差特征\n"
   ]
  },
  {
   "cell_type": "code",
   "execution_count": 8,
   "metadata": {},
   "outputs": [
    {
     "name": "stdout",
     "output_type": "stream",
     "text": [
      "Low variance features to consider removing: []\n"
     ]
    }
   ],
   "source": [
    "from sklearn.feature_selection import VarianceThreshold\n",
    "\n",
    "# 计算特征的方差\n",
    "selector = VarianceThreshold(threshold=0.01)  # 阈值设为 0.01\n",
    "selector.fit(df[numerical_features])\n",
    "\n",
    "# 获取低方差特征\n",
    "low_var_features = [col for col in numerical_features if col not in df[numerical_features].columns[selector.get_support()]]\n",
    "print(\"Low variance features to consider removing:\", low_var_features)"
   ]
  },
  {
   "cell_type": "code",
   "execution_count": 9,
   "metadata": {},
   "outputs": [
    {
     "data": {
      "image/png": "[encoded data removed]",
      "text/plain": [
       "<Figure size 1200x800 with 2 Axes>"
      ]
     },
     "metadata": {},
     "output_type": "display_data"
    },
    {
     "name": "stdout",
     "output_type": "stream",
     "text": [
      "Highly correlated features to consider removing: set()\n"
     ]
    }
   ],
   "source": [
    "import pandas as pd\n",
    "import seaborn as sns\n",
    "import matplotlib.pyplot as plt\n",
    "\n",
    "# 计算特征之间的相关性矩阵\n",
    "corr_matrix = df[numerical_features].corr()\n",
    "\n",
    "# 可视化相关性矩阵\n",
    "plt.figure(figsize=(12, 8))\n",
    "sns.heatmap(corr_matrix, annot=True, cmap='coolwarm', fmt='.2f')\n",
    "plt.title('Feature Correlation Matrix')\n",
    "plt.show()\n",
    "\n",
    "# 检查高度相关的特征对\n",
    "high_corr_features = set()\n",
    "for i in range(len(corr_matrix.columns)):\n",
    "    for j in range(i):\n",
    "        if abs(corr_matrix.iloc[i, j]) > 0.8:  # 阈值设为 0.8\n",
    "            colname = corr_matrix.columns[i]\n",
    "            high_corr_features.add(colname)\n",
    "\n",
    "print(\"Highly correlated features to consider removing:\", high_corr_features)"
   ]
  },
  {
   "cell_type": "code",
   "execution_count": 10,
   "metadata": {},
   "outputs": [
    {
     "name": "stderr",
     "output_type": "stream",
     "text": [
      "[I 2025-03-09 15:05:18,712] A new study created in memory with name: no-name-e2f302e5-dd7b-4e71-a372-d8cec4c39bc6\n",
      "[I 2025-03-09 15:05:20,243] Trial 3 finished with value: 0.7753333333333333 and parameters: {'C': 0.20230394714493818, 'solver': 'liblinear', 'max_iter': 9402}. Best is trial 3 with value: 0.7753333333333333.\n",
      "[I 2025-03-09 15:05:20,246] Trial 0 finished with value: 0.774 and parameters: {'C': 1.2677101978373073, 'solver': 'liblinear', 'max_iter': 5762}. Best is trial 3 with value: 0.7753333333333333.\n",
      "[I 2025-03-09 15:05:20,250] Trial 5 finished with value: 0.773 and parameters: {'C': 43.80943758471237, 'solver': 'liblinear', 'max_iter': 8779}. Best is trial 3 with value: 0.7753333333333333.\n",
      "[I 2025-03-09 15:05:20,267] Trial 12 finished with value: 0.7738333333333333 and parameters: {'C': 1.1495376348941428, 'solver': 'liblinear', 'max_iter': 5389}. Best is trial 3 with value: 0.7753333333333333.\n",
      "[I 2025-03-09 15:05:20,270] Trial 6 finished with value: 0.773 and parameters: {'C': 28.14464597325519, 'solver': 'liblinear', 'max_iter': 7925}. Best is trial 3 with value: 0.7753333333333333.\n",
      "[I 2025-03-09 15:05:20,782] Trial 9 finished with value: 0.773 and parameters: {'C': 0.010334319472319456, 'solver': 'lbfgs', 'max_iter': 6760}. Best is trial 3 with value: 0.7753333333333333.\n",
      "[I 2025-03-09 15:05:20,804] Trial 7 finished with value: 0.7748333333333334 and parameters: {'C': 0.013732192403233284, 'solver': 'lbfgs', 'max_iter': 2311}. Best is trial 3 with value: 0.7753333333333333.\n",
      "[I 2025-03-09 15:05:21,230] Trial 11 finished with value: 0.7743333333333333 and parameters: {'C': 0.04336586431685286, 'solver': 'lbfgs', 'max_iter': 4056}. Best is trial 3 with value: 0.7753333333333333.\n",
      "[I 2025-03-09 15:05:21,267] Trial 1 finished with value: 0.7735 and parameters: {'C': 0.05240113915145667, 'solver': 'lbfgs', 'max_iter': 4097}. Best is trial 3 with value: 0.7753333333333333.\n",
      "[I 2025-03-09 15:05:21,342] Trial 18 finished with value: 0.7743333333333333 and parameters: {'C': 0.01678995749357747, 'solver': 'liblinear', 'max_iter': 5023}. Best is trial 3 with value: 0.7753333333333333.\n",
      "[I 2025-03-09 15:05:21,453] Trial 19 finished with value: 0.7746666666666666 and parameters: {'C': 0.01564970609846491, 'solver': 'liblinear', 'max_iter': 7886}. Best is trial 3 with value: 0.7753333333333333.\n",
      "[I 2025-03-09 15:05:21,460] Trial 17 finished with value: 0.773 and parameters: {'C': 28.063981027122974, 'solver': 'liblinear', 'max_iter': 4047}. Best is trial 3 with value: 0.7753333333333333.\n",
      "[I 2025-03-09 15:05:21,464] Trial 20 finished with value: 0.774 and parameters: {'C': 1.5625581222597507, 'solver': 'liblinear', 'max_iter': 1124}. Best is trial 3 with value: 0.7753333333333333.\n",
      "[I 2025-03-09 15:05:21,915] Trial 22 finished with value: 0.7736666666666666 and parameters: {'C': 0.8563666029990703, 'solver': 'liblinear', 'max_iter': 5417}. Best is trial 3 with value: 0.7753333333333333.\n",
      "[I 2025-03-09 15:05:22,121] Trial 10 finished with value: 0.7753333333333333 and parameters: {'C': 0.20690577327889445, 'solver': 'lbfgs', 'max_iter': 1129}. Best is trial 3 with value: 0.7753333333333333.\n",
      "[I 2025-03-09 15:05:22,355] Trial 24 finished with value: 0.7738333333333333 and parameters: {'C': 1.0986727147231212, 'solver': 'liblinear', 'max_iter': 4645}. Best is trial 3 with value: 0.7753333333333333.\n",
      "[I 2025-03-09 15:05:22,385] Trial 16 finished with value: 0.774 and parameters: {'C': 0.05901695871521893, 'solver': 'lbfgs', 'max_iter': 9339}. Best is trial 3 with value: 0.7753333333333333.\n",
      "[I 2025-03-09 15:05:22,440] Trial 25 finished with value: 0.7751666666666667 and parameters: {'C': 0.23001381605939794, 'solver': 'liblinear', 'max_iter': 9988}. Best is trial 3 with value: 0.7753333333333333.\n",
      "[I 2025-03-09 15:05:23,195] Trial 13 finished with value: 0.7735 and parameters: {'C': 0.672146398887288, 'solver': 'lbfgs', 'max_iter': 2178}. Best is trial 3 with value: 0.7753333333333333.\n",
      "[I 2025-03-09 15:05:23,211] Trial 8 finished with value: 0.7735 and parameters: {'C': 0.8247025433838788, 'solver': 'lbfgs', 'max_iter': 817}. Best is trial 3 with value: 0.7753333333333333.\n",
      "[I 2025-03-09 15:05:23,745] Trial 2 finished with value: 0.774 and parameters: {'C': 1.2968822750229867, 'solver': 'lbfgs', 'max_iter': 2829}. Best is trial 3 with value: 0.7753333333333333.\n",
      "[I 2025-03-09 15:05:23,802] Trial 21 finished with value: 0.7749999999999999 and parameters: {'C': 0.2969533818186296, 'solver': 'lbfgs', 'max_iter': 637}. Best is trial 3 with value: 0.7753333333333333.\n",
      "[I 2025-03-09 15:05:23,852] Trial 4 finished with value: 0.774 and parameters: {'C': 1.160885462438948, 'solver': 'lbfgs', 'max_iter': 2058}. Best is trial 3 with value: 0.7753333333333333.\n",
      "[I 2025-03-09 15:05:24,231] Trial 27 finished with value: 0.7753333333333333 and parameters: {'C': 0.2235963505843913, 'solver': 'lbfgs', 'max_iter': 1440}. Best is trial 3 with value: 0.7753333333333333.\n",
      "[I 2025-03-09 15:05:24,237] Trial 26 finished with value: 0.7753333333333333 and parameters: {'C': 0.19933377644753858, 'solver': 'lbfgs', 'max_iter': 995}. Best is trial 3 with value: 0.7753333333333333.\n",
      "[I 2025-03-09 15:05:24,284] Trial 28 finished with value: 0.7755000000000001 and parameters: {'C': 0.20261463395644366, 'solver': 'lbfgs', 'max_iter': 920}. Best is trial 28 with value: 0.7755000000000001.\n",
      "[I 2025-03-09 15:05:24,495] Trial 29 finished with value: 0.7748333333333334 and parameters: {'C': 0.18039842158254843, 'solver': 'lbfgs', 'max_iter': 1065}. Best is trial 28 with value: 0.7755000000000001.\n",
      "[I 2025-03-09 15:05:24,620] Trial 14 finished with value: 0.7733333333333333 and parameters: {'C': 2.254692402258913, 'solver': 'lbfgs', 'max_iter': 5918}. Best is trial 28 with value: 0.7755000000000001.\n",
      "[I 2025-03-09 15:05:24,829] Trial 36 finished with value: 0.7753333333333333 and parameters: {'C': 0.19662651513060433, 'solver': 'liblinear', 'max_iter': 9838}. Best is trial 28 with value: 0.7755000000000001.\n",
      "[I 2025-03-09 15:05:24,862] Trial 30 finished with value: 0.7749999999999999 and parameters: {'C': 0.27175629170444093, 'solver': 'lbfgs', 'max_iter': 1198}. Best is trial 28 with value: 0.7755000000000001.\n",
      "[I 2025-03-09 15:05:24,917] Trial 37 finished with value: 0.7753333333333333 and parameters: {'C': 0.20641543523492822, 'solver': 'liblinear', 'max_iter': 9930}. Best is trial 28 with value: 0.7755000000000001.\n",
      "[I 2025-03-09 15:05:24,942] Trial 38 finished with value: 0.7753333333333333 and parameters: {'C': 0.20050911658757495, 'solver': 'liblinear', 'max_iter': 9752}. Best is trial 28 with value: 0.7755000000000001.\n",
      "[I 2025-03-09 15:05:25,079] Trial 32 finished with value: 0.7753333333333333 and parameters: {'C': 0.22610934979407224, 'solver': 'lbfgs', 'max_iter': 1605}. Best is trial 28 with value: 0.7755000000000001.\n",
      "[I 2025-03-09 15:05:25,195] Trial 31 finished with value: 0.7748333333333334 and parameters: {'C': 0.17953592532420407, 'solver': 'lbfgs', 'max_iter': 9973}. Best is trial 28 with value: 0.7755000000000001.\n",
      "[I 2025-03-09 15:05:25,402] Trial 33 finished with value: 0.7748333333333334 and parameters: {'C': 0.2814563078992988, 'solver': 'lbfgs', 'max_iter': 2209}. Best is trial 28 with value: 0.7755000000000001.\n",
      "c:\\UserFiles\\Anaconda3\\envs\\hh\\lib\\site-packages\\sklearn\\linear_model\\_logistic.py:460: ConvergenceWarning: lbfgs failed to converge (status=1):\n",
      "STOP: TOTAL NO. of ITERATIONS REACHED LIMIT.\n",
      "\n",
      "Increase the number of iterations (max_iter) or scale the data as shown in:\n",
      "    https://scikit-learn.org/stable/modules/preprocessing.html\n",
      "Please also refer to the documentation for alternative solver options:\n",
      "    https://scikit-learn.org/stable/modules/linear_model.html#logistic-regression\n",
      "  n_iter_i = _check_optimize_result(\n",
      "c:\\UserFiles\\Anaconda3\\envs\\hh\\lib\\site-packages\\sklearn\\linear_model\\_logistic.py:460: ConvergenceWarning: lbfgs failed to converge (status=1):\n",
      "STOP: TOTAL NO. of ITERATIONS REACHED LIMIT.\n",
      "\n",
      "Increase the number of iterations (max_iter) or scale the data as shown in:\n",
      "    https://scikit-learn.org/stable/modules/preprocessing.html\n",
      "Please also refer to the documentation for alternative solver options:\n",
      "    https://scikit-learn.org/stable/modules/linear_model.html#logistic-regression\n",
      "  n_iter_i = _check_optimize_result(\n",
      "c:\\UserFiles\\Anaconda3\\envs\\hh\\lib\\site-packages\\sklearn\\linear_model\\_logistic.py:460: ConvergenceWarning: lbfgs failed to converge (status=1):\n",
      "STOP: TOTAL NO. of ITERATIONS REACHED LIMIT.\n",
      "\n",
      "Increase the number of iterations (max_iter) or scale the data as shown in:\n",
      "    https://scikit-learn.org/stable/modules/preprocessing.html\n",
      "Please also refer to the documentation for alternative solver options:\n",
      "    https://scikit-learn.org/stable/modules/linear_model.html#logistic-regression\n",
      "  n_iter_i = _check_optimize_result(\n",
      "c:\\UserFiles\\Anaconda3\\envs\\hh\\lib\\site-packages\\sklearn\\linear_model\\_logistic.py:460: ConvergenceWarning: lbfgs failed to converge (status=1):\n",
      "STOP: TOTAL NO. of ITERATIONS REACHED LIMIT.\n",
      "\n",
      "Increase the number of iterations (max_iter) or scale the data as shown in:\n",
      "    https://scikit-learn.org/stable/modules/preprocessing.html\n",
      "Please also refer to the documentation for alternative solver options:\n",
      "    https://scikit-learn.org/stable/modules/linear_model.html#logistic-regression\n",
      "  n_iter_i = _check_optimize_result(\n",
      "c:\\UserFiles\\Anaconda3\\envs\\hh\\lib\\site-packages\\sklearn\\linear_model\\_logistic.py:460: ConvergenceWarning: lbfgs failed to converge (status=1):\n",
      "STOP: TOTAL NO. of ITERATIONS REACHED LIMIT.\n",
      "\n",
      "Increase the number of iterations (max_iter) or scale the data as shown in:\n",
      "    https://scikit-learn.org/stable/modules/preprocessing.html\n",
      "Please also refer to the documentation for alternative solver options:\n",
      "    https://scikit-learn.org/stable/modules/linear_model.html#logistic-regression\n",
      "  n_iter_i = _check_optimize_result(\n",
      "c:\\UserFiles\\Anaconda3\\envs\\hh\\lib\\site-packages\\sklearn\\linear_model\\_logistic.py:460: ConvergenceWarning: lbfgs failed to converge (status=1):\n",
      "STOP: TOTAL NO. of ITERATIONS REACHED LIMIT.\n",
      "\n",
      "Increase the number of iterations (max_iter) or scale the data as shown in:\n",
      "    https://scikit-learn.org/stable/modules/preprocessing.html\n",
      "Please also refer to the documentation for alternative solver options:\n",
      "    https://scikit-learn.org/stable/modules/linear_model.html#logistic-regression\n",
      "  n_iter_i = _check_optimize_result(\n",
      "c:\\UserFiles\\Anaconda3\\envs\\hh\\lib\\site-packages\\sklearn\\linear_model\\_logistic.py:460: ConvergenceWarning: lbfgs failed to converge (status=1):\n",
      "STOP: TOTAL NO. of ITERATIONS REACHED LIMIT.\n",
      "\n",
      "Increase the number of iterations (max_iter) or scale the data as shown in:\n",
      "    https://scikit-learn.org/stable/modules/preprocessing.html\n",
      "Please also refer to the documentation for alternative solver options:\n",
      "    https://scikit-learn.org/stable/modules/linear_model.html#logistic-regression\n",
      "  n_iter_i = _check_optimize_result(\n",
      "[I 2025-03-09 15:05:26,973] Trial 15 finished with value: 0.773 and parameters: {'C': 13.735243544315955, 'solver': 'lbfgs', 'max_iter': 4549}. Best is trial 28 with value: 0.7755000000000001.\n",
      "[I 2025-03-09 15:05:27,037] Trial 46 finished with value: 0.7741666666666668 and parameters: {'C': 0.0862906604998445, 'solver': 'lbfgs', 'max_iter': 3338}. Best is trial 28 with value: 0.7755000000000001.\n",
      "[I 2025-03-09 15:05:27,069] Trial 44 finished with value: 0.7741666666666666 and parameters: {'C': 0.09359397469646506, 'solver': 'lbfgs', 'max_iter': 166}. Best is trial 28 with value: 0.7755000000000001.\n",
      "[I 2025-03-09 15:05:27,210] Trial 48 finished with value: 0.774 and parameters: {'C': 0.08242643494974358, 'solver': 'lbfgs', 'max_iter': 167}. Best is trial 28 with value: 0.7755000000000001.\n",
      "[I 2025-03-09 15:05:27,286] Trial 49 finished with value: 0.7741666666666668 and parameters: {'C': 0.089121861224131, 'solver': 'lbfgs', 'max_iter': 122}. Best is trial 28 with value: 0.7755000000000001.\n",
      "c:\\UserFiles\\Anaconda3\\envs\\hh\\lib\\site-packages\\sklearn\\linear_model\\_logistic.py:460: ConvergenceWarning: lbfgs failed to converge (status=1):\n",
      "STOP: TOTAL NO. of ITERATIONS REACHED LIMIT.\n",
      "\n",
      "Increase the number of iterations (max_iter) or scale the data as shown in:\n",
      "    https://scikit-learn.org/stable/modules/preprocessing.html\n",
      "Please also refer to the documentation for alternative solver options:\n",
      "    https://scikit-learn.org/stable/modules/linear_model.html#logistic-regression\n",
      "  n_iter_i = _check_optimize_result(\n",
      "c:\\UserFiles\\Anaconda3\\envs\\hh\\lib\\site-packages\\sklearn\\linear_model\\_logistic.py:460: ConvergenceWarning: lbfgs failed to converge (status=1):\n",
      "STOP: TOTAL NO. of ITERATIONS REACHED LIMIT.\n",
      "\n",
      "Increase the number of iterations (max_iter) or scale the data as shown in:\n",
      "    https://scikit-learn.org/stable/modules/preprocessing.html\n",
      "Please also refer to the documentation for alternative solver options:\n",
      "    https://scikit-learn.org/stable/modules/linear_model.html#logistic-regression\n",
      "  n_iter_i = _check_optimize_result(\n",
      "[I 2025-03-09 15:05:27,460] Trial 41 finished with value: 0.7725 and parameters: {'C': 4.998622644178792, 'solver': 'lbfgs', 'max_iter': 105}. Best is trial 28 with value: 0.7755000000000001.\n",
      "[I 2025-03-09 15:05:27,539] Trial 50 finished with value: 0.7741666666666668 and parameters: {'C': 0.08718851058922882, 'solver': 'lbfgs', 'max_iter': 188}. Best is trial 28 with value: 0.7755000000000001.\n",
      "c:\\UserFiles\\Anaconda3\\envs\\hh\\lib\\site-packages\\sklearn\\linear_model\\_logistic.py:460: ConvergenceWarning: lbfgs failed to converge (status=1):\n",
      "STOP: TOTAL NO. of ITERATIONS REACHED LIMIT.\n",
      "\n",
      "Increase the number of iterations (max_iter) or scale the data as shown in:\n",
      "    https://scikit-learn.org/stable/modules/preprocessing.html\n",
      "Please also refer to the documentation for alternative solver options:\n",
      "    https://scikit-learn.org/stable/modules/linear_model.html#logistic-regression\n",
      "  n_iter_i = _check_optimize_result(\n",
      "[I 2025-03-09 15:05:27,830] Trial 40 finished with value: 0.7736666666666666 and parameters: {'C': 7.163864502648416, 'solver': 'lbfgs', 'max_iter': 109}. Best is trial 28 with value: 0.7755000000000001.\n",
      "c:\\UserFiles\\Anaconda3\\envs\\hh\\lib\\site-packages\\sklearn\\linear_model\\_logistic.py:460: ConvergenceWarning: lbfgs failed to converge (status=1):\n",
      "STOP: TOTAL NO. of ITERATIONS REACHED LIMIT.\n",
      "\n",
      "Increase the number of iterations (max_iter) or scale the data as shown in:\n",
      "    https://scikit-learn.org/stable/modules/preprocessing.html\n",
      "Please also refer to the documentation for alternative solver options:\n",
      "    https://scikit-learn.org/stable/modules/linear_model.html#logistic-regression\n",
      "  n_iter_i = _check_optimize_result(\n",
      "[I 2025-03-09 15:05:28,003] Trial 39 finished with value: 0.7728333333333333 and parameters: {'C': 5.075340008302384, 'solver': 'lbfgs', 'max_iter': 121}. Best is trial 28 with value: 0.7755000000000001.\n",
      "c:\\UserFiles\\Anaconda3\\envs\\hh\\lib\\site-packages\\sklearn\\linear_model\\_logistic.py:460: ConvergenceWarning: lbfgs failed to converge (status=1):\n",
      "STOP: TOTAL NO. of ITERATIONS REACHED LIMIT.\n",
      "\n",
      "Increase the number of iterations (max_iter) or scale the data as shown in:\n",
      "    https://scikit-learn.org/stable/modules/preprocessing.html\n",
      "Please also refer to the documentation for alternative solver options:\n",
      "    https://scikit-learn.org/stable/modules/linear_model.html#logistic-regression\n",
      "  n_iter_i = _check_optimize_result(\n",
      "[I 2025-03-09 15:05:28,617] Trial 47 finished with value: 0.7728333333333334 and parameters: {'C': 3.812763787542476, 'solver': 'lbfgs', 'max_iter': 128}. Best is trial 28 with value: 0.7755000000000001.\n",
      "[I 2025-03-09 15:05:29,098] Trial 52 finished with value: 0.7741666666666668 and parameters: {'C': 0.08928259505117431, 'solver': 'lbfgs', 'max_iter': 121}. Best is trial 28 with value: 0.7755000000000001.\n",
      "[I 2025-03-09 15:05:29,117] Trial 51 finished with value: 0.774 and parameters: {'C': 0.08287300796008445, 'solver': 'lbfgs', 'max_iter': 233}. Best is trial 28 with value: 0.7755000000000001.\n",
      "[I 2025-03-09 15:05:29,152] Trial 23 finished with value: 0.7735 and parameters: {'C': 89.58260526604457, 'solver': 'lbfgs', 'max_iter': 9041}. Best is trial 28 with value: 0.7755000000000001.\n",
      "[I 2025-03-09 15:05:29,190] Trial 35 finished with value: 0.7728333333333334 and parameters: {'C': 4.445989501618873, 'solver': 'lbfgs', 'max_iter': 2577}. Best is trial 28 with value: 0.7755000000000001.\n",
      "[I 2025-03-09 15:05:29,574] Trial 34 finished with value: 0.773 and parameters: {'C': 5.733299717125998, 'solver': 'lbfgs', 'max_iter': 603}. Best is trial 28 with value: 0.7755000000000001.\n",
      "[I 2025-03-09 15:05:29,635] Trial 42 finished with value: 0.7733333333333333 and parameters: {'C': 2.733232541946065, 'solver': 'lbfgs', 'max_iter': 2886}. Best is trial 28 with value: 0.7755000000000001.\n",
      "[I 2025-03-09 15:05:29,751] Trial 59 finished with value: 0.775 and parameters: {'C': 0.03829381487175583, 'solver': 'lbfgs', 'max_iter': 3109}. Best is trial 28 with value: 0.7755000000000001.\n",
      "[I 2025-03-09 15:05:30,332] Trial 54 finished with value: 0.7746666666666667 and parameters: {'C': 0.4389924643688642, 'solver': 'lbfgs', 'max_iter': 2842}. Best is trial 28 with value: 0.7755000000000001.\n",
      "[I 2025-03-09 15:05:30,434] Trial 45 finished with value: 0.7733333333333334 and parameters: {'C': 3.149738667277742, 'solver': 'lbfgs', 'max_iter': 3206}. Best is trial 28 with value: 0.7755000000000001.\n",
      "[I 2025-03-09 15:05:30,438] Trial 43 finished with value: 0.7733333333333334 and parameters: {'C': 3.286886130786089, 'solver': 'lbfgs', 'max_iter': 3460}. Best is trial 28 with value: 0.7755000000000001.\n",
      "[I 2025-03-09 15:05:30,525] Trial 53 finished with value: 0.7743333333333333 and parameters: {'C': 0.49182014510626393, 'solver': 'lbfgs', 'max_iter': 3091}. Best is trial 28 with value: 0.7755000000000001.\n",
      "[I 2025-03-09 15:05:30,903] Trial 57 finished with value: 0.7745000000000001 and parameters: {'C': 0.5208647461672608, 'solver': 'lbfgs', 'max_iter': 2911}. Best is trial 28 with value: 0.7755000000000001.\n",
      "[I 2025-03-09 15:05:30,912] Trial 56 finished with value: 0.7746666666666667 and parameters: {'C': 0.4678437222985825, 'solver': 'lbfgs', 'max_iter': 2691}. Best is trial 28 with value: 0.7755000000000001.\n",
      "[I 2025-03-09 15:05:31,124] Trial 58 finished with value: 0.7745000000000001 and parameters: {'C': 0.42731435644390586, 'solver': 'lbfgs', 'max_iter': 2768}. Best is trial 28 with value: 0.7755000000000001.\n",
      "[I 2025-03-09 15:05:31,594] Trial 70 finished with value: 0.7741666666666666 and parameters: {'C': 0.5475807913054975, 'solver': 'liblinear', 'max_iter': 1835}. Best is trial 28 with value: 0.7755000000000001.\n",
      "[I 2025-03-09 15:05:31,694] Trial 69 finished with value: 0.7748333333333334 and parameters: {'C': 0.4627189418481733, 'solver': 'liblinear', 'max_iter': 1576}. Best is trial 28 with value: 0.7755000000000001.\n",
      "[I 2025-03-09 15:05:31,712] Trial 71 finished with value: 0.775 and parameters: {'C': 0.4343301634121759, 'solver': 'liblinear', 'max_iter': 1627}. Best is trial 28 with value: 0.7755000000000001.\n",
      "[I 2025-03-09 15:05:32,200] Trial 72 finished with value: 0.775 and parameters: {'C': 0.12479778690916477, 'solver': 'liblinear', 'max_iter': 1781}. Best is trial 28 with value: 0.7755000000000001.\n",
      "[I 2025-03-09 15:05:32,211] Trial 74 finished with value: 0.775 and parameters: {'C': 0.13052412796961377, 'solver': 'liblinear', 'max_iter': 1611}. Best is trial 28 with value: 0.7755000000000001.\n",
      "[I 2025-03-09 15:05:32,293] Trial 73 finished with value: 0.7753333333333333 and parameters: {'C': 0.149275127526377, 'solver': 'liblinear', 'max_iter': 1638}. Best is trial 28 with value: 0.7755000000000001.\n",
      "[I 2025-03-09 15:05:32,332] Trial 60 finished with value: 0.7748333333333334 and parameters: {'C': 0.4516930478822601, 'solver': 'lbfgs', 'max_iter': 2821}. Best is trial 28 with value: 0.7755000000000001.\n",
      "[I 2025-03-09 15:05:32,580] Trial 64 finished with value: 0.7746666666666666 and parameters: {'C': 0.3838886103512245, 'solver': 'lbfgs', 'max_iter': 1747}. Best is trial 28 with value: 0.7755000000000001.\n",
      "[I 2025-03-09 15:05:32,768] Trial 62 finished with value: 0.7745000000000001 and parameters: {'C': 0.4348997521815307, 'solver': 'lbfgs', 'max_iter': 2696}. Best is trial 28 with value: 0.7755000000000001.\n",
      "[I 2025-03-09 15:05:32,867] Trial 75 finished with value: 0.7751666666666667 and parameters: {'C': 0.13801085511574995, 'solver': 'liblinear', 'max_iter': 1812}. Best is trial 28 with value: 0.7755000000000001.\n",
      "[I 2025-03-09 15:05:32,878] Trial 76 finished with value: 0.775 and parameters: {'C': 0.1251454963926842, 'solver': 'liblinear', 'max_iter': 7540}. Best is trial 28 with value: 0.7755000000000001.\n",
      "[I 2025-03-09 15:05:32,878] Trial 77 finished with value: 0.7748333333333334 and parameters: {'C': 0.029092567682998935, 'solver': 'liblinear', 'max_iter': 7867}. Best is trial 28 with value: 0.7755000000000001.\n",
      "[I 2025-03-09 15:05:32,907] Trial 63 finished with value: 0.7743333333333333 and parameters: {'C': 0.5066541438114255, 'solver': 'lbfgs', 'max_iter': 2893}. Best is trial 28 with value: 0.7755000000000001.\n",
      "[I 2025-03-09 15:05:33,179] Trial 55 finished with value: 0.7733333333333334 and parameters: {'C': 2.9661188943197763, 'solver': 'lbfgs', 'max_iter': 3250}. Best is trial 28 with value: 0.7755000000000001.\n",
      "[I 2025-03-09 15:05:33,208] Trial 61 finished with value: 0.7743333333333333 and parameters: {'C': 0.5589695929843925, 'solver': 'lbfgs', 'max_iter': 2775}. Best is trial 28 with value: 0.7755000000000001.\n",
      "[I 2025-03-09 15:05:33,394] Trial 66 finished with value: 0.7746666666666667 and parameters: {'C': 0.4694893465738779, 'solver': 'lbfgs', 'max_iter': 1636}. Best is trial 28 with value: 0.7755000000000001.\n",
      "[I 2025-03-09 15:05:33,403] Trial 65 finished with value: 0.7743333333333333 and parameters: {'C': 0.5017233525287441, 'solver': 'lbfgs', 'max_iter': 3255}. Best is trial 28 with value: 0.7755000000000001.\n",
      "[I 2025-03-09 15:05:33,420] Trial 78 finished with value: 0.7733333333333333 and parameters: {'C': 0.051809733009544806, 'solver': 'liblinear', 'max_iter': 7347}. Best is trial 28 with value: 0.7755000000000001.\n",
      "[I 2025-03-09 15:05:33,508] Trial 67 finished with value: 0.7746666666666667 and parameters: {'C': 0.4211838436294394, 'solver': 'lbfgs', 'max_iter': 1594}. Best is trial 28 with value: 0.7755000000000001.\n",
      "[I 2025-03-09 15:05:33,569] Trial 79 finished with value: 0.7748333333333334 and parameters: {'C': 0.03016792268118725, 'solver': 'liblinear', 'max_iter': 8691}. Best is trial 28 with value: 0.7755000000000001.\n",
      "[I 2025-03-09 15:05:33,647] Trial 80 finished with value: 0.7746666666666667 and parameters: {'C': 0.026501132721996376, 'solver': 'liblinear', 'max_iter': 8278}. Best is trial 28 with value: 0.7755000000000001.\n",
      "[I 2025-03-09 15:05:33,720] Trial 81 finished with value: 0.7748333333333334 and parameters: {'C': 0.0262245053203601, 'solver': 'liblinear', 'max_iter': 8092}. Best is trial 28 with value: 0.7755000000000001.\n",
      "[I 2025-03-09 15:05:34,113] Trial 82 finished with value: 0.774 and parameters: {'C': 1.588623968365688, 'solver': 'liblinear', 'max_iter': 7733}. Best is trial 28 with value: 0.7755000000000001.\n",
      "[I 2025-03-09 15:05:34,131] Trial 83 finished with value: 0.774 and parameters: {'C': 0.03452601083057673, 'solver': 'liblinear', 'max_iter': 8305}. Best is trial 28 with value: 0.7755000000000001.\n",
      "[I 2025-03-09 15:05:34,321] Trial 84 finished with value: 0.775 and parameters: {'C': 0.3064399984985907, 'solver': 'liblinear', 'max_iter': 8650}. Best is trial 28 with value: 0.7755000000000001.\n",
      "[I 2025-03-09 15:05:34,325] Trial 85 finished with value: 0.775 and parameters: {'C': 0.24393389918038405, 'solver': 'liblinear', 'max_iter': 8568}. Best is trial 28 with value: 0.7755000000000001.\n",
      "[I 2025-03-09 15:05:34,392] Trial 68 finished with value: 0.7746666666666667 and parameters: {'C': 0.4799748448525864, 'solver': 'lbfgs', 'max_iter': 1337}. Best is trial 28 with value: 0.7755000000000001.\n",
      "[I 2025-03-09 15:05:34,400] Trial 86 finished with value: 0.775 and parameters: {'C': 0.29521561439195826, 'solver': 'liblinear', 'max_iter': 8839}. Best is trial 28 with value: 0.7755000000000001.\n",
      "[I 2025-03-09 15:05:34,402] Trial 87 finished with value: 0.775 and parameters: {'C': 0.23401424122980138, 'solver': 'liblinear', 'max_iter': 9356}. Best is trial 28 with value: 0.7755000000000001.\n",
      "[I 2025-03-09 15:05:34,597] Trial 88 finished with value: 0.775 and parameters: {'C': 0.3046866426569724, 'solver': 'liblinear', 'max_iter': 8549}. Best is trial 28 with value: 0.7755000000000001.\n",
      "[I 2025-03-09 15:05:34,628] Trial 89 finished with value: 0.775 and parameters: {'C': 0.24258049854251443, 'solver': 'liblinear', 'max_iter': 9310}. Best is trial 28 with value: 0.7755000000000001.\n",
      "[I 2025-03-09 15:05:34,704] Trial 93 finished with value: 0.7748333333333334 and parameters: {'C': 0.2645426347790218, 'solver': 'liblinear', 'max_iter': 9394}. Best is trial 28 with value: 0.7755000000000001.\n",
      "[I 2025-03-09 15:05:34,759] Trial 91 finished with value: 0.775 and parameters: {'C': 0.24214198383696828, 'solver': 'liblinear', 'max_iter': 9387}. Best is trial 28 with value: 0.7755000000000001.\n",
      "[I 2025-03-09 15:05:34,802] Trial 90 finished with value: 0.775 and parameters: {'C': 0.23668186423311685, 'solver': 'liblinear', 'max_iter': 8453}. Best is trial 28 with value: 0.7755000000000001.\n",
      "[I 2025-03-09 15:05:34,811] Trial 92 finished with value: 0.775 and parameters: {'C': 0.3168891594736197, 'solver': 'liblinear', 'max_iter': 8559}. Best is trial 28 with value: 0.7755000000000001.\n",
      "[I 2025-03-09 15:05:34,841] Trial 95 finished with value: 0.7748333333333334 and parameters: {'C': 0.24569973141183835, 'solver': 'liblinear', 'max_iter': 9585}. Best is trial 28 with value: 0.7755000000000001.\n",
      "[I 2025-03-09 15:05:34,862] Trial 94 finished with value: 0.775 and parameters: {'C': 0.24134869319635016, 'solver': 'liblinear', 'max_iter': 9453}. Best is trial 28 with value: 0.7755000000000001.\n",
      "[I 2025-03-09 15:05:34,895] Trial 96 finished with value: 0.7753333333333333 and parameters: {'C': 0.20522333789264494, 'solver': 'liblinear', 'max_iter': 9689}. Best is trial 28 with value: 0.7755000000000001.\n",
      "[I 2025-03-09 15:05:34,957] Trial 98 finished with value: 0.7753333333333333 and parameters: {'C': 0.21020140211689625, 'solver': 'liblinear', 'max_iter': 9581}. Best is trial 28 with value: 0.7755000000000001.\n",
      "[I 2025-03-09 15:05:34,957] Trial 97 finished with value: 0.7751666666666667 and parameters: {'C': 0.22433388004661325, 'solver': 'liblinear', 'max_iter': 9362}. Best is trial 28 with value: 0.7755000000000001.\n",
      "[I 2025-03-09 15:05:34,972] Trial 99 finished with value: 0.7753333333333333 and parameters: {'C': 0.18489841130494675, 'solver': 'liblinear', 'max_iter': 9603}. Best is trial 28 with value: 0.7755000000000001.\n",
      "[I 2025-03-09 15:05:34,974] A new study created in memory with name: no-name-dbc8ff9a-fa86-4d0f-8542-a50127057c7b\n",
      "[I 2025-03-09 15:05:39,953] Trial 5 finished with value: 0.7736666666666666 and parameters: {'C': 0.020893767582269872, 'kernel': 'linear', 'gamma': 'scale'}. Best is trial 5 with value: 0.7736666666666666.\n",
      "[I 2025-03-09 15:05:40,873] Trial 12 finished with value: 0.7735 and parameters: {'C': 0.21690607170144766, 'kernel': 'rbf', 'gamma': 0.01}. Best is trial 5 with value: 0.7736666666666666.\n",
      "[I 2025-03-09 15:05:41,228] Trial 6 finished with value: 0.7735 and parameters: {'C': 0.28263846823728195, 'kernel': 'rbf', 'gamma': 0.01}. Best is trial 5 with value: 0.7736666666666666.\n",
      "[I 2025-03-09 15:05:41,299] Trial 8 finished with value: 0.7718333333333334 and parameters: {'C': 0.021929344534954872, 'kernel': 'rbf', 'gamma': 0.01}. Best is trial 5 with value: 0.7736666666666666.\n",
      "[I 2025-03-09 15:05:41,306] Trial 2 finished with value: 0.7651666666666667 and parameters: {'C': 0.0561140753411212, 'kernel': 'rbf', 'gamma': 0.1}. Best is trial 5 with value: 0.7736666666666666.\n",
      "[I 2025-03-09 15:05:41,763] Trial 9 finished with value: 0.7723333333333334 and parameters: {'C': 0.7590974514598852, 'kernel': 'rbf', 'gamma': 'scale'}. Best is trial 5 with value: 0.7736666666666666.\n",
      "[I 2025-03-09 15:05:42,301] Trial 14 finished with value: 0.7715 and parameters: {'C': 0.21825893519868242, 'kernel': 'rbf', 'gamma': 'scale'}. Best is trial 5 with value: 0.7736666666666666.\n",
      "[I 2025-03-09 15:05:42,686] Trial 15 finished with value: 0.7736666666666666 and parameters: {'C': 0.11189697919849069, 'kernel': 'linear', 'gamma': 0.01}. Best is trial 5 with value: 0.7736666666666666.\n",
      "[I 2025-03-09 15:05:43,198] Trial 13 finished with value: 0.7695 and parameters: {'C': 15.490690111004062, 'kernel': 'rbf', 'gamma': 'auto'}. Best is trial 5 with value: 0.7736666666666666.\n",
      "[I 2025-03-09 15:05:43,449] Trial 0 finished with value: 0.765 and parameters: {'C': 35.253010368885924, 'kernel': 'rbf', 'gamma': 'auto'}. Best is trial 5 with value: 0.7736666666666666.\n",
      "[I 2025-03-09 15:05:44,036] Trial 1 finished with value: 0.7736666666666666 and parameters: {'C': 0.147663835780034, 'kernel': 'linear', 'gamma': 0.1}. Best is trial 5 with value: 0.7736666666666666.\n",
      "[I 2025-03-09 15:05:44,075] Trial 3 finished with value: 0.7736666666666666 and parameters: {'C': 0.1942120972630104, 'kernel': 'linear', 'gamma': 'auto'}. Best is trial 5 with value: 0.7736666666666666.\n",
      "[I 2025-03-09 15:05:46,175] Trial 7 finished with value: 0.7736666666666666 and parameters: {'C': 0.29470018052263397, 'kernel': 'linear', 'gamma': 0.01}. Best is trial 5 with value: 0.7736666666666666.\n",
      "[I 2025-03-09 15:05:46,731] Trial 18 finished with value: 0.7736666666666666 and parameters: {'C': 0.057627856719045675, 'kernel': 'linear', 'gamma': 0.01}. Best is trial 5 with value: 0.7736666666666666.\n",
      "[I 2025-03-09 15:05:47,204] Trial 20 finished with value: 0.7731666666666666 and parameters: {'C': 0.5344184555153098, 'kernel': 'rbf', 'gamma': 0.01}. Best is trial 5 with value: 0.7736666666666666.\n",
      "[I 2025-03-09 15:05:47,481] Trial 21 finished with value: 0.7475 and parameters: {'C': 0.01679250127231685, 'kernel': 'rbf', 'gamma': 0.01}. Best is trial 5 with value: 0.7736666666666666.\n",
      "[I 2025-03-09 15:05:48,241] Trial 22 finished with value: 0.7733333333333334 and parameters: {'C': 0.44913400409869514, 'kernel': 'rbf', 'gamma': 0.01}. Best is trial 5 with value: 0.7736666666666666.\n",
      "[I 2025-03-09 15:05:48,363] Trial 26 finished with value: 0.7736666666666666 and parameters: {'C': 0.013154459461652977, 'kernel': 'linear', 'gamma': 0.1}. Best is trial 5 with value: 0.7736666666666666.\n",
      "[I 2025-03-09 15:05:48,628] Trial 23 finished with value: 0.7733333333333334 and parameters: {'C': 1.0522064906775845, 'kernel': 'rbf', 'gamma': 0.01}. Best is trial 5 with value: 0.7736666666666666.\n",
      "[I 2025-03-09 15:05:49,480] Trial 24 finished with value: 0.7723333333333334 and parameters: {'C': 0.1377418112729537, 'kernel': 'rbf', 'gamma': 'auto'}. Best is trial 5 with value: 0.7736666666666666.\n",
      "[I 2025-03-09 15:05:49,581] Trial 19 finished with value: 0.7719999999999999 and parameters: {'C': 38.535002544808755, 'kernel': 'rbf', 'gamma': 0.01}. Best is trial 5 with value: 0.7736666666666666.\n",
      "[I 2025-03-09 15:05:55,176] Trial 16 finished with value: 0.7735 and parameters: {'C': 0.45666186937259656, 'kernel': 'linear', 'gamma': 0.1}. Best is trial 5 with value: 0.7736666666666666.\n",
      "[I 2025-03-09 15:05:57,051] Trial 17 finished with value: 0.7735 and parameters: {'C': 0.6325705121155489, 'kernel': 'linear', 'gamma': 'auto'}. Best is trial 5 with value: 0.7736666666666666.\n",
      "[I 2025-03-09 15:06:43,806] Trial 36 finished with value: 0.7725 and parameters: {'C': 1.9854141711919444, 'kernel': 'linear', 'gamma': 0.1}. Best is trial 5 with value: 0.7736666666666666.\n",
      "[I 2025-03-09 15:06:46,089] Trial 38 finished with value: 0.7725 and parameters: {'C': 1.7747794082877149, 'kernel': 'linear', 'gamma': 'scale'}. Best is trial 5 with value: 0.7736666666666666.\n",
      "[I 2025-03-09 15:06:47,409] Trial 39 finished with value: 0.7736666666666666 and parameters: {'C': 0.04048368502027984, 'kernel': 'linear', 'gamma': 'scale'}. Best is trial 5 with value: 0.7736666666666666.\n",
      "[I 2025-03-09 15:06:50,575] Trial 40 finished with value: 0.7736666666666666 and parameters: {'C': 0.0351705137412291, 'kernel': 'linear', 'gamma': 'scale'}. Best is trial 5 with value: 0.7736666666666666.\n",
      "[I 2025-03-09 15:06:50,881] Trial 33 finished with value: 0.7725 and parameters: {'C': 2.473408630005403, 'kernel': 'linear', 'gamma': 0.1}. Best is trial 5 with value: 0.7736666666666666.\n",
      "[I 2025-03-09 15:06:51,348] Trial 29 finished with value: 0.7725 and parameters: {'C': 2.314780939878036, 'kernel': 'linear', 'gamma': 0.1}. Best is trial 5 with value: 0.7736666666666666.\n",
      "[I 2025-03-09 15:06:56,853] Trial 25 finished with value: 0.7725 and parameters: {'C': 3.169528470784952, 'kernel': 'linear', 'gamma': 'scale'}. Best is trial 5 with value: 0.7736666666666666.\n",
      "[I 2025-03-09 15:06:58,235] Trial 44 finished with value: 0.7736666666666666 and parameters: {'C': 0.08975016108478794, 'kernel': 'linear', 'gamma': 'auto'}. Best is trial 5 with value: 0.7736666666666666.\n",
      "[I 2025-03-09 15:06:58,542] Trial 35 finished with value: 0.7725 and parameters: {'C': 2.360516901703924, 'kernel': 'linear', 'gamma': 0.1}. Best is trial 5 with value: 0.7736666666666666.\n",
      "[I 2025-03-09 15:06:58,923] Trial 31 finished with value: 0.7725 and parameters: {'C': 3.3870692249624863, 'kernel': 'linear', 'gamma': 0.1}. Best is trial 5 with value: 0.7736666666666666.\n",
      "[I 2025-03-09 15:07:02,842] Trial 45 finished with value: 0.7736666666666666 and parameters: {'C': 0.10184856329157575, 'kernel': 'linear', 'gamma': 'auto'}. Best is trial 5 with value: 0.7736666666666666.\n",
      "[I 2025-03-09 15:07:03,836] Trial 47 finished with value: 0.7736666666666666 and parameters: {'C': 0.07833596175457237, 'kernel': 'linear', 'gamma': 'auto'}. Best is trial 5 with value: 0.7736666666666666.\n",
      "[I 2025-03-09 15:07:04,665] Trial 48 finished with value: 0.7736666666666666 and parameters: {'C': 0.07477643131036632, 'kernel': 'linear', 'gamma': 'auto'}. Best is trial 5 with value: 0.7736666666666666.\n",
      "[I 2025-03-09 15:07:05,843] Trial 37 finished with value: 0.7725 and parameters: {'C': 2.390982847571564, 'kernel': 'linear', 'gamma': 'scale'}. Best is trial 5 with value: 0.7736666666666666.\n",
      "[I 2025-03-09 15:07:07,195] Trial 50 finished with value: 0.7736666666666666 and parameters: {'C': 0.022638556639632088, 'kernel': 'linear', 'gamma': 'scale'}. Best is trial 5 with value: 0.7736666666666666.\n",
      "[I 2025-03-09 15:07:09,316] Trial 51 finished with value: 0.7736666666666666 and parameters: {'C': 0.031195766228804635, 'kernel': 'linear', 'gamma': 'scale'}. Best is trial 5 with value: 0.7736666666666666.\n",
      "[I 2025-03-09 15:07:13,609] Trial 49 finished with value: 0.7736666666666666 and parameters: {'C': 0.29443449111850456, 'kernel': 'linear', 'gamma': 'auto'}. Best is trial 5 with value: 0.7736666666666666.\n",
      "[I 2025-03-09 15:07:14,077] Trial 28 finished with value: 0.7725 and parameters: {'C': 3.6398264895064685, 'kernel': 'linear', 'gamma': 0.1}. Best is trial 5 with value: 0.7736666666666666.\n",
      "[I 2025-03-09 15:07:14,979] Trial 52 finished with value: 0.7736666666666666 and parameters: {'C': 0.2758173981659703, 'kernel': 'linear', 'gamma': 'scale'}. Best is trial 5 with value: 0.7736666666666666.\n",
      "[I 2025-03-09 15:07:18,796] Trial 34 finished with value: 0.7725 and parameters: {'C': 3.8706318064347127, 'kernel': 'linear', 'gamma': 0.1}. Best is trial 5 with value: 0.7736666666666666.\n",
      "[I 2025-03-09 15:07:22,147] Trial 55 finished with value: 0.7736666666666666 and parameters: {'C': 0.1630890169835186, 'kernel': 'linear', 'gamma': 0.1}. Best is trial 5 with value: 0.7736666666666666.\n",
      "[I 2025-03-09 15:07:22,236] Trial 32 finished with value: 0.7725 and parameters: {'C': 3.5454086528389386, 'kernel': 'linear', 'gamma': 0.1}. Best is trial 5 with value: 0.7736666666666666.\n",
      "[I 2025-03-09 15:07:22,748] Trial 57 finished with value: 0.7736666666666666 and parameters: {'C': 0.14585680343192012, 'kernel': 'linear', 'gamma': 0.01}. Best is trial 5 with value: 0.7736666666666666.\n",
      "[I 2025-03-09 15:07:23,335] Trial 56 finished with value: 0.7736666666666666 and parameters: {'C': 0.18532593930664767, 'kernel': 'linear', 'gamma': 0.01}. Best is trial 5 with value: 0.7736666666666666.\n",
      "[I 2025-03-09 15:07:25,957] Trial 58 finished with value: 0.7736666666666666 and parameters: {'C': 0.15561932344429266, 'kernel': 'linear', 'gamma': 0.01}. Best is trial 5 with value: 0.7736666666666666.\n",
      "[I 2025-03-09 15:07:27,906] Trial 61 finished with value: 0.7736666666666666 and parameters: {'C': 0.05305852947168118, 'kernel': 'linear', 'gamma': 0.01}. Best is trial 5 with value: 0.7736666666666666.\n",
      "[I 2025-03-09 15:07:32,156] Trial 27 finished with value: 0.7725 and parameters: {'C': 5.378725896964684, 'kernel': 'linear', 'gamma': 0.1}. Best is trial 5 with value: 0.7736666666666666.\n",
      "[I 2025-03-09 15:07:35,243] Trial 30 finished with value: 0.7725 and parameters: {'C': 4.883535412371942, 'kernel': 'linear', 'gamma': 0.1}. Best is trial 5 with value: 0.7736666666666666.\n",
      "[I 2025-03-09 15:07:35,861] Trial 62 finished with value: 0.7736666666666666 and parameters: {'C': 0.3601845791084177, 'kernel': 'linear', 'gamma': 0.01}. Best is trial 5 with value: 0.7736666666666666.\n",
      "[I 2025-03-09 15:07:39,025] Trial 67 finished with value: 0.7736666666666666 and parameters: {'C': 0.01018085102883543, 'kernel': 'linear', 'gamma': 0.01}. Best is trial 5 with value: 0.7736666666666666.\n",
      "[I 2025-03-09 15:07:40,313] Trial 64 finished with value: 0.7736666666666666 and parameters: {'C': 0.3728683432814565, 'kernel': 'linear', 'gamma': 0.01}. Best is trial 5 with value: 0.7736666666666666.\n",
      "[I 2025-03-09 15:07:44,024] Trial 68 finished with value: 0.7733333333333334 and parameters: {'C': 0.9155574316783672, 'kernel': 'rbf', 'gamma': 0.01}. Best is trial 5 with value: 0.7736666666666666.\n",
      "[I 2025-03-09 15:07:46,417] Trial 69 finished with value: 0.773 and parameters: {'C': 0.05202559931054091, 'kernel': 'rbf', 'gamma': 0.01}. Best is trial 5 with value: 0.7736666666666666.\n",
      "[I 2025-03-09 15:07:47,406] Trial 66 finished with value: 0.7735 and parameters: {'C': 0.39161171540039225, 'kernel': 'linear', 'gamma': 0.01}. Best is trial 5 with value: 0.7736666666666666.\n",
      "[I 2025-03-09 15:07:48,774] Trial 70 finished with value: 0.7736666666666666 and parameters: {'C': 0.05572617201005616, 'kernel': 'linear', 'gamma': 0.01}. Best is trial 5 with value: 0.7736666666666666.\n",
      "[I 2025-03-09 15:07:50,704] Trial 59 finished with value: 0.7735 and parameters: {'C': 1.0836030607982992, 'kernel': 'linear', 'gamma': 0.01}. Best is trial 5 with value: 0.7736666666666666.\n",
      "[I 2025-03-09 15:07:51,398] Trial 71 finished with value: 0.7736666666666666 and parameters: {'C': 0.023282451696144, 'kernel': 'linear', 'gamma': 0.01}. Best is trial 5 with value: 0.7736666666666666.\n",
      "[I 2025-03-09 15:07:51,475] Trial 72 finished with value: 0.7736666666666666 and parameters: {'C': 0.022863515394959878, 'kernel': 'linear', 'gamma': 'auto'}. Best is trial 5 with value: 0.7736666666666666.\n",
      "[I 2025-03-09 15:07:53,292] Trial 73 finished with value: 0.7736666666666666 and parameters: {'C': 0.024168485046634467, 'kernel': 'linear', 'gamma': 'auto'}. Best is trial 5 with value: 0.7736666666666666.\n",
      "[I 2025-03-09 15:07:54,555] Trial 74 finished with value: 0.7736666666666666 and parameters: {'C': 0.01987856551617596, 'kernel': 'linear', 'gamma': 'auto'}. Best is trial 5 with value: 0.7736666666666666.\n",
      "[I 2025-03-09 15:07:54,715] Trial 60 finished with value: 0.7735 and parameters: {'C': 1.0442315577157004, 'kernel': 'linear', 'gamma': 0.01}. Best is trial 5 with value: 0.7736666666666666.\n",
      "[I 2025-03-09 15:07:56,887] Trial 77 finished with value: 0.7736666666666666 and parameters: {'C': 0.01358375775303341, 'kernel': 'linear', 'gamma': 0.1}. Best is trial 5 with value: 0.7736666666666666.\n",
      "[I 2025-03-09 15:07:57,830] Trial 78 finished with value: 0.7736666666666666 and parameters: {'C': 0.010231688333444955, 'kernel': 'linear', 'gamma': 0.1}. Best is trial 5 with value: 0.7736666666666666.\n",
      "[I 2025-03-09 15:07:58,184] Trial 79 finished with value: 0.7736666666666666 and parameters: {'C': 0.01254633320117496, 'kernel': 'linear', 'gamma': 0.1}. Best is trial 5 with value: 0.7736666666666666.\n",
      "[I 2025-03-09 15:08:01,031] Trial 75 finished with value: 0.7736666666666666 and parameters: {'C': 0.21733197297165333, 'kernel': 'linear', 'gamma': 'auto'}. Best is trial 5 with value: 0.7736666666666666.\n",
      "[I 2025-03-09 15:08:02,714] Trial 80 finished with value: 0.7708333333333334 and parameters: {'C': 0.24485808516657415, 'kernel': 'rbf', 'gamma': 0.1}. Best is trial 5 with value: 0.7736666666666666.\n",
      "[I 2025-03-09 15:08:03,832] Trial 81 finished with value: 0.7686666666666667 and parameters: {'C': 0.11228833576823488, 'kernel': 'rbf', 'gamma': 0.1}. Best is trial 5 with value: 0.7736666666666666.\n",
      "[I 2025-03-09 15:08:07,414] Trial 83 finished with value: 0.7683333333333334 and parameters: {'C': 0.10672051509714915, 'kernel': 'rbf', 'gamma': 0.1}. Best is trial 5 with value: 0.7736666666666666.\n",
      "[I 2025-03-09 15:08:08,768] Trial 84 finished with value: 0.7736666666666666 and parameters: {'C': 0.1137271220862263, 'kernel': 'linear', 'gamma': 'scale'}. Best is trial 5 with value: 0.7736666666666666.\n",
      "[I 2025-03-09 15:08:10,962] Trial 82 finished with value: 0.7143333333333334 and parameters: {'C': 86.59745217761204, 'kernel': 'rbf', 'gamma': 0.1}. Best is trial 5 with value: 0.7736666666666666.\n",
      "[I 2025-03-09 15:08:12,433] Trial 86 finished with value: 0.7736666666666666 and parameters: {'C': 0.03695248378957215, 'kernel': 'linear', 'gamma': 'scale'}. Best is trial 5 with value: 0.7736666666666666.\n",
      "[I 2025-03-09 15:08:15,009] Trial 88 finished with value: 0.7736666666666666 and parameters: {'C': 0.037023475822068386, 'kernel': 'linear', 'gamma': 'scale'}. Best is trial 5 with value: 0.7736666666666666.\n",
      "[I 2025-03-09 15:08:16,750] Trial 89 finished with value: 0.7736666666666666 and parameters: {'C': 0.0392035509351164, 'kernel': 'linear', 'gamma': 'scale'}. Best is trial 5 with value: 0.7736666666666666.\n",
      "[I 2025-03-09 15:08:18,782] Trial 85 finished with value: 0.7735 and parameters: {'C': 0.5621386234315474, 'kernel': 'linear', 'gamma': 'scale'}. Best is trial 5 with value: 0.7736666666666666.\n",
      "[I 2025-03-09 15:08:20,475] Trial 90 finished with value: 0.7736666666666666 and parameters: {'C': 0.07661334894563789, 'kernel': 'linear', 'gamma': 'scale'}. Best is trial 5 with value: 0.7736666666666666.\n",
      "[I 2025-03-09 15:08:22,087] Trial 91 finished with value: 0.7736666666666666 and parameters: {'C': 0.07644660654387055, 'kernel': 'linear', 'gamma': 'scale'}. Best is trial 5 with value: 0.7736666666666666.\n",
      "[I 2025-03-09 15:08:24,472] Trial 92 finished with value: 0.7736666666666666 and parameters: {'C': 0.06655908729590812, 'kernel': 'linear', 'gamma': 'scale'}. Best is trial 5 with value: 0.7736666666666666.\n",
      "[I 2025-03-09 15:08:24,821] Trial 93 finished with value: 0.7736666666666666 and parameters: {'C': 0.01616011324755813, 'kernel': 'linear', 'gamma': 'scale'}. Best is trial 5 with value: 0.7736666666666666.\n",
      "[I 2025-03-09 15:08:26,664] Trial 94 finished with value: 0.7736666666666666 and parameters: {'C': 0.014824077364483636, 'kernel': 'linear', 'gamma': 0.01}. Best is trial 5 with value: 0.7736666666666666.\n",
      "[I 2025-03-09 15:08:27,056] Trial 42 finished with value: 0.7725 and parameters: {'C': 4.991140912947195, 'kernel': 'linear', 'gamma': 'auto'}. Best is trial 5 with value: 0.7736666666666666.\n",
      "[I 2025-03-09 15:08:29,094] Trial 95 finished with value: 0.7736666666666666 and parameters: {'C': 0.028767465594999597, 'kernel': 'linear', 'gamma': 0.01}. Best is trial 5 with value: 0.7736666666666666.\n",
      "[I 2025-03-09 15:08:30,129] Trial 96 finished with value: 0.7736666666666666 and parameters: {'C': 0.030797514501149332, 'kernel': 'linear', 'gamma': 'scale'}. Best is trial 5 with value: 0.7736666666666666.\n",
      "[I 2025-03-09 15:08:31,241] Trial 98 finished with value: 0.7736666666666666 and parameters: {'C': 0.04076564508311334, 'kernel': 'linear', 'gamma': 'scale'}. Best is trial 5 with value: 0.7736666666666666.\n",
      "[I 2025-03-09 15:08:31,738] Trial 97 finished with value: 0.7736666666666666 and parameters: {'C': 0.029664842233280336, 'kernel': 'linear', 'gamma': 'scale'}. Best is trial 5 with value: 0.7736666666666666.\n",
      "[I 2025-03-09 15:08:34,079] Trial 99 finished with value: 0.7736666666666666 and parameters: {'C': 0.04374577614579006, 'kernel': 'linear', 'gamma': 'scale'}. Best is trial 5 with value: 0.7736666666666666.\n",
      "[I 2025-03-09 15:08:37,998] Trial 43 finished with value: 0.7725 and parameters: {'C': 5.524235616788237, 'kernel': 'linear', 'gamma': 'auto'}. Best is trial 5 with value: 0.7736666666666666.\n",
      "[I 2025-03-09 15:08:50,517] Trial 10 finished with value: 0.7725 and parameters: {'C': 10.003274140557888, 'kernel': 'linear', 'gamma': 0.01}. Best is trial 5 with value: 0.7736666666666666.\n",
      "[I 2025-03-09 15:08:58,872] Trial 46 finished with value: 0.7725 and parameters: {'C': 5.452562914074051, 'kernel': 'linear', 'gamma': 'auto'}. Best is trial 5 with value: 0.7736666666666666.\n",
      "[I 2025-03-09 15:09:10,520] Trial 41 finished with value: 0.7725 and parameters: {'C': 7.533029446857836, 'kernel': 'linear', 'gamma': 'scale'}. Best is trial 5 with value: 0.7736666666666666.\n",
      "[I 2025-03-09 15:09:28,993] Trial 53 finished with value: 0.7725 and parameters: {'C': 7.265341642319696, 'kernel': 'linear', 'gamma': 'auto'}. Best is trial 5 with value: 0.7736666666666666.\n",
      "[I 2025-03-09 15:14:00,455] Trial 4 finished with value: 0.7725 and parameters: {'C': 30.753003948527333, 'kernel': 'linear', 'gamma': 0.1}. Best is trial 5 with value: 0.7736666666666666.\n",
      "[I 2025-03-09 16:08:35,808] Trial 11 finished with value: 0.7725 and parameters: {'C': 89.04197043385727, 'kernel': 'linear', 'gamma': 0.01}. Best is trial 5 with value: 0.7736666666666666.\n",
      "[I 2025-03-09 16:08:48,301] Trial 65 finished with value: 0.7725 and parameters: {'C': 86.62822921530426, 'kernel': 'linear', 'gamma': 0.01}. Best is trial 5 with value: 0.7736666666666666.\n",
      "[I 2025-03-09 16:09:01,675] Trial 54 finished with value: 0.7725 and parameters: {'C': 90.9146182788384, 'kernel': 'linear', 'gamma': 'auto'}. Best is trial 5 with value: 0.7736666666666666.\n",
      "[I 2025-03-09 16:10:43,724] Trial 76 finished with value: 0.7725 and parameters: {'C': 97.87325330017875, 'kernel': 'linear', 'gamma': 0.1}. Best is trial 5 with value: 0.7736666666666666.\n",
      "[I 2025-03-09 16:12:15,074] Trial 87 finished with value: 0.7725 and parameters: {'C': 97.91657550117813, 'kernel': 'linear', 'gamma': 'scale'}. Best is trial 5 with value: 0.7736666666666666.\n",
      "[I 2025-03-09 16:12:45,164] Trial 63 finished with value: 0.7725 and parameters: {'C': 97.65409263753438, 'kernel': 'linear', 'gamma': 0.01}. Best is trial 5 with value: 0.7736666666666666.\n"
     ]
    },
    {
     "data": {
      "application/vnd.plotly.v1+json": {
       "config": {
        "plotlyServerURL": "https://plot.ly"
       },
       "data": [
        {
         "mode": "markers",
         "name": "Objective Value",
         "type": "scatter",
         "x": [
          0,
          1,
          2,
          3,
          4,
          5,
          6,
          7,
          8,
          9,
          10,
          11,
          12,
          13,
          14,
          15,
          16,
          17,
          18,
          19,
          20,
          21,
          22,
          23,
          24,
          25,
          26,
          27,
          28,
          29,
          30,
          31,
          32,
          33,
          34,
          35,
          36,
          37,
          38,
          39,
          40,
          41,
          42,
          43,
          44,
          45,
          46,
          47,
          48,
          49,
          50,
          51,
          52,
          53,
          54,
          55,
          56,
          57,
          58,
          59,
          60,
          61,
          62,
          63,
          64,
          65,
          66,
          67,
          68,
          69,
          70,
          71,
          72,
          73,
          74,
          75,
          76,
          77,
          78,
          79,
          80,
          81,
          82,
          83,
          84,
          85,
          86,
          87,
          88,
          89,
          90,
          91,
          92,
          93,
          94,
          95,
          96,
          97,
          98,
          99
         ],
         "y": [
          0.774,
          0.7735,
          0.774,
          0.7753333333333333,
          0.774,
          0.773,
          0.773,
          0.7748333333333334,
          0.7735,
          0.773,
          0.7753333333333333,
          0.7743333333333333,
          0.7738333333333333,
          0.7735,
          0.7733333333333333,
          0.773,
          0.774,
          0.773,
          0.7743333333333333,
          0.7746666666666666,
          0.774,
          0.7749999999999999,
          0.7736666666666666,
          0.7735,
          0.7738333333333333,
          0.7751666666666667,
          0.7753333333333333,
          0.7753333333333333,
          0.7755000000000001,
          0.7748333333333334,
          0.7749999999999999,
          0.7748333333333334,
          0.7753333333333333,
          0.7748333333333334,
          0.773,
          0.7728333333333334,
          0.7753333333333333,
          0.7753333333333333,
          0.7753333333333333,
          0.7728333333333333,
          0.7736666666666666,
          0.7725,
          0.7733333333333333,
          0.7733333333333334,
          0.7741666666666666,
          0.7733333333333334,
          0.7741666666666668,
          0.7728333333333334,
          0.774,
          0.7741666666666668,
          0.7741666666666668,
          0.774,
          0.7741666666666668,
          0.7743333333333333,
          0.7746666666666667,
          0.7733333333333334,
          0.7746666666666667,
          0.7745000000000001,
          0.7745000000000001,
          0.775,
          0.7748333333333334,
          0.7743333333333333,
          0.7745000000000001,
          0.7743333333333333,
          0.7746666666666666,
          0.7743333333333333,
          0.7746666666666667,
          0.7746666666666667,
          0.7746666666666667,
          0.7748333333333334,
          0.7741666666666666,
          0.775,
          0.775,
          0.7753333333333333,
          0.775,
          0.7751666666666667,
          0.775,
          0.7748333333333334,
          0.7733333333333333,
          0.7748333333333334,
          0.7746666666666667,
          0.7748333333333334,
          0.774,
          0.774,
          0.775,
          0.775,
          0.775,
          0.775,
          0.775,
          0.775,
          0.775,
          0.775,
          0.775,
          0.7748333333333334,
          0.775,
          0.7748333333333334,
          0.7753333333333333,
          0.7751666666666667,
          0.7753333333333333,
          0.7753333333333333
         ]
        },
        {
         "mode": "lines",
         "name": "Best Value",
         "type": "scatter",
         "x": [
          0,
          1,
          2,
          3,
          4,
          5,
          6,
          7,
          8,
          9,
          10,
          11,
          12,
          13,
          14,
          15,
          16,
          17,
          18,
          19,
          20,
          21,
          22,
          23,
          24,
          25,
          26,
          27,
          28,
          29,
          30,
          31,
          32,
          33,
          34,
          35,
          36,
          37,
          38,
          39,
          40,
          41,
          42,
          43,
          44,
          45,
          46,
          47,
          48,
          49,
          50,
          51,
          52,
          53,
          54,
          55,
          56,
          57,
          58,
          59,
          60,
          61,
          62,
          63,
          64,
          65,
          66,
          67,
          68,
          69,
          70,
          71,
          72,
          73,
          74,
          75,
          76,
          77,
          78,
          79,
          80,
          81,
          82,
          83,
          84,
          85,
          86,
          87,
          88,
          89,
          90,
          91,
          92,
          93,
          94,
          95,
          96,
          97,
          98,
          99
         ],
         "y": [
          0.774,
          0.774,
          0.774,
          0.7753333333333333,
          0.7753333333333333,
          0.7753333333333333,
          0.7753333333333333,
          0.7753333333333333,
          0.7753333333333333,
          0.7753333333333333,
          0.7753333333333333,
          0.7753333333333333,
          0.7753333333333333,
          0.7753333333333333,
          0.7753333333333333,
          0.7753333333333333,
          0.7753333333333333,
          0.7753333333333333,
          0.7753333333333333,
          0.7753333333333333,
          0.7753333333333333,
          0.7753333333333333,
          0.7753333333333333,
          0.7753333333333333,
          0.7753333333333333,
          0.7753333333333333,
          0.7753333333333333,
          0.7753333333333333,
          0.7755000000000001,
          0.7755000000000001,
          0.7755000000000001,
          0.7755000000000001,
          0.7755000000000001,
          0.7755000000000001,
          0.7755000000000001,
          0.7755000000000001,
          0.7755000000000001,
          0.7755000000000001,
          0.7755000000000001,
          0.7755000000000001,
          0.7755000000000001,
          0.7755000000000001,
          0.7755000000000001,
          0.7755000000000001,
          0.7755000000000001,
          0.7755000000000001,
          0.7755000000000001,
          0.7755000000000001,
          0.7755000000000001,
          0.7755000000000001,
          0.7755000000000001,
          0.7755000000000001,
          0.7755000000000001,
          0.7755000000000001,
          0.7755000000000001,
          0.7755000000000001,
          0.7755000000000001,
          0.7755000000000001,
          0.7755000000000001,
          0.7755000000000001,
          0.7755000000000001,
          0.7755000000000001,
          0.7755000000000001,
          0.7755000000000001,
          0.7755000000000001,
          0.7755000000000001,
          0.7755000000000001,
          0.7755000000000001,
          0.7755000000000001,
          0.7755000000000001,
          0.7755000000000001,
          0.7755000000000001,
          0.7755000000000001,
          0.7755000000000001,
          0.7755000000000001,
          0.7755000000000001,
          0.7755000000000001,
          0.7755000000000001,
          0.7755000000000001,
          0.7755000000000001,
          0.7755000000000001,
          0.7755000000000001,
          0.7755000000000001,
          0.7755000000000001,
          0.7755000000000001,
          0.7755000000000001,
          0.7755000000000001,
          0.7755000000000001,
          0.7755000000000001,
          0.7755000000000001,
          0.7755000000000001,
          0.7755000000000001,
          0.7755000000000001,
          0.7755000000000001,
          0.7755000000000001,
          0.7755000000000001,
          0.7755000000000001,
          0.7755000000000001,
          0.7755000000000001,
          0.7755000000000001
         ]
        },
        {
         "marker": {
          "color": "#cccccc"
         },
         "mode": "markers",
         "name": "Infeasible Trial",
         "showlegend": false,
         "type": "scatter",
         "x": [],
         "y": []
        }
       ],
       "layout": {
        "template": {
         "data": {
          "bar": [
           {
            "error_x": {
             "color": "#2a3f5f"
            },
            "error_y": {
             "color": "#2a3f5f"
            },
            "marker": {
             "line": {
              "color": "#E5ECF6",
              "width": 0.5
             },
             "pattern": {
              "fillmode": "overlay",
              "size": 10,
              "solidity": 0.2
             }
            },
            "type": "bar"
           }
          ],
          "barpolar": [
           {
            "marker": {
             "line": {
              "color": "#E5ECF6",
              "width": 0.5
             },
             "pattern": {
              "fillmode": "overlay",
              "size": 10,
              "solidity": 0.2
             }
            },
            "type": "barpolar"
           }
          ],
          "carpet": [
           {
            "aaxis": {
             "endlinecolor": "#2a3f5f",
             "gridcolor": "white",
             "linecolor": "white",
             "minorgridcolor": "white",
             "startlinecolor": "#2a3f5f"
            },
            "baxis": {
             "endlinecolor": "#2a3f5f",
             "gridcolor": "white",
             "linecolor": "white",
             "minorgridcolor": "white",
             "startlinecolor": "#2a3f5f"
            },
            "type": "carpet"
           }
          ],
          "choropleth": [
           {
            "colorbar": {
             "outlinewidth": 0,
             "ticks": ""
            },
            "type": "choropleth"
           }
          ],
          "contour": [
           {
            "colorbar": {
             "outlinewidth": 0,
             "ticks": ""
            },
            "colorscale": [
             [
              0,
              "#0d0887"
             ],
             [
              0.1111111111111111,
              "#46039f"
             ],
             [
              0.2222222222222222,
              "#7201a8"
             ],
             [
              0.3333333333333333,
              "#9c179e"
             ],
             [
              0.4444444444444444,
              "#bd3786"
             ],
             [
              0.5555555555555556,
              "#d8576b"
             ],
             [
              0.6666666666666666,
              "#ed7953"
             ],
             [
              0.7777777777777778,
              "#fb9f3a"
             ],
             [
              0.8888888888888888,
              "#fdca26"
             ],
             [
              1,
              "#f0f921"
             ]
            ],
            "type": "contour"
           }
          ],
          "contourcarpet": [
           {
            "colorbar": {
             "outlinewidth": 0,
             "ticks": ""
            },
            "type": "contourcarpet"
           }
          ],
          "heatmap": [
           {
            "colorbar": {
             "outlinewidth": 0,
             "ticks": ""
            },
            "colorscale": [
             [
              0,
              "#0d0887"
             ],
             [
              0.1111111111111111,
              "#46039f"
             ],
             [
              0.2222222222222222,
              "#7201a8"
             ],
             [
              0.3333333333333333,
              "#9c179e"
             ],
             [
              0.4444444444444444,
              "#bd3786"
             ],
             [
              0.5555555555555556,
              "#d8576b"
             ],
             [
              0.6666666666666666,
              "#ed7953"
             ],
             [
              0.7777777777777778,
              "#fb9f3a"
             ],
             [
              0.8888888888888888,
              "#fdca26"
             ],
             [
              1,
              "#f0f921"
             ]
            ],
            "type": "heatmap"
           }
          ],
          "histogram": [
           {
            "marker": {
             "pattern": {
              "fillmode": "overlay",
              "size": 10,
              "solidity": 0.2
             }
            },
            "type": "histogram"
           }
          ],
          "histogram2d": [
           {
            "colorbar": {
             "outlinewidth": 0,
             "ticks": ""
            },
            "colorscale": [
             [
              0,
              "#0d0887"
             ],
             [
              0.1111111111111111,
              "#46039f"
             ],
             [
              0.2222222222222222,
              "#7201a8"
             ],
             [
              0.3333333333333333,
              "#9c179e"
             ],
             [
              0.4444444444444444,
              "#bd3786"
             ],
             [
              0.5555555555555556,
              "#d8576b"
             ],
             [
              0.6666666666666666,
              "#ed7953"
             ],
             [
              0.7777777777777778,
              "#fb9f3a"
             ],
             [
              0.8888888888888888,
              "#fdca26"
             ],
             [
              1,
              "#f0f921"
             ]
            ],
            "type": "histogram2d"
           }
          ],
          "histogram2dcontour": [
           {
            "colorbar": {
             "outlinewidth": 0,
             "ticks": ""
            },
            "colorscale": [
             [
              0,
              "#0d0887"
             ],
             [
              0.1111111111111111,
              "#46039f"
             ],
             [
              0.2222222222222222,
              "#7201a8"
             ],
             [
              0.3333333333333333,
              "#9c179e"
             ],
             [
              0.4444444444444444,
              "#bd3786"
             ],
             [
              0.5555555555555556,
              "#d8576b"
             ],
             [
              0.6666666666666666,
              "#ed7953"
             ],
             [
              0.7777777777777778,
              "#fb9f3a"
             ],
             [
              0.8888888888888888,
              "#fdca26"
             ],
             [
              1,
              "#f0f921"
             ]
            ],
            "type": "histogram2dcontour"
           }
          ],
          "mesh3d": [
           {
            "colorbar": {
             "outlinewidth": 0,
             "ticks": ""
            },
            "type": "mesh3d"
           }
          ],
          "parcoords": [
           {
            "line": {
             "colorbar": {
              "outlinewidth": 0,
              "ticks": ""
             }
            },
            "type": "parcoords"
           }
          ],
          "pie": [
           {
            "automargin": true,
            "type": "pie"
           }
          ],
          "scatter": [
           {
            "fillpattern": {
             "fillmode": "overlay",
             "size": 10,
             "solidity": 0.2
            },
            "type": "scatter"
           }
          ],
          "scatter3d": [
           {
            "line": {
             "colorbar": {
              "outlinewidth": 0,
              "ticks": ""
             }
            },
            "marker": {
             "colorbar": {
              "outlinewidth": 0,
              "ticks": ""
             }
            },
            "type": "scatter3d"
           }
          ],
          "scattercarpet": [
           {
            "marker": {
             "colorbar": {
              "outlinewidth": 0,
              "ticks": ""
             }
            },
            "type": "scattercarpet"
           }
          ],
          "scattergeo": [
           {
            "marker": {
             "colorbar": {
              "outlinewidth": 0,
              "ticks": ""
             }
            },
            "type": "scattergeo"
           }
          ],
          "scattergl": [
           {
            "marker": {
             "colorbar": {
              "outlinewidth": 0,
              "ticks": ""
             }
            },
            "type": "scattergl"
           }
          ],
          "scattermap": [
           {
            "marker": {
             "colorbar": {
              "outlinewidth": 0,
              "ticks": ""
             }
            },
            "type": "scattermap"
           }
          ],
          "scattermapbox": [
           {
            "marker": {
             "colorbar": {
              "outlinewidth": 0,
              "ticks": ""
             }
            },
            "type": "scattermapbox"
           }
          ],
          "scatterpolar": [
           {
            "marker": {
             "colorbar": {
              "outlinewidth": 0,
              "ticks": ""
             }
            },
            "type": "scatterpolar"
           }
          ],
          "scatterpolargl": [
           {
            "marker": {
             "colorbar": {
              "outlinewidth": 0,
              "ticks": ""
             }
            },
            "type": "scatterpolargl"
           }
          ],
          "scatterternary": [
           {
            "marker": {
             "colorbar": {
              "outlinewidth": 0,
              "ticks": ""
             }
            },
            "type": "scatterternary"
           }
          ],
          "surface": [
           {
            "colorbar": {
             "outlinewidth": 0,
             "ticks": ""
            },
            "colorscale": [
             [
              0,
              "#0d0887"
             ],
             [
              0.1111111111111111,
              "#46039f"
             ],
             [
              0.2222222222222222,
              "#7201a8"
             ],
             [
              0.3333333333333333,
              "#9c179e"
             ],
             [
              0.4444444444444444,
              "#bd3786"
             ],
             [
              0.5555555555555556,
              "#d8576b"
             ],
             [
              0.6666666666666666,
              "#ed7953"
             ],
             [
              0.7777777777777778,
              "#fb9f3a"
             ],
             [
              0.8888888888888888,
              "#fdca26"
             ],
             [
              1,
              "#f0f921"
             ]
            ],
            "type": "surface"
           }
          ],
          "table": [
           {
            "cells": {
             "fill": {
              "color": "#EBF0F8"
             },
             "line": {
              "color": "white"
             }
            },
            "header": {
             "fill": {
              "color": "#C8D4E3"
             },
             "line": {
              "color": "white"
             }
            },
            "type": "table"
           }
          ]
         },
         "layout": {
          "annotationdefaults": {
           "arrowcolor": "#2a3f5f",
           "arrowhead": 0,
           "arrowwidth": 1
          },
          "autotypenumbers": "strict",
          "coloraxis": {
           "colorbar": {
            "outlinewidth": 0,
            "ticks": ""
           }
          },
          "colorscale": {
           "diverging": [
            [
             0,
             "#8e0152"
            ],
            [
             0.1,
             "#c51b7d"
            ],
            [
             0.2,
             "#de77ae"
            ],
            [
             0.3,
             "#f1b6da"
            ],
            [
             0.4,
             "#fde0ef"
            ],
            [
             0.5,
             "#f7f7f7"
            ],
            [
             0.6,
             "#e6f5d0"
            ],
            [
             0.7,
             "#b8e186"
            ],
            [
             0.8,
             "#7fbc41"
            ],
            [
             0.9,
             "#4d9221"
            ],
            [
             1,
             "#276419"
            ]
           ],
           "sequential": [
            [
             0,
             "#0d0887"
            ],
            [
             0.1111111111111111,
             "#46039f"
            ],
            [
             0.2222222222222222,
             "#7201a8"
            ],
            [
             0.3333333333333333,
             "#9c179e"
            ],
            [
             0.4444444444444444,
             "#bd3786"
            ],
            [
             0.5555555555555556,
             "#d8576b"
            ],
            [
             0.6666666666666666,
             "#ed7953"
            ],
            [
             0.7777777777777778,
             "#fb9f3a"
            ],
            [
             0.8888888888888888,
             "#fdca26"
            ],
            [
             1,
             "#f0f921"
            ]
           ],
           "sequentialminus": [
            [
             0,
             "#0d0887"
            ],
            [
             0.1111111111111111,
             "#46039f"
            ],
            [
             0.2222222222222222,
             "#7201a8"
            ],
            [
             0.3333333333333333,
             "#9c179e"
            ],
            [
             0.4444444444444444,
             "#bd3786"
            ],
            [
             0.5555555555555556,
             "#d8576b"
            ],
            [
             0.6666666666666666,
             "#ed7953"
            ],
            [
             0.7777777777777778,
             "#fb9f3a"
            ],
            [
             0.8888888888888888,
             "#fdca26"
            ],
            [
             1,
             "#f0f921"
            ]
           ]
          },
          "colorway": [
           "#636efa",
           "#EF553B",
           "#00cc96",
           "#ab63fa",
           "#FFA15A",
           "#19d3f3",
           "#FF6692",
           "#B6E880",
           "#FF97FF",
           "#FECB52"
          ],
          "font": {
           "color": "#2a3f5f"
          },
          "geo": {
           "bgcolor": "white",
           "lakecolor": "white",
           "landcolor": "#E5ECF6",
           "showlakes": true,
           "showland": true,
           "subunitcolor": "white"
          },
          "hoverlabel": {
           "align": "left"
          },
          "hovermode": "closest",
          "mapbox": {
           "style": "light"
          },
          "paper_bgcolor": "white",
          "plot_bgcolor": "#E5ECF6",
          "polar": {
           "angularaxis": {
            "gridcolor": "white",
            "linecolor": "white",
            "ticks": ""
           },
           "bgcolor": "#E5ECF6",
           "radialaxis": {
            "gridcolor": "white",
            "linecolor": "white",
            "ticks": ""
           }
          },
          "scene": {
           "xaxis": {
            "backgroundcolor": "#E5ECF6",
            "gridcolor": "white",
            "gridwidth": 2,
            "linecolor": "white",
            "showbackground": true,
            "ticks": "",
            "zerolinecolor": "white"
           },
           "yaxis": {
            "backgroundcolor": "#E5ECF6",
            "gridcolor": "white",
            "gridwidth": 2,
            "linecolor": "white",
            "showbackground": true,
            "ticks": "",
            "zerolinecolor": "white"
           },
           "zaxis": {
            "backgroundcolor": "#E5ECF6",
            "gridcolor": "white",
            "gridwidth": 2,
            "linecolor": "white",
            "showbackground": true,
            "ticks": "",
            "zerolinecolor": "white"
           }
          },
          "shapedefaults": {
           "line": {
            "color": "#2a3f5f"
           }
          },
          "ternary": {
           "aaxis": {
            "gridcolor": "white",
            "linecolor": "white",
            "ticks": ""
           },
           "baxis": {
            "gridcolor": "white",
            "linecolor": "white",
            "ticks": ""
           },
           "bgcolor": "#E5ECF6",
           "caxis": {
            "gridcolor": "white",
            "linecolor": "white",
            "ticks": ""
           }
          },
          "title": {
           "x": 0.05
          },
          "xaxis": {
           "automargin": true,
           "gridcolor": "white",
           "linecolor": "white",
           "ticks": "",
           "title": {
            "standoff": 15
           },
           "zerolinecolor": "white",
           "zerolinewidth": 2
          },
          "yaxis": {
           "automargin": true,
           "gridcolor": "white",
           "linecolor": "white",
           "ticks": "",
           "title": {
            "standoff": 15
           },
           "zerolinecolor": "white",
           "zerolinewidth": 2
          }
         }
        },
        "title": {
         "text": "Optimization History Plot"
        },
        "xaxis": {
         "title": {
          "text": "Trial"
         }
        },
        "yaxis": {
         "title": {
          "text": "Objective Value"
         }
        }
       }
      }
     },
     "metadata": {},
     "output_type": "display_data"
    },
    {
     "data": {
      "application/vnd.plotly.v1+json": {
       "config": {
        "plotlyServerURL": "https://plot.ly"
       },
       "data": [
        {
         "cliponaxis": false,
         "hovertemplate": [
          "solver (CategoricalDistribution): 0.11146958812178301<extra></extra>",
          "max_iter (IntDistribution): 0.216254571405017<extra></extra>",
          "C (FloatDistribution): 0.6722758404732001<extra></extra>"
         ],
         "name": "Objective Value",
         "orientation": "h",
         "text": [
          "0.11",
          "0.22",
          "0.67"
         ],
         "textposition": "outside",
         "type": "bar",
         "x": [
          0.11146958812178301,
          0.216254571405017,
          0.6722758404732001
         ],
         "y": [
          "solver",
          "max_iter",
          "C"
         ]
        }
       ],
       "layout": {
        "template": {
         "data": {
          "bar": [
           {
            "error_x": {
             "color": "#2a3f5f"
            },
            "error_y": {
             "color": "#2a3f5f"
            },
            "marker": {
             "line": {
              "color": "#E5ECF6",
              "width": 0.5
             },
             "pattern": {
              "fillmode": "overlay",
              "size": 10,
              "solidity": 0.2
             }
            },
            "type": "bar"
           }
          ],
          "barpolar": [
           {
            "marker": {
             "line": {
              "color": "#E5ECF6",
              "width": 0.5
             },
             "pattern": {
              "fillmode": "overlay",
              "size": 10,
              "solidity": 0.2
             }
            },
            "type": "barpolar"
           }
          ],
          "carpet": [
           {
            "aaxis": {
             "endlinecolor": "#2a3f5f",
             "gridcolor": "white",
             "linecolor": "white",
             "minorgridcolor": "white",
             "startlinecolor": "#2a3f5f"
            },
            "baxis": {
             "endlinecolor": "#2a3f5f",
             "gridcolor": "white",
             "linecolor": "white",
             "minorgridcolor": "white",
             "startlinecolor": "#2a3f5f"
            },
            "type": "carpet"
           }
          ],
          "choropleth": [
           {
            "colorbar": {
             "outlinewidth": 0,
             "ticks": ""
            },
            "type": "choropleth"
           }
          ],
          "contour": [
           {
            "colorbar": {
             "outlinewidth": 0,
             "ticks": ""
            },
            "colorscale": [
             [
              0,
              "#0d0887"
             ],
             [
              0.1111111111111111,
              "#46039f"
             ],
             [
              0.2222222222222222,
              "#7201a8"
             ],
             [
              0.3333333333333333,
              "#9c179e"
             ],
             [
              0.4444444444444444,
              "#bd3786"
             ],
             [
              0.5555555555555556,
              "#d8576b"
             ],
             [
              0.6666666666666666,
              "#ed7953"
             ],
             [
              0.7777777777777778,
              "#fb9f3a"
             ],
             [
              0.8888888888888888,
              "#fdca26"
             ],
             [
              1,
              "#f0f921"
             ]
            ],
            "type": "contour"
           }
          ],
          "contourcarpet": [
           {
            "colorbar": {
             "outlinewidth": 0,
             "ticks": ""
            },
            "type": "contourcarpet"
           }
          ],
          "heatmap": [
           {
            "colorbar": {
             "outlinewidth": 0,
             "ticks": ""
            },
            "colorscale": [
             [
              0,
              "#0d0887"
             ],
             [
              0.1111111111111111,
              "#46039f"
             ],
             [
              0.2222222222222222,
              "#7201a8"
             ],
             [
              0.3333333333333333,
              "#9c179e"
             ],
             [
              0.4444444444444444,
              "#bd3786"
             ],
             [
              0.5555555555555556,
              "#d8576b"
             ],
             [
              0.6666666666666666,
              "#ed7953"
             ],
             [
              0.7777777777777778,
              "#fb9f3a"
             ],
             [
              0.8888888888888888,
              "#fdca26"
             ],
             [
              1,
              "#f0f921"
             ]
            ],
            "type": "heatmap"
           }
          ],
          "histogram": [
           {
            "marker": {
             "pattern": {
              "fillmode": "overlay",
              "size": 10,
              "solidity": 0.2
             }
            },
            "type": "histogram"
           }
          ],
          "histogram2d": [
           {
            "colorbar": {
             "outlinewidth": 0,
             "ticks": ""
            },
            "colorscale": [
             [
              0,
              "#0d0887"
             ],
             [
              0.1111111111111111,
              "#46039f"
             ],
             [
              0.2222222222222222,
              "#7201a8"
             ],
             [
              0.3333333333333333,
              "#9c179e"
             ],
             [
              0.4444444444444444,
              "#bd3786"
             ],
             [
              0.5555555555555556,
              "#d8576b"
             ],
             [
              0.6666666666666666,
              "#ed7953"
             ],
             [
              0.7777777777777778,
              "#fb9f3a"
             ],
             [
              0.8888888888888888,
              "#fdca26"
             ],
             [
              1,
              "#f0f921"
             ]
            ],
            "type": "histogram2d"
           }
          ],
          "histogram2dcontour": [
           {
            "colorbar": {
             "outlinewidth": 0,
             "ticks": ""
            },
            "colorscale": [
             [
              0,
              "#0d0887"
             ],
             [
              0.1111111111111111,
              "#46039f"
             ],
             [
              0.2222222222222222,
              "#7201a8"
             ],
             [
              0.3333333333333333,
              "#9c179e"
             ],
             [
              0.4444444444444444,
              "#bd3786"
             ],
             [
              0.5555555555555556,
              "#d8576b"
             ],
             [
              0.6666666666666666,
              "#ed7953"
             ],
             [
              0.7777777777777778,
              "#fb9f3a"
             ],
             [
              0.8888888888888888,
              "#fdca26"
             ],
             [
              1,
              "#f0f921"
             ]
            ],
            "type": "histogram2dcontour"
           }
          ],
          "mesh3d": [
           {
            "colorbar": {
             "outlinewidth": 0,
             "ticks": ""
            },
            "type": "mesh3d"
           }
          ],
          "parcoords": [
           {
            "line": {
             "colorbar": {
              "outlinewidth": 0,
              "ticks": ""
             }
            },
            "type": "parcoords"
           }
          ],
          "pie": [
           {
            "automargin": true,
            "type": "pie"
           }
          ],
          "scatter": [
           {
            "fillpattern": {
             "fillmode": "overlay",
             "size": 10,
             "solidity": 0.2
            },
            "type": "scatter"
           }
          ],
          "scatter3d": [
           {
            "line": {
             "colorbar": {
              "outlinewidth": 0,
              "ticks": ""
             }
            },
            "marker": {
             "colorbar": {
              "outlinewidth": 0,
              "ticks": ""
             }
            },
            "type": "scatter3d"
           }
          ],
          "scattercarpet": [
           {
            "marker": {
             "colorbar": {
              "outlinewidth": 0,
              "ticks": ""
             }
            },
            "type": "scattercarpet"
           }
          ],
          "scattergeo": [
           {
            "marker": {
             "colorbar": {
              "outlinewidth": 0,
              "ticks": ""
             }
            },
            "type": "scattergeo"
           }
          ],
          "scattergl": [
           {
            "marker": {
             "colorbar": {
              "outlinewidth": 0,
              "ticks": ""
             }
            },
            "type": "scattergl"
           }
          ],
          "scattermap": [
           {
            "marker": {
             "colorbar": {
              "outlinewidth": 0,
              "ticks": ""
             }
            },
            "type": "scattermap"
           }
          ],
          "scattermapbox": [
           {
            "marker": {
             "colorbar": {
              "outlinewidth": 0,
              "ticks": ""
             }
            },
            "type": "scattermapbox"
           }
          ],
          "scatterpolar": [
           {
            "marker": {
             "colorbar": {
              "outlinewidth": 0,
              "ticks": ""
             }
            },
            "type": "scatterpolar"
           }
          ],
          "scatterpolargl": [
           {
            "marker": {
             "colorbar": {
              "outlinewidth": 0,
              "ticks": ""
             }
            },
            "type": "scatterpolargl"
           }
          ],
          "scatterternary": [
           {
            "marker": {
             "colorbar": {
              "outlinewidth": 0,
              "ticks": ""
             }
            },
            "type": "scatterternary"
           }
          ],
          "surface": [
           {
            "colorbar": {
             "outlinewidth": 0,
             "ticks": ""
            },
            "colorscale": [
             [
              0,
              "#0d0887"
             ],
             [
              0.1111111111111111,
              "#46039f"
             ],
             [
              0.2222222222222222,
              "#7201a8"
             ],
             [
              0.3333333333333333,
              "#9c179e"
             ],
             [
              0.4444444444444444,
              "#bd3786"
             ],
             [
              0.5555555555555556,
              "#d8576b"
             ],
             [
              0.6666666666666666,
              "#ed7953"
             ],
             [
              0.7777777777777778,
              "#fb9f3a"
             ],
             [
              0.8888888888888888,
              "#fdca26"
             ],
             [
              1,
              "#f0f921"
             ]
            ],
            "type": "surface"
           }
          ],
          "table": [
           {
            "cells": {
             "fill": {
              "color": "#EBF0F8"
             },
             "line": {
              "color": "white"
             }
            },
            "header": {
             "fill": {
              "color": "#C8D4E3"
             },
             "line": {
              "color": "white"
             }
            },
            "type": "table"
           }
          ]
         },
         "layout": {
          "annotationdefaults": {
           "arrowcolor": "#2a3f5f",
           "arrowhead": 0,
           "arrowwidth": 1
          },
          "autotypenumbers": "strict",
          "coloraxis": {
           "colorbar": {
            "outlinewidth": 0,
            "ticks": ""
           }
          },
          "colorscale": {
           "diverging": [
            [
             0,
             "#8e0152"
            ],
            [
             0.1,
             "#c51b7d"
            ],
            [
             0.2,
             "#de77ae"
            ],
            [
             0.3,
             "#f1b6da"
            ],
            [
             0.4,
             "#fde0ef"
            ],
            [
             0.5,
             "#f7f7f7"
            ],
            [
             0.6,
             "#e6f5d0"
            ],
            [
             0.7,
             "#b8e186"
            ],
            [
             0.8,
             "#7fbc41"
            ],
            [
             0.9,
             "#4d9221"
            ],
            [
             1,
             "#276419"
            ]
           ],
           "sequential": [
            [
             0,
             "#0d0887"
            ],
            [
             0.1111111111111111,
             "#46039f"
            ],
            [
             0.2222222222222222,
             "#7201a8"
            ],
            [
             0.3333333333333333,
             "#9c179e"
            ],
            [
             0.4444444444444444,
             "#bd3786"
            ],
            [
             0.5555555555555556,
             "#d8576b"
            ],
            [
             0.6666666666666666,
             "#ed7953"
            ],
            [
             0.7777777777777778,
             "#fb9f3a"
            ],
            [
             0.8888888888888888,
             "#fdca26"
            ],
            [
             1,
             "#f0f921"
            ]
           ],
           "sequentialminus": [
            [
             0,
             "#0d0887"
            ],
            [
             0.1111111111111111,
             "#46039f"
            ],
            [
             0.2222222222222222,
             "#7201a8"
            ],
            [
             0.3333333333333333,
             "#9c179e"
            ],
            [
             0.4444444444444444,
             "#bd3786"
            ],
            [
             0.5555555555555556,
             "#d8576b"
            ],
            [
             0.6666666666666666,
             "#ed7953"
            ],
            [
             0.7777777777777778,
             "#fb9f3a"
            ],
            [
             0.8888888888888888,
             "#fdca26"
            ],
            [
             1,
             "#f0f921"
            ]
           ]
          },
          "colorway": [
           "#636efa",
           "#EF553B",
           "#00cc96",
           "#ab63fa",
           "#FFA15A",
           "#19d3f3",
           "#FF6692",
           "#B6E880",
           "#FF97FF",
           "#FECB52"
          ],
          "font": {
           "color": "#2a3f5f"
          },
          "geo": {
           "bgcolor": "white",
           "lakecolor": "white",
           "landcolor": "#E5ECF6",
           "showlakes": true,
           "showland": true,
           "subunitcolor": "white"
          },
          "hoverlabel": {
           "align": "left"
          },
          "hovermode": "closest",
          "mapbox": {
           "style": "light"
          },
          "paper_bgcolor": "white",
          "plot_bgcolor": "#E5ECF6",
          "polar": {
           "angularaxis": {
            "gridcolor": "white",
            "linecolor": "white",
            "ticks": ""
           },
           "bgcolor": "#E5ECF6",
           "radialaxis": {
            "gridcolor": "white",
            "linecolor": "white",
            "ticks": ""
           }
          },
          "scene": {
           "xaxis": {
            "backgroundcolor": "#E5ECF6",
            "gridcolor": "white",
            "gridwidth": 2,
            "linecolor": "white",
            "showbackground": true,
            "ticks": "",
            "zerolinecolor": "white"
           },
           "yaxis": {
            "backgroundcolor": "#E5ECF6",
            "gridcolor": "white",
            "gridwidth": 2,
            "linecolor": "white",
            "showbackground": true,
            "ticks": "",
            "zerolinecolor": "white"
           },
           "zaxis": {
            "backgroundcolor": "#E5ECF6",
            "gridcolor": "white",
            "gridwidth": 2,
            "linecolor": "white",
            "showbackground": true,
            "ticks": "",
            "zerolinecolor": "white"
           }
          },
          "shapedefaults": {
           "line": {
            "color": "#2a3f5f"
           }
          },
          "ternary": {
           "aaxis": {
            "gridcolor": "white",
            "linecolor": "white",
            "ticks": ""
           },
           "baxis": {
            "gridcolor": "white",
            "linecolor": "white",
            "ticks": ""
           },
           "bgcolor": "#E5ECF6",
           "caxis": {
            "gridcolor": "white",
            "linecolor": "white",
            "ticks": ""
           }
          },
          "title": {
           "x": 0.05
          },
          "xaxis": {
           "automargin": true,
           "gridcolor": "white",
           "linecolor": "white",
           "ticks": "",
           "title": {
            "standoff": 15
           },
           "zerolinecolor": "white",
           "zerolinewidth": 2
          },
          "yaxis": {
           "automargin": true,
           "gridcolor": "white",
           "linecolor": "white",
           "ticks": "",
           "title": {
            "standoff": 15
           },
           "zerolinecolor": "white",
           "zerolinewidth": 2
          }
         }
        },
        "title": {
         "text": "Hyperparameter Importances"
        },
        "xaxis": {
         "title": {
          "text": "Hyperparameter Importance"
         }
        },
        "yaxis": {
         "title": {
          "text": "Hyperparameter"
         }
        }
       }
      }
     },
     "metadata": {},
     "output_type": "display_data"
    },
    {
     "data": {
      "application/vnd.plotly.v1+json": {
       "config": {
        "plotlyServerURL": "https://plot.ly"
       },
       "data": [
        {
         "mode": "markers",
         "name": "Objective Value",
         "type": "scatter",
         "x": [
          0,
          1,
          2,
          3,
          4,
          5,
          6,
          7,
          8,
          9,
          10,
          11,
          12,
          13,
          14,
          15,
          16,
          17,
          18,
          19,
          20,
          21,
          22,
          23,
          24,
          25,
          26,
          27,
          28,
          29,
          30,
          31,
          32,
          33,
          34,
          35,
          36,
          37,
          38,
          39,
          40,
          41,
          42,
          43,
          44,
          45,
          46,
          47,
          48,
          49,
          50,
          51,
          52,
          53,
          54,
          55,
          56,
          57,
          58,
          59,
          60,
          61,
          62,
          63,
          64,
          65,
          66,
          67,
          68,
          69,
          70,
          71,
          72,
          73,
          74,
          75,
          76,
          77,
          78,
          79,
          80,
          81,
          82,
          83,
          84,
          85,
          86,
          87,
          88,
          89,
          90,
          91,
          92,
          93,
          94,
          95,
          96,
          97,
          98,
          99
         ],
         "y": [
          0.765,
          0.7736666666666666,
          0.7651666666666667,
          0.7736666666666666,
          0.7725,
          0.7736666666666666,
          0.7735,
          0.7736666666666666,
          0.7718333333333334,
          0.7723333333333334,
          0.7725,
          0.7725,
          0.7735,
          0.7695,
          0.7715,
          0.7736666666666666,
          0.7735,
          0.7735,
          0.7736666666666666,
          0.7719999999999999,
          0.7731666666666666,
          0.7475,
          0.7733333333333334,
          0.7733333333333334,
          0.7723333333333334,
          0.7725,
          0.7736666666666666,
          0.7725,
          0.7725,
          0.7725,
          0.7725,
          0.7725,
          0.7725,
          0.7725,
          0.7725,
          0.7725,
          0.7725,
          0.7725,
          0.7725,
          0.7736666666666666,
          0.7736666666666666,
          0.7725,
          0.7725,
          0.7725,
          0.7736666666666666,
          0.7736666666666666,
          0.7725,
          0.7736666666666666,
          0.7736666666666666,
          0.7736666666666666,
          0.7736666666666666,
          0.7736666666666666,
          0.7736666666666666,
          0.7725,
          0.7725,
          0.7736666666666666,
          0.7736666666666666,
          0.7736666666666666,
          0.7736666666666666,
          0.7735,
          0.7735,
          0.7736666666666666,
          0.7736666666666666,
          0.7725,
          0.7736666666666666,
          0.7725,
          0.7735,
          0.7736666666666666,
          0.7733333333333334,
          0.773,
          0.7736666666666666,
          0.7736666666666666,
          0.7736666666666666,
          0.7736666666666666,
          0.7736666666666666,
          0.7736666666666666,
          0.7725,
          0.7736666666666666,
          0.7736666666666666,
          0.7736666666666666,
          0.7708333333333334,
          0.7686666666666667,
          0.7143333333333334,
          0.7683333333333334,
          0.7736666666666666,
          0.7735,
          0.7736666666666666,
          0.7725,
          0.7736666666666666,
          0.7736666666666666,
          0.7736666666666666,
          0.7736666666666666,
          0.7736666666666666,
          0.7736666666666666,
          0.7736666666666666,
          0.7736666666666666,
          0.7736666666666666,
          0.7736666666666666,
          0.7736666666666666,
          0.7736666666666666
         ]
        },
        {
         "mode": "lines",
         "name": "Best Value",
         "type": "scatter",
         "x": [
          0,
          1,
          2,
          3,
          4,
          5,
          6,
          7,
          8,
          9,
          10,
          11,
          12,
          13,
          14,
          15,
          16,
          17,
          18,
          19,
          20,
          21,
          22,
          23,
          24,
          25,
          26,
          27,
          28,
          29,
          30,
          31,
          32,
          33,
          34,
          35,
          36,
          37,
          38,
          39,
          40,
          41,
          42,
          43,
          44,
          45,
          46,
          47,
          48,
          49,
          50,
          51,
          52,
          53,
          54,
          55,
          56,
          57,
          58,
          59,
          60,
          61,
          62,
          63,
          64,
          65,
          66,
          67,
          68,
          69,
          70,
          71,
          72,
          73,
          74,
          75,
          76,
          77,
          78,
          79,
          80,
          81,
          82,
          83,
          84,
          85,
          86,
          87,
          88,
          89,
          90,
          91,
          92,
          93,
          94,
          95,
          96,
          97,
          98,
          99
         ],
         "y": [
          0.765,
          0.7736666666666666,
          0.7736666666666666,
          0.7736666666666666,
          0.7736666666666666,
          0.7736666666666666,
          0.7736666666666666,
          0.7736666666666666,
          0.7736666666666666,
          0.7736666666666666,
          0.7736666666666666,
          0.7736666666666666,
          0.7736666666666666,
          0.7736666666666666,
          0.7736666666666666,
          0.7736666666666666,
          0.7736666666666666,
          0.7736666666666666,
          0.7736666666666666,
          0.7736666666666666,
          0.7736666666666666,
          0.7736666666666666,
          0.7736666666666666,
          0.7736666666666666,
          0.7736666666666666,
          0.7736666666666666,
          0.7736666666666666,
          0.7736666666666666,
          0.7736666666666666,
          0.7736666666666666,
          0.7736666666666666,
          0.7736666666666666,
          0.7736666666666666,
          0.7736666666666666,
          0.7736666666666666,
          0.7736666666666666,
          0.7736666666666666,
          0.7736666666666666,
          0.7736666666666666,
          0.7736666666666666,
          0.7736666666666666,
          0.7736666666666666,
          0.7736666666666666,
          0.7736666666666666,
          0.7736666666666666,
          0.7736666666666666,
          0.7736666666666666,
          0.7736666666666666,
          0.7736666666666666,
          0.7736666666666666,
          0.7736666666666666,
          0.7736666666666666,
          0.7736666666666666,
          0.7736666666666666,
          0.7736666666666666,
          0.7736666666666666,
          0.7736666666666666,
          0.7736666666666666,
          0.7736666666666666,
          0.7736666666666666,
          0.7736666666666666,
          0.7736666666666666,
          0.7736666666666666,
          0.7736666666666666,
          0.7736666666666666,
          0.7736666666666666,
          0.7736666666666666,
          0.7736666666666666,
          0.7736666666666666,
          0.7736666666666666,
          0.7736666666666666,
          0.7736666666666666,
          0.7736666666666666,
          0.7736666666666666,
          0.7736666666666666,
          0.7736666666666666,
          0.7736666666666666,
          0.7736666666666666,
          0.7736666666666666,
          0.7736666666666666,
          0.7736666666666666,
          0.7736666666666666,
          0.7736666666666666,
          0.7736666666666666,
          0.7736666666666666,
          0.7736666666666666,
          0.7736666666666666,
          0.7736666666666666,
          0.7736666666666666,
          0.7736666666666666,
          0.7736666666666666,
          0.7736666666666666,
          0.7736666666666666,
          0.7736666666666666,
          0.7736666666666666,
          0.7736666666666666,
          0.7736666666666666,
          0.7736666666666666,
          0.7736666666666666,
          0.7736666666666666
         ]
        },
        {
         "marker": {
          "color": "#cccccc"
         },
         "mode": "markers",
         "name": "Infeasible Trial",
         "showlegend": false,
         "type": "scatter",
         "x": [],
         "y": []
        }
       ],
       "layout": {
        "template": {
         "data": {
          "bar": [
           {
            "error_x": {
             "color": "#2a3f5f"
            },
            "error_y": {
             "color": "#2a3f5f"
            },
            "marker": {
             "line": {
              "color": "#E5ECF6",
              "width": 0.5
             },
             "pattern": {
              "fillmode": "overlay",
              "size": 10,
              "solidity": 0.2
             }
            },
            "type": "bar"
           }
          ],
          "barpolar": [
           {
            "marker": {
             "line": {
              "color": "#E5ECF6",
              "width": 0.5
             },
             "pattern": {
              "fillmode": "overlay",
              "size": 10,
              "solidity": 0.2
             }
            },
            "type": "barpolar"
           }
          ],
          "carpet": [
           {
            "aaxis": {
             "endlinecolor": "#2a3f5f",
             "gridcolor": "white",
             "linecolor": "white",
             "minorgridcolor": "white",
             "startlinecolor": "#2a3f5f"
            },
            "baxis": {
             "endlinecolor": "#2a3f5f",
             "gridcolor": "white",
             "linecolor": "white",
             "minorgridcolor": "white",
             "startlinecolor": "#2a3f5f"
            },
            "type": "carpet"
           }
          ],
          "choropleth": [
           {
            "colorbar": {
             "outlinewidth": 0,
             "ticks": ""
            },
            "type": "choropleth"
           }
          ],
          "contour": [
           {
            "colorbar": {
             "outlinewidth": 0,
             "ticks": ""
            },
            "colorscale": [
             [
              0,
              "#0d0887"
             ],
             [
              0.1111111111111111,
              "#46039f"
             ],
             [
              0.2222222222222222,
              "#7201a8"
             ],
             [
              0.3333333333333333,
              "#9c179e"
             ],
             [
              0.4444444444444444,
              "#bd3786"
             ],
             [
              0.5555555555555556,
              "#d8576b"
             ],
             [
              0.6666666666666666,
              "#ed7953"
             ],
             [
              0.7777777777777778,
              "#fb9f3a"
             ],
             [
              0.8888888888888888,
              "#fdca26"
             ],
             [
              1,
              "#f0f921"
             ]
            ],
            "type": "contour"
           }
          ],
          "contourcarpet": [
           {
            "colorbar": {
             "outlinewidth": 0,
             "ticks": ""
            },
            "type": "contourcarpet"
           }
          ],
          "heatmap": [
           {
            "colorbar": {
             "outlinewidth": 0,
             "ticks": ""
            },
            "colorscale": [
             [
              0,
              "#0d0887"
             ],
             [
              0.1111111111111111,
              "#46039f"
             ],
             [
              0.2222222222222222,
              "#7201a8"
             ],
             [
              0.3333333333333333,
              "#9c179e"
             ],
             [
              0.4444444444444444,
              "#bd3786"
             ],
             [
              0.5555555555555556,
              "#d8576b"
             ],
             [
              0.6666666666666666,
              "#ed7953"
             ],
             [
              0.7777777777777778,
              "#fb9f3a"
             ],
             [
              0.8888888888888888,
              "#fdca26"
             ],
             [
              1,
              "#f0f921"
             ]
            ],
            "type": "heatmap"
           }
          ],
          "histogram": [
           {
            "marker": {
             "pattern": {
              "fillmode": "overlay",
              "size": 10,
              "solidity": 0.2
             }
            },
            "type": "histogram"
           }
          ],
          "histogram2d": [
           {
            "colorbar": {
             "outlinewidth": 0,
             "ticks": ""
            },
            "colorscale": [
             [
              0,
              "#0d0887"
             ],
             [
              0.1111111111111111,
              "#46039f"
             ],
             [
              0.2222222222222222,
              "#7201a8"
             ],
             [
              0.3333333333333333,
              "#9c179e"
             ],
             [
              0.4444444444444444,
              "#bd3786"
             ],
             [
              0.5555555555555556,
              "#d8576b"
             ],
             [
              0.6666666666666666,
              "#ed7953"
             ],
             [
              0.7777777777777778,
              "#fb9f3a"
             ],
             [
              0.8888888888888888,
              "#fdca26"
             ],
             [
              1,
              "#f0f921"
             ]
            ],
            "type": "histogram2d"
           }
          ],
          "histogram2dcontour": [
           {
            "colorbar": {
             "outlinewidth": 0,
             "ticks": ""
            },
            "colorscale": [
             [
              0,
              "#0d0887"
             ],
             [
              0.1111111111111111,
              "#46039f"
             ],
             [
              0.2222222222222222,
              "#7201a8"
             ],
             [
              0.3333333333333333,
              "#9c179e"
             ],
             [
              0.4444444444444444,
              "#bd3786"
             ],
             [
              0.5555555555555556,
              "#d8576b"
             ],
             [
              0.6666666666666666,
              "#ed7953"
             ],
             [
              0.7777777777777778,
              "#fb9f3a"
             ],
             [
              0.8888888888888888,
              "#fdca26"
             ],
             [
              1,
              "#f0f921"
             ]
            ],
            "type": "histogram2dcontour"
           }
          ],
          "mesh3d": [
           {
            "colorbar": {
             "outlinewidth": 0,
             "ticks": ""
            },
            "type": "mesh3d"
           }
          ],
          "parcoords": [
           {
            "line": {
             "colorbar": {
              "outlinewidth": 0,
              "ticks": ""
             }
            },
            "type": "parcoords"
           }
          ],
          "pie": [
           {
            "automargin": true,
            "type": "pie"
           }
          ],
          "scatter": [
           {
            "fillpattern": {
             "fillmode": "overlay",
             "size": 10,
             "solidity": 0.2
            },
            "type": "scatter"
           }
          ],
          "scatter3d": [
           {
            "line": {
             "colorbar": {
              "outlinewidth": 0,
              "ticks": ""
             }
            },
            "marker": {
             "colorbar": {
              "outlinewidth": 0,
              "ticks": ""
             }
            },
            "type": "scatter3d"
           }
          ],
          "scattercarpet": [
           {
            "marker": {
             "colorbar": {
              "outlinewidth": 0,
              "ticks": ""
             }
            },
            "type": "scattercarpet"
           }
          ],
          "scattergeo": [
           {
            "marker": {
             "colorbar": {
              "outlinewidth": 0,
              "ticks": ""
             }
            },
            "type": "scattergeo"
           }
          ],
          "scattergl": [
           {
            "marker": {
             "colorbar": {
              "outlinewidth": 0,
              "ticks": ""
             }
            },
            "type": "scattergl"
           }
          ],
          "scattermap": [
           {
            "marker": {
             "colorbar": {
              "outlinewidth": 0,
              "ticks": ""
             }
            },
            "type": "scattermap"
           }
          ],
          "scattermapbox": [
           {
            "marker": {
             "colorbar": {
              "outlinewidth": 0,
              "ticks": ""
             }
            },
            "type": "scattermapbox"
           }
          ],
          "scatterpolar": [
           {
            "marker": {
             "colorbar": {
              "outlinewidth": 0,
              "ticks": ""
             }
            },
            "type": "scatterpolar"
           }
          ],
          "scatterpolargl": [
           {
            "marker": {
             "colorbar": {
              "outlinewidth": 0,
              "ticks": ""
             }
            },
            "type": "scatterpolargl"
           }
          ],
          "scatterternary": [
           {
            "marker": {
             "colorbar": {
              "outlinewidth": 0,
              "ticks": ""
             }
            },
            "type": "scatterternary"
           }
          ],
          "surface": [
           {
            "colorbar": {
             "outlinewidth": 0,
             "ticks": ""
            },
            "colorscale": [
             [
              0,
              "#0d0887"
             ],
             [
              0.1111111111111111,
              "#46039f"
             ],
             [
              0.2222222222222222,
              "#7201a8"
             ],
             [
              0.3333333333333333,
              "#9c179e"
             ],
             [
              0.4444444444444444,
              "#bd3786"
             ],
             [
              0.5555555555555556,
              "#d8576b"
             ],
             [
              0.6666666666666666,
              "#ed7953"
             ],
             [
              0.7777777777777778,
              "#fb9f3a"
             ],
             [
              0.8888888888888888,
              "#fdca26"
             ],
             [
              1,
              "#f0f921"
             ]
            ],
            "type": "surface"
           }
          ],
          "table": [
           {
            "cells": {
             "fill": {
              "color": "#EBF0F8"
             },
             "line": {
              "color": "white"
             }
            },
            "header": {
             "fill": {
              "color": "#C8D4E3"
             },
             "line": {
              "color": "white"
             }
            },
            "type": "table"
           }
          ]
         },
         "layout": {
          "annotationdefaults": {
           "arrowcolor": "#2a3f5f",
           "arrowhead": 0,
           "arrowwidth": 1
          },
          "autotypenumbers": "strict",
          "coloraxis": {
           "colorbar": {
            "outlinewidth": 0,
            "ticks": ""
           }
          },
          "colorscale": {
           "diverging": [
            [
             0,
             "#8e0152"
            ],
            [
             0.1,
             "#c51b7d"
            ],
            [
             0.2,
             "#de77ae"
            ],
            [
             0.3,
             "#f1b6da"
            ],
            [
             0.4,
             "#fde0ef"
            ],
            [
             0.5,
             "#f7f7f7"
            ],
            [
             0.6,
             "#e6f5d0"
            ],
            [
             0.7,
             "#b8e186"
            ],
            [
             0.8,
             "#7fbc41"
            ],
            [
             0.9,
             "#4d9221"
            ],
            [
             1,
             "#276419"
            ]
           ],
           "sequential": [
            [
             0,
             "#0d0887"
            ],
            [
             0.1111111111111111,
             "#46039f"
            ],
            [
             0.2222222222222222,
             "#7201a8"
            ],
            [
             0.3333333333333333,
             "#9c179e"
            ],
            [
             0.4444444444444444,
             "#bd3786"
            ],
            [
             0.5555555555555556,
             "#d8576b"
            ],
            [
             0.6666666666666666,
             "#ed7953"
            ],
            [
             0.7777777777777778,
             "#fb9f3a"
            ],
            [
             0.8888888888888888,
             "#fdca26"
            ],
            [
             1,
             "#f0f921"
            ]
           ],
           "sequentialminus": [
            [
             0,
             "#0d0887"
            ],
            [
             0.1111111111111111,
             "#46039f"
            ],
            [
             0.2222222222222222,
             "#7201a8"
            ],
            [
             0.3333333333333333,
             "#9c179e"
            ],
            [
             0.4444444444444444,
             "#bd3786"
            ],
            [
             0.5555555555555556,
             "#d8576b"
            ],
            [
             0.6666666666666666,
             "#ed7953"
            ],
            [
             0.7777777777777778,
             "#fb9f3a"
            ],
            [
             0.8888888888888888,
             "#fdca26"
            ],
            [
             1,
             "#f0f921"
            ]
           ]
          },
          "colorway": [
           "#636efa",
           "#EF553B",
           "#00cc96",
           "#ab63fa",
           "#FFA15A",
           "#19d3f3",
           "#FF6692",
           "#B6E880",
           "#FF97FF",
           "#FECB52"
          ],
          "font": {
           "color": "#2a3f5f"
          },
          "geo": {
           "bgcolor": "white",
           "lakecolor": "white",
           "landcolor": "#E5ECF6",
           "showlakes": true,
           "showland": true,
           "subunitcolor": "white"
          },
          "hoverlabel": {
           "align": "left"
          },
          "hovermode": "closest",
          "mapbox": {
           "style": "light"
          },
          "paper_bgcolor": "white",
          "plot_bgcolor": "#E5ECF6",
          "polar": {
           "angularaxis": {
            "gridcolor": "white",
            "linecolor": "white",
            "ticks": ""
           },
           "bgcolor": "#E5ECF6",
           "radialaxis": {
            "gridcolor": "white",
            "linecolor": "white",
            "ticks": ""
           }
          },
          "scene": {
           "xaxis": {
            "backgroundcolor": "#E5ECF6",
            "gridcolor": "white",
            "gridwidth": 2,
            "linecolor": "white",
            "showbackground": true,
            "ticks": "",
            "zerolinecolor": "white"
           },
           "yaxis": {
            "backgroundcolor": "#E5ECF6",
            "gridcolor": "white",
            "gridwidth": 2,
            "linecolor": "white",
            "showbackground": true,
            "ticks": "",
            "zerolinecolor": "white"
           },
           "zaxis": {
            "backgroundcolor": "#E5ECF6",
            "gridcolor": "white",
            "gridwidth": 2,
            "linecolor": "white",
            "showbackground": true,
            "ticks": "",
            "zerolinecolor": "white"
           }
          },
          "shapedefaults": {
           "line": {
            "color": "#2a3f5f"
           }
          },
          "ternary": {
           "aaxis": {
            "gridcolor": "white",
            "linecolor": "white",
            "ticks": ""
           },
           "baxis": {
            "gridcolor": "white",
            "linecolor": "white",
            "ticks": ""
           },
           "bgcolor": "#E5ECF6",
           "caxis": {
            "gridcolor": "white",
            "linecolor": "white",
            "ticks": ""
           }
          },
          "title": {
           "x": 0.05
          },
          "xaxis": {
           "automargin": true,
           "gridcolor": "white",
           "linecolor": "white",
           "ticks": "",
           "title": {
            "standoff": 15
           },
           "zerolinecolor": "white",
           "zerolinewidth": 2
          },
          "yaxis": {
           "automargin": true,
           "gridcolor": "white",
           "linecolor": "white",
           "ticks": "",
           "title": {
            "standoff": 15
           },
           "zerolinecolor": "white",
           "zerolinewidth": 2
          }
         }
        },
        "title": {
         "text": "Optimization History Plot"
        },
        "xaxis": {
         "title": {
          "text": "Trial"
         }
        },
        "yaxis": {
         "title": {
          "text": "Objective Value"
         }
        }
       }
      }
     },
     "metadata": {},
     "output_type": "display_data"
    },
    {
     "data": {
      "application/vnd.plotly.v1+json": {
       "config": {
        "plotlyServerURL": "https://plot.ly"
       },
       "data": [
        {
         "cliponaxis": false,
         "hovertemplate": [
          "gamma (CategoricalDistribution): 0.13350874773369317<extra></extra>",
          "kernel (CategoricalDistribution): 0.3803692376127159<extra></extra>",
          "C (FloatDistribution): 0.4861220146535909<extra></extra>"
         ],
         "name": "Objective Value",
         "orientation": "h",
         "text": [
          "0.13",
          "0.38",
          "0.49"
         ],
         "textposition": "outside",
         "type": "bar",
         "x": [
          0.13350874773369317,
          0.3803692376127159,
          0.4861220146535909
         ],
         "y": [
          "gamma",
          "kernel",
          "C"
         ]
        }
       ],
       "layout": {
        "template": {
         "data": {
          "bar": [
           {
            "error_x": {
             "color": "#2a3f5f"
            },
            "error_y": {
             "color": "#2a3f5f"
            },
            "marker": {
             "line": {
              "color": "#E5ECF6",
              "width": 0.5
             },
             "pattern": {
              "fillmode": "overlay",
              "size": 10,
              "solidity": 0.2
             }
            },
            "type": "bar"
           }
          ],
          "barpolar": [
           {
            "marker": {
             "line": {
              "color": "#E5ECF6",
              "width": 0.5
             },
             "pattern": {
              "fillmode": "overlay",
              "size": 10,
              "solidity": 0.2
             }
            },
            "type": "barpolar"
           }
          ],
          "carpet": [
           {
            "aaxis": {
             "endlinecolor": "#2a3f5f",
             "gridcolor": "white",
             "linecolor": "white",
             "minorgridcolor": "white",
             "startlinecolor": "#2a3f5f"
            },
            "baxis": {
             "endlinecolor": "#2a3f5f",
             "gridcolor": "white",
             "linecolor": "white",
             "minorgridcolor": "white",
             "startlinecolor": "#2a3f5f"
            },
            "type": "carpet"
           }
          ],
          "choropleth": [
           {
            "colorbar": {
             "outlinewidth": 0,
             "ticks": ""
            },
            "type": "choropleth"
           }
          ],
          "contour": [
           {
            "colorbar": {
             "outlinewidth": 0,
             "ticks": ""
            },
            "colorscale": [
             [
              0,
              "#0d0887"
             ],
             [
              0.1111111111111111,
              "#46039f"
             ],
             [
              0.2222222222222222,
              "#7201a8"
             ],
             [
              0.3333333333333333,
              "#9c179e"
             ],
             [
              0.4444444444444444,
              "#bd3786"
             ],
             [
              0.5555555555555556,
              "#d8576b"
             ],
             [
              0.6666666666666666,
              "#ed7953"
             ],
             [
              0.7777777777777778,
              "#fb9f3a"
             ],
             [
              0.8888888888888888,
              "#fdca26"
             ],
             [
              1,
              "#f0f921"
             ]
            ],
            "type": "contour"
           }
          ],
          "contourcarpet": [
           {
            "colorbar": {
             "outlinewidth": 0,
             "ticks": ""
            },
            "type": "contourcarpet"
           }
          ],
          "heatmap": [
           {
            "colorbar": {
             "outlinewidth": 0,
             "ticks": ""
            },
            "colorscale": [
             [
              0,
              "#0d0887"
             ],
             [
              0.1111111111111111,
              "#46039f"
             ],
             [
              0.2222222222222222,
              "#7201a8"
             ],
             [
              0.3333333333333333,
              "#9c179e"
             ],
             [
              0.4444444444444444,
              "#bd3786"
             ],
             [
              0.5555555555555556,
              "#d8576b"
             ],
             [
              0.6666666666666666,
              "#ed7953"
             ],
             [
              0.7777777777777778,
              "#fb9f3a"
             ],
             [
              0.8888888888888888,
              "#fdca26"
             ],
             [
              1,
              "#f0f921"
             ]
            ],
            "type": "heatmap"
           }
          ],
          "histogram": [
           {
            "marker": {
             "pattern": {
              "fillmode": "overlay",
              "size": 10,
              "solidity": 0.2
             }
            },
            "type": "histogram"
           }
          ],
          "histogram2d": [
           {
            "colorbar": {
             "outlinewidth": 0,
             "ticks": ""
            },
            "colorscale": [
             [
              0,
              "#0d0887"
             ],
             [
              0.1111111111111111,
              "#46039f"
             ],
             [
              0.2222222222222222,
              "#7201a8"
             ],
             [
              0.3333333333333333,
              "#9c179e"
             ],
             [
              0.4444444444444444,
              "#bd3786"
             ],
             [
              0.5555555555555556,
              "#d8576b"
             ],
             [
              0.6666666666666666,
              "#ed7953"
             ],
             [
              0.7777777777777778,
              "#fb9f3a"
             ],
             [
              0.8888888888888888,
              "#fdca26"
             ],
             [
              1,
              "#f0f921"
             ]
            ],
            "type": "histogram2d"
           }
          ],
          "histogram2dcontour": [
           {
            "colorbar": {
             "outlinewidth": 0,
             "ticks": ""
            },
            "colorscale": [
             [
              0,
              "#0d0887"
             ],
             [
              0.1111111111111111,
              "#46039f"
             ],
             [
              0.2222222222222222,
              "#7201a8"
             ],
             [
              0.3333333333333333,
              "#9c179e"
             ],
             [
              0.4444444444444444,
              "#bd3786"
             ],
             [
              0.5555555555555556,
              "#d8576b"
             ],
             [
              0.6666666666666666,
              "#ed7953"
             ],
             [
              0.7777777777777778,
              "#fb9f3a"
             ],
             [
              0.8888888888888888,
              "#fdca26"
             ],
             [
              1,
              "#f0f921"
             ]
            ],
            "type": "histogram2dcontour"
           }
          ],
          "mesh3d": [
           {
            "colorbar": {
             "outlinewidth": 0,
             "ticks": ""
            },
            "type": "mesh3d"
           }
          ],
          "parcoords": [
           {
            "line": {
             "colorbar": {
              "outlinewidth": 0,
              "ticks": ""
             }
            },
            "type": "parcoords"
           }
          ],
          "pie": [
           {
            "automargin": true,
            "type": "pie"
           }
          ],
          "scatter": [
           {
            "fillpattern": {
             "fillmode": "overlay",
             "size": 10,
             "solidity": 0.2
            },
            "type": "scatter"
           }
          ],
          "scatter3d": [
           {
            "line": {
             "colorbar": {
              "outlinewidth": 0,
              "ticks": ""
             }
            },
            "marker": {
             "colorbar": {
              "outlinewidth": 0,
              "ticks": ""
             }
            },
            "type": "scatter3d"
           }
          ],
          "scattercarpet": [
           {
            "marker": {
             "colorbar": {
              "outlinewidth": 0,
              "ticks": ""
             }
            },
            "type": "scattercarpet"
           }
          ],
          "scattergeo": [
           {
            "marker": {
             "colorbar": {
              "outlinewidth": 0,
              "ticks": ""
             }
            },
            "type": "scattergeo"
           }
          ],
          "scattergl": [
           {
            "marker": {
             "colorbar": {
              "outlinewidth": 0,
              "ticks": ""
             }
            },
            "type": "scattergl"
           }
          ],
          "scattermap": [
           {
            "marker": {
             "colorbar": {
              "outlinewidth": 0,
              "ticks": ""
             }
            },
            "type": "scattermap"
           }
          ],
          "scattermapbox": [
           {
            "marker": {
             "colorbar": {
              "outlinewidth": 0,
              "ticks": ""
             }
            },
            "type": "scattermapbox"
           }
          ],
          "scatterpolar": [
           {
            "marker": {
             "colorbar": {
              "outlinewidth": 0,
              "ticks": ""
             }
            },
            "type": "scatterpolar"
           }
          ],
          "scatterpolargl": [
           {
            "marker": {
             "colorbar": {
              "outlinewidth": 0,
              "ticks": ""
             }
            },
            "type": "scatterpolargl"
           }
          ],
          "scatterternary": [
           {
            "marker": {
             "colorbar": {
              "outlinewidth": 0,
              "ticks": ""
             }
            },
            "type": "scatterternary"
           }
          ],
          "surface": [
           {
            "colorbar": {
             "outlinewidth": 0,
             "ticks": ""
            },
            "colorscale": [
             [
              0,
              "#0d0887"
             ],
             [
              0.1111111111111111,
              "#46039f"
             ],
             [
              0.2222222222222222,
              "#7201a8"
             ],
             [
              0.3333333333333333,
              "#9c179e"
             ],
             [
              0.4444444444444444,
              "#bd3786"
             ],
             [
              0.5555555555555556,
              "#d8576b"
             ],
             [
              0.6666666666666666,
              "#ed7953"
             ],
             [
              0.7777777777777778,
              "#fb9f3a"
             ],
             [
              0.8888888888888888,
              "#fdca26"
             ],
             [
              1,
              "#f0f921"
             ]
            ],
            "type": "surface"
           }
          ],
          "table": [
           {
            "cells": {
             "fill": {
              "color": "#EBF0F8"
             },
             "line": {
              "color": "white"
             }
            },
            "header": {
             "fill": {
              "color": "#C8D4E3"
             },
             "line": {
              "color": "white"
             }
            },
            "type": "table"
           }
          ]
         },
         "layout": {
          "annotationdefaults": {
           "arrowcolor": "#2a3f5f",
           "arrowhead": 0,
           "arrowwidth": 1
          },
          "autotypenumbers": "strict",
          "coloraxis": {
           "colorbar": {
            "outlinewidth": 0,
            "ticks": ""
           }
          },
          "colorscale": {
           "diverging": [
            [
             0,
             "#8e0152"
            ],
            [
             0.1,
             "#c51b7d"
            ],
            [
             0.2,
             "#de77ae"
            ],
            [
             0.3,
             "#f1b6da"
            ],
            [
             0.4,
             "#fde0ef"
            ],
            [
             0.5,
             "#f7f7f7"
            ],
            [
             0.6,
             "#e6f5d0"
            ],
            [
             0.7,
             "#b8e186"
            ],
            [
             0.8,
             "#7fbc41"
            ],
            [
             0.9,
             "#4d9221"
            ],
            [
             1,
             "#276419"
            ]
           ],
           "sequential": [
            [
             0,
             "#0d0887"
            ],
            [
             0.1111111111111111,
             "#46039f"
            ],
            [
             0.2222222222222222,
             "#7201a8"
            ],
            [
             0.3333333333333333,
             "#9c179e"
            ],
            [
             0.4444444444444444,
             "#bd3786"
            ],
            [
             0.5555555555555556,
             "#d8576b"
            ],
            [
             0.6666666666666666,
             "#ed7953"
            ],
            [
             0.7777777777777778,
             "#fb9f3a"
            ],
            [
             0.8888888888888888,
             "#fdca26"
            ],
            [
             1,
             "#f0f921"
            ]
           ],
           "sequentialminus": [
            [
             0,
             "#0d0887"
            ],
            [
             0.1111111111111111,
             "#46039f"
            ],
            [
             0.2222222222222222,
             "#7201a8"
            ],
            [
             0.3333333333333333,
             "#9c179e"
            ],
            [
             0.4444444444444444,
             "#bd3786"
            ],
            [
             0.5555555555555556,
             "#d8576b"
            ],
            [
             0.6666666666666666,
             "#ed7953"
            ],
            [
             0.7777777777777778,
             "#fb9f3a"
            ],
            [
             0.8888888888888888,
             "#fdca26"
            ],
            [
             1,
             "#f0f921"
            ]
           ]
          },
          "colorway": [
           "#636efa",
           "#EF553B",
           "#00cc96",
           "#ab63fa",
           "#FFA15A",
           "#19d3f3",
           "#FF6692",
           "#B6E880",
           "#FF97FF",
           "#FECB52"
          ],
          "font": {
           "color": "#2a3f5f"
          },
          "geo": {
           "bgcolor": "white",
           "lakecolor": "white",
           "landcolor": "#E5ECF6",
           "showlakes": true,
           "showland": true,
           "subunitcolor": "white"
          },
          "hoverlabel": {
           "align": "left"
          },
          "hovermode": "closest",
          "mapbox": {
           "style": "light"
          },
          "paper_bgcolor": "white",
          "plot_bgcolor": "#E5ECF6",
          "polar": {
           "angularaxis": {
            "gridcolor": "white",
            "linecolor": "white",
            "ticks": ""
           },
           "bgcolor": "#E5ECF6",
           "radialaxis": {
            "gridcolor": "white",
            "linecolor": "white",
            "ticks": ""
           }
          },
          "scene": {
           "xaxis": {
            "backgroundcolor": "#E5ECF6",
            "gridcolor": "white",
            "gridwidth": 2,
            "linecolor": "white",
            "showbackground": true,
            "ticks": "",
            "zerolinecolor": "white"
           },
           "yaxis": {
            "backgroundcolor": "#E5ECF6",
            "gridcolor": "white",
            "gridwidth": 2,
            "linecolor": "white",
            "showbackground": true,
            "ticks": "",
            "zerolinecolor": "white"
           },
           "zaxis": {
            "backgroundcolor": "#E5ECF6",
            "gridcolor": "white",
            "gridwidth": 2,
            "linecolor": "white",
            "showbackground": true,
            "ticks": "",
            "zerolinecolor": "white"
           }
          },
          "shapedefaults": {
           "line": {
            "color": "#2a3f5f"
           }
          },
          "ternary": {
           "aaxis": {
            "gridcolor": "white",
            "linecolor": "white",
            "ticks": ""
           },
           "baxis": {
            "gridcolor": "white",
            "linecolor": "white",
            "ticks": ""
           },
           "bgcolor": "#E5ECF6",
           "caxis": {
            "gridcolor": "white",
            "linecolor": "white",
            "ticks": ""
           }
          },
          "title": {
           "x": 0.05
          },
          "xaxis": {
           "automargin": true,
           "gridcolor": "white",
           "linecolor": "white",
           "ticks": "",
           "title": {
            "standoff": 15
           },
           "zerolinecolor": "white",
           "zerolinewidth": 2
          },
          "yaxis": {
           "automargin": true,
           "gridcolor": "white",
           "linecolor": "white",
           "ticks": "",
           "title": {
            "standoff": 15
           },
           "zerolinecolor": "white",
           "zerolinewidth": 2
          }
         }
        },
        "title": {
         "text": "Hyperparameter Importances"
        },
        "xaxis": {
         "title": {
          "text": "Hyperparameter Importance"
         }
        },
        "yaxis": {
         "title": {
          "text": "Hyperparameter"
         }
        }
       }
      }
     },
     "metadata": {},
     "output_type": "display_data"
    },
    {
     "name": "stdout",
     "output_type": "stream",
     "text": [
      "Logistic Regression Results:\n",
      "Best Parameters: {'C': 0.20261463395644366, 'solver': 'lbfgs', 'max_iter': 920}\n",
      "Accuracy: 0.77\n",
      "SVM Results:\n",
      "Best Parameters: {'C': 0.020893767582269872, 'kernel': 'linear', 'gamma': 'scale'}\n",
      "Accuracy: 0.7633333333333333\n"
     ]
    }
   ],
   "source": [
    "import pandas as pd\n",
    "import numpy as np\n",
    "from sklearn.model_selection import train_test_split, cross_val_score\n",
    "from sklearn.preprocessing import StandardScaler, OneHotEncoder\n",
    "from sklearn.linear_model import LogisticRegression\n",
    "from sklearn.svm import SVC\n",
    "from sklearn.metrics import accuracy_score\n",
    "from sklearn.impute import SimpleImputer\n",
    "from sklearn.compose import ColumnTransformer\n",
    "from sklearn.pipeline import Pipeline\n",
    "import optuna\n",
    "import optuna.visualization as ov\n",
    "\n",
    "# 假设数据已经加载到 DataFrame df 中\n",
    "# df = pd.read_csv('your_data.csv')\n",
    "\n",
    "# 1. 数据预处理\n",
    "# 分离特征和目标变量\n",
    "# X = df.drop(columns=['Credit Default'])\n",
    "# y = df['Credit Default']\n",
    "\n",
    "# 定义数值和分类特征\n",
    "numerical_features = ['Annual Income', 'Tax Liens', 'Number of Open Accounts', \n",
    "                      'Years of Credit History', 'Maximum Open Credit', \n",
    "                      'Number of Credit Problems', 'Months since last delinquent', \n",
    "                      'Bankruptcies', 'Current Loan Amount', 'Current Credit Balance', \n",
    "                      'Monthly Debt', 'Credit Score']\n",
    "categorical_features = ['Home Ownership', 'Years in current job', 'Purpose', 'Term']\n",
    "\n",
    "# 创建预处理 Pipeline\n",
    "numerical_transformer = Pipeline(steps=[\n",
    "    ('imputer', SimpleImputer(strategy='median')),  # 用中位数填充缺失值\n",
    "    ('scaler', StandardScaler())  # 标准化数值特征\n",
    "])\n",
    "\n",
    "categorical_transformer = Pipeline(steps=[\n",
    "    ('imputer', SimpleImputer(strategy='most_frequent')),  # 用众数填充缺失值\n",
    "    ('onehot', OneHotEncoder(handle_unknown='ignore'))  # One-Hot Encoding\n",
    "])\n",
    "\n",
    "preprocessor = ColumnTransformer(\n",
    "    transformers=[\n",
    "        ('num', numerical_transformer, numerical_features),\n",
    "        ('cat', categorical_transformer, categorical_features)\n",
    "    ])\n",
    "\n",
    "# 2. 数据集划分\n",
    "X_train, X_test, y_train, y_test = train_test_split(X, y, test_size=0.2, random_state=42)\n",
    "\n",
    "# 3. 定义 Optuna 目标函数\n",
    "def objective_logistic(trial):\n",
    "    C = trial.suggest_float('C', 0.01, 100, log=True)\n",
    "    solver = trial.suggest_categorical('solver', ['lbfgs', 'liblinear'])  # 只保留稳定的优化器\n",
    "    max_iter = trial.suggest_int('max_iter', 100, 10000)  # 增加上限\n",
    "\n",
    "    logistic_pipeline = Pipeline(steps=[\n",
    "        ('preprocessor', preprocessor),\n",
    "        ('classifier', LogisticRegression(C=C, solver=solver, max_iter=max_iter, random_state=42))\n",
    "    ])\n",
    "\n",
    "    score = cross_val_score(logistic_pipeline, X_train, y_train, cv=3, scoring='accuracy').mean()\n",
    "    return score\n",
    "\n",
    "def objective_svm(trial):\n",
    "    C = trial.suggest_float('C', 0.01, 100, log=True)\n",
    "    kernel = trial.suggest_categorical('kernel', ['linear', 'rbf'])  # 只保留常用 kernel\n",
    "    gamma = trial.suggest_categorical('gamma', ['scale', 'auto', 0.1, 0.01])  # 增加 gamma 选项\n",
    "\n",
    "    svm_pipeline = Pipeline(steps=[\n",
    "        ('preprocessor', preprocessor),\n",
    "        ('classifier', SVC(C=C, kernel=kernel, gamma=gamma, random_state=42))\n",
    "    ])\n",
    "\n",
    "    score = cross_val_score(svm_pipeline, X_train, y_train, cv=3, scoring='accuracy').mean()\n",
    "    return score\n",
    "\n",
    "# 4. 使用 Optuna 进行调参\n",
    "study_logistic = optuna.create_study(\n",
    "    direction='maximize',\n",
    "    pruner=optuna.pruners.MedianPruner()  # 早停机制\n",
    ")\n",
    "study_logistic.optimize(objective_logistic, n_trials=100, n_jobs=-1)  # 增加试验次数并启用并行化\n",
    "\n",
    "study_svm = optuna.create_study(\n",
    "    direction='maximize',\n",
    "    pruner=optuna.pruners.MedianPruner()  # 早停机制\n",
    ")\n",
    "study_svm.optimize(objective_svm, n_trials=100, n_jobs=-1)  # 增加试验次数并启用并行化\n",
    "\n",
    "# 5. 可视化调参过程\n",
    "ov.plot_optimization_history(study_logistic).show()\n",
    "ov.plot_param_importances(study_logistic).show()\n",
    "\n",
    "ov.plot_optimization_history(study_svm).show()\n",
    "ov.plot_param_importances(study_svm).show()\n",
    "\n",
    "# 6. 使用最佳参数训练模型\n",
    "best_params_logistic = study_logistic.best_params\n",
    "logistic_pipeline = Pipeline(steps=[\n",
    "    ('preprocessor', preprocessor),\n",
    "    ('classifier', LogisticRegression(**best_params_logistic, random_state=42))\n",
    "])\n",
    "logistic_pipeline.fit(X_train, y_train)\n",
    "y_pred_logistic = logistic_pipeline.predict(X_test)\n",
    "print(\"Logistic Regression Results:\")\n",
    "print(\"Best Parameters:\", best_params_logistic)\n",
    "print(\"Accuracy:\", accuracy_score(y_test, y_pred_logistic))\n",
    "\n",
    "best_params_svm = study_svm.best_params\n",
    "svm_pipeline = Pipeline(steps=[\n",
    "    ('preprocessor', preprocessor),\n",
    "    ('classifier', SVC(**best_params_svm, random_state=42))\n",
    "])\n",
    "svm_pipeline.fit(X_train, y_train)\n",
    "y_pred_svm = svm_pipeline.predict(X_test)\n",
    "print(\"SVM Results:\")\n",
    "print(\"Best Parameters:\", best_params_svm)\n",
    "print(\"Accuracy:\", accuracy_score(y_test, y_pred_svm))"
   ]
  }
 ],
 "metadata": {
  "kernelspec": {
   "display_name": "hh",
   "language": "python",
   "name": "python3"
  },
  "language_info": {
   "codemirror_mode": {
    "name": "ipython",
    "version": 3
   },
   "file_extension": ".py",
   "mimetype": "text/x-python",
   "name": "python",
   "nbconvert_exporter": "python",
   "pygments_lexer": "ipython3",
   "version": "3.8.20"
  }
 },
 "nbformat": 4,
 "nbformat_minor": 2
}
