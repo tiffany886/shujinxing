{
 "cells": [
  {
   "cell_type": "code",
   "execution_count": 18,
   "metadata": {
    "_cell_guid": "b1076dfc-b9ad-4769-8c92-a6c4dae69d19",
    "_uuid": "8f2839f25d086af736a60e9eeb907d3b93b6e0e5",
    "execution": {
     "iopub.execute_input": "2025-03-07T06:14:09.748050Z",
     "iopub.status.busy": "2025-03-07T06:14:09.747761Z",
     "iopub.status.idle": "2025-03-07T06:14:10.943663Z",
     "shell.execute_reply": "2025-03-07T06:14:10.942748Z",
     "shell.execute_reply.started": "2025-03-07T06:14:09.748020Z"
    },
    "trusted": true
   },
   "outputs": [],
   "source": [
    "# This Python 3 environment comes with many helpful analytics libraries installed\n",
    "# It is defined by the kaggle/python Docker image: https://github.com/kaggle/docker-python\n",
    "# For example, here's several helpful packages to load\n",
    "\n",
    "import numpy as np # linear algebra\n",
    "import pandas as pd # data processing, CSV file I/O (e.g. pd.read_csv)\n",
    "import matplotlib.pyplot as plt\n",
    "import seaborn as sns\n",
    "from sklearn import metrics\n",
    "# Input data files are available in the read-only \"../input/\" directory\n",
    "# For example, running this (by clicking run or pressing Shift+Enter) will list all files under the input directory\n",
    "\n",
    "import os\n",
    "for dirname, _, filenames in os.walk('/kaggle/input'):\n",
    "    for filename in filenames:\n",
    "        print(os.path.join(dirname, filename))\n",
    "\n",
    "# You can write up to 5GB to the current directory (/kaggle/working/) that gets preserved as output when you create a version using \"Save & Run All\" \n",
    "# You can also write temporary files to /kaggle/temp/, but they won't be saved outside of the current session"
   ]
  },
  {
   "cell_type": "markdown",
   "metadata": {},
   "source": [
    "## 1.Load data"
   ]
  },
  {
   "cell_type": "code",
   "execution_count": 19,
   "metadata": {
    "_cell_guid": "79c7e3d0-c299-4dcb-8224-4455121ee9b0",
    "_uuid": "d629ff2d2480ee46fbb7e2d37f6b5fab8052498a",
    "execution": {
     "iopub.execute_input": "2025-03-07T06:14:10.947104Z",
     "iopub.status.busy": "2025-03-07T06:14:10.946802Z",
     "iopub.status.idle": "2025-03-07T06:14:10.984633Z",
     "shell.execute_reply": "2025-03-07T06:14:10.983708Z",
     "shell.execute_reply.started": "2025-03-07T06:14:10.947072Z"
    },
    "trusted": true
   },
   "outputs": [],
   "source": [
    "DATA_PATH = '.'\n",
    "train = pd.read_csv(f'{DATA_PATH}/train.csv')\n",
    "test = pd.read_csv(f'{DATA_PATH}/test.csv')"
   ]
  },
  {
   "cell_type": "markdown",
   "metadata": {},
   "source": [
    "## 2.Data EDA"
   ]
  },
  {
   "cell_type": "code",
   "execution_count": 20,
   "metadata": {
    "execution": {
     "iopub.execute_input": "2025-03-07T06:14:10.988709Z",
     "iopub.status.busy": "2025-03-07T06:14:10.988226Z",
     "iopub.status.idle": "2025-03-07T06:14:10.999213Z",
     "shell.execute_reply": "2025-03-07T06:14:10.998229Z",
     "shell.execute_reply.started": "2025-03-07T06:14:10.988663Z"
    },
    "trusted": true
   },
   "outputs": [
    {
     "data": {
      "text/plain": [
       "(1176, 294)"
      ]
     },
     "execution_count": 20,
     "metadata": {},
     "output_type": "execute_result"
    }
   ],
   "source": [
    "len(train), len(test)"
   ]
  },
  {
   "cell_type": "code",
   "execution_count": 21,
   "metadata": {
    "execution": {
     "iopub.execute_input": "2025-03-07T06:14:11.001552Z",
     "iopub.status.busy": "2025-03-07T06:14:11.001116Z",
     "iopub.status.idle": "2025-03-07T06:14:11.045608Z",
     "shell.execute_reply": "2025-03-07T06:14:11.044430Z",
     "shell.execute_reply.started": "2025-03-07T06:14:11.001506Z"
    },
    "trusted": true
   },
   "outputs": [
    {
     "data": {
      "application/vnd.microsoft.datawrangler.viewer.v0+json": {
       "columns": [
        {
         "name": "index",
         "rawType": "int64",
         "type": "integer"
        },
        {
         "name": "user_id",
         "rawType": "int64",
         "type": "integer"
        },
        {
         "name": "Age",
         "rawType": "int64",
         "type": "integer"
        },
        {
         "name": "Attrition",
         "rawType": "object",
         "type": "string"
        },
        {
         "name": "BusinessTravel",
         "rawType": "object",
         "type": "string"
        },
        {
         "name": "DailyRate",
         "rawType": "int64",
         "type": "integer"
        },
        {
         "name": "Department",
         "rawType": "object",
         "type": "string"
        },
        {
         "name": "DistanceFromHome",
         "rawType": "int64",
         "type": "integer"
        },
        {
         "name": "Education",
         "rawType": "int64",
         "type": "integer"
        },
        {
         "name": "EducationField",
         "rawType": "object",
         "type": "string"
        },
        {
         "name": "EmployeeCount",
         "rawType": "int64",
         "type": "integer"
        },
        {
         "name": "EmployeeNumber",
         "rawType": "int64",
         "type": "integer"
        },
        {
         "name": "EnvironmentSatisfaction",
         "rawType": "int64",
         "type": "integer"
        },
        {
         "name": "Gender",
         "rawType": "object",
         "type": "string"
        },
        {
         "name": "HourlyRate",
         "rawType": "int64",
         "type": "integer"
        },
        {
         "name": "JobInvolvement",
         "rawType": "int64",
         "type": "integer"
        },
        {
         "name": "JobLevel",
         "rawType": "int64",
         "type": "integer"
        },
        {
         "name": "JobRole",
         "rawType": "object",
         "type": "string"
        },
        {
         "name": "JobSatisfaction",
         "rawType": "int64",
         "type": "integer"
        },
        {
         "name": "MaritalStatus",
         "rawType": "object",
         "type": "string"
        },
        {
         "name": "MonthlyIncome",
         "rawType": "int64",
         "type": "integer"
        },
        {
         "name": "MonthlyRate",
         "rawType": "int64",
         "type": "integer"
        },
        {
         "name": "NumCompaniesWorked",
         "rawType": "int64",
         "type": "integer"
        },
        {
         "name": "Over18",
         "rawType": "object",
         "type": "string"
        },
        {
         "name": "OverTime",
         "rawType": "object",
         "type": "string"
        },
        {
         "name": "PercentSalaryHike",
         "rawType": "int64",
         "type": "integer"
        },
        {
         "name": "PerformanceRating",
         "rawType": "int64",
         "type": "integer"
        },
        {
         "name": "RelationshipSatisfaction",
         "rawType": "int64",
         "type": "integer"
        },
        {
         "name": "StandardHours",
         "rawType": "int64",
         "type": "integer"
        },
        {
         "name": "StockOptionLevel",
         "rawType": "int64",
         "type": "integer"
        },
        {
         "name": "TotalWorkingYears",
         "rawType": "int64",
         "type": "integer"
        },
        {
         "name": "TrainingTimesLastYear",
         "rawType": "int64",
         "type": "integer"
        },
        {
         "name": "WorkLifeBalance",
         "rawType": "int64",
         "type": "integer"
        },
        {
         "name": "YearsAtCompany",
         "rawType": "int64",
         "type": "integer"
        },
        {
         "name": "YearsInCurrentRole",
         "rawType": "int64",
         "type": "integer"
        },
        {
         "name": "YearsSinceLastPromotion",
         "rawType": "int64",
         "type": "integer"
        },
        {
         "name": "YearsWithCurrManager",
         "rawType": "int64",
         "type": "integer"
        }
       ],
       "conversionMethod": "pd.DataFrame",
       "ref": "797b5d5e-85e5-46e4-94ad-12d45e4636b7",
       "rows": [
        [
         "0",
         "1374",
         "58",
         "No",
         "Travel_Rarely",
         "605",
         "Sales",
         "21",
         "3",
         "Life Sciences",
         "1",
         "1938",
         "4",
         "Female",
         "72",
         "3",
         "4",
         "Manager",
         "4",
         "Married",
         "17875",
         "11761",
         "4",
         "Y",
         "Yes",
         "13",
         "3",
         "3",
         "80",
         "1",
         "29",
         "2",
         "2",
         "1",
         "0",
         "0",
         "0"
        ],
        [
         "1",
         "1092",
         "45",
         "No",
         "Travel_Rarely",
         "950",
         "Research & Development",
         "28",
         "3",
         "Technical Degree",
         "1",
         "1546",
         "4",
         "Male",
         "97",
         "3",
         "1",
         "Research Scientist",
         "4",
         "Married",
         "2132",
         "4585",
         "4",
         "Y",
         "No",
         "20",
         "4",
         "4",
         "80",
         "1",
         "8",
         "3",
         "3",
         "5",
         "4",
         "0",
         "3"
        ],
        [
         "2",
         "768",
         "40",
         "No",
         "Travel_Rarely",
         "300",
         "Sales",
         "26",
         "3",
         "Marketing",
         "1",
         "1066",
         "3",
         "Male",
         "74",
         "3",
         "2",
         "Sales Executive",
         "1",
         "Married",
         "8396",
         "22217",
         "1",
         "Y",
         "No",
         "14",
         "3",
         "2",
         "80",
         "1",
         "8",
         "3",
         "2",
         "7",
         "7",
         "7",
         "5"
        ],
        [
         "3",
         "569",
         "36",
         "No",
         "Non-Travel",
         "1434",
         "Sales",
         "8",
         "4",
         "Life Sciences",
         "1",
         "789",
         "1",
         "Male",
         "76",
         "2",
         "3",
         "Sales Executive",
         "1",
         "Single",
         "7587",
         "14229",
         "1",
         "Y",
         "No",
         "15",
         "3",
         "2",
         "80",
         "0",
         "10",
         "1",
         "3",
         "10",
         "7",
         "0",
         "9"
        ],
        [
         "4",
         "911",
         "25",
         "Yes",
         "Travel_Frequently",
         "599",
         "Sales",
         "24",
         "1",
         "Life Sciences",
         "1",
         "1273",
         "3",
         "Male",
         "73",
         "1",
         "1",
         "Sales Representative",
         "4",
         "Single",
         "1118",
         "8040",
         "1",
         "Y",
         "Yes",
         "14",
         "3",
         "4",
         "80",
         "0",
         "1",
         "4",
         "3",
         "1",
         "0",
         "1",
         "0"
        ]
       ],
       "shape": {
        "columns": 36,
        "rows": 5
       }
      },
      "text/html": [
       "<div>\n",
       "<style scoped>\n",
       "    .dataframe tbody tr th:only-of-type {\n",
       "        vertical-align: middle;\n",
       "    }\n",
       "\n",
       "    .dataframe tbody tr th {\n",
       "        vertical-align: top;\n",
       "    }\n",
       "\n",
       "    .dataframe thead th {\n",
       "        text-align: right;\n",
       "    }\n",
       "</style>\n",
       "<table border=\"1\" class=\"dataframe\">\n",
       "  <thead>\n",
       "    <tr style=\"text-align: right;\">\n",
       "      <th></th>\n",
       "      <th>user_id</th>\n",
       "      <th>Age</th>\n",
       "      <th>Attrition</th>\n",
       "      <th>BusinessTravel</th>\n",
       "      <th>DailyRate</th>\n",
       "      <th>Department</th>\n",
       "      <th>DistanceFromHome</th>\n",
       "      <th>Education</th>\n",
       "      <th>EducationField</th>\n",
       "      <th>EmployeeCount</th>\n",
       "      <th>...</th>\n",
       "      <th>RelationshipSatisfaction</th>\n",
       "      <th>StandardHours</th>\n",
       "      <th>StockOptionLevel</th>\n",
       "      <th>TotalWorkingYears</th>\n",
       "      <th>TrainingTimesLastYear</th>\n",
       "      <th>WorkLifeBalance</th>\n",
       "      <th>YearsAtCompany</th>\n",
       "      <th>YearsInCurrentRole</th>\n",
       "      <th>YearsSinceLastPromotion</th>\n",
       "      <th>YearsWithCurrManager</th>\n",
       "    </tr>\n",
       "  </thead>\n",
       "  <tbody>\n",
       "    <tr>\n",
       "      <th>0</th>\n",
       "      <td>1374</td>\n",
       "      <td>58</td>\n",
       "      <td>No</td>\n",
       "      <td>Travel_Rarely</td>\n",
       "      <td>605</td>\n",
       "      <td>Sales</td>\n",
       "      <td>21</td>\n",
       "      <td>3</td>\n",
       "      <td>Life Sciences</td>\n",
       "      <td>1</td>\n",
       "      <td>...</td>\n",
       "      <td>3</td>\n",
       "      <td>80</td>\n",
       "      <td>1</td>\n",
       "      <td>29</td>\n",
       "      <td>2</td>\n",
       "      <td>2</td>\n",
       "      <td>1</td>\n",
       "      <td>0</td>\n",
       "      <td>0</td>\n",
       "      <td>0</td>\n",
       "    </tr>\n",
       "    <tr>\n",
       "      <th>1</th>\n",
       "      <td>1092</td>\n",
       "      <td>45</td>\n",
       "      <td>No</td>\n",
       "      <td>Travel_Rarely</td>\n",
       "      <td>950</td>\n",
       "      <td>Research &amp; Development</td>\n",
       "      <td>28</td>\n",
       "      <td>3</td>\n",
       "      <td>Technical Degree</td>\n",
       "      <td>1</td>\n",
       "      <td>...</td>\n",
       "      <td>4</td>\n",
       "      <td>80</td>\n",
       "      <td>1</td>\n",
       "      <td>8</td>\n",
       "      <td>3</td>\n",
       "      <td>3</td>\n",
       "      <td>5</td>\n",
       "      <td>4</td>\n",
       "      <td>0</td>\n",
       "      <td>3</td>\n",
       "    </tr>\n",
       "    <tr>\n",
       "      <th>2</th>\n",
       "      <td>768</td>\n",
       "      <td>40</td>\n",
       "      <td>No</td>\n",
       "      <td>Travel_Rarely</td>\n",
       "      <td>300</td>\n",
       "      <td>Sales</td>\n",
       "      <td>26</td>\n",
       "      <td>3</td>\n",
       "      <td>Marketing</td>\n",
       "      <td>1</td>\n",
       "      <td>...</td>\n",
       "      <td>2</td>\n",
       "      <td>80</td>\n",
       "      <td>1</td>\n",
       "      <td>8</td>\n",
       "      <td>3</td>\n",
       "      <td>2</td>\n",
       "      <td>7</td>\n",
       "      <td>7</td>\n",
       "      <td>7</td>\n",
       "      <td>5</td>\n",
       "    </tr>\n",
       "    <tr>\n",
       "      <th>3</th>\n",
       "      <td>569</td>\n",
       "      <td>36</td>\n",
       "      <td>No</td>\n",
       "      <td>Non-Travel</td>\n",
       "      <td>1434</td>\n",
       "      <td>Sales</td>\n",
       "      <td>8</td>\n",
       "      <td>4</td>\n",
       "      <td>Life Sciences</td>\n",
       "      <td>1</td>\n",
       "      <td>...</td>\n",
       "      <td>2</td>\n",
       "      <td>80</td>\n",
       "      <td>0</td>\n",
       "      <td>10</td>\n",
       "      <td>1</td>\n",
       "      <td>3</td>\n",
       "      <td>10</td>\n",
       "      <td>7</td>\n",
       "      <td>0</td>\n",
       "      <td>9</td>\n",
       "    </tr>\n",
       "    <tr>\n",
       "      <th>4</th>\n",
       "      <td>911</td>\n",
       "      <td>25</td>\n",
       "      <td>Yes</td>\n",
       "      <td>Travel_Frequently</td>\n",
       "      <td>599</td>\n",
       "      <td>Sales</td>\n",
       "      <td>24</td>\n",
       "      <td>1</td>\n",
       "      <td>Life Sciences</td>\n",
       "      <td>1</td>\n",
       "      <td>...</td>\n",
       "      <td>4</td>\n",
       "      <td>80</td>\n",
       "      <td>0</td>\n",
       "      <td>1</td>\n",
       "      <td>4</td>\n",
       "      <td>3</td>\n",
       "      <td>1</td>\n",
       "      <td>0</td>\n",
       "      <td>1</td>\n",
       "      <td>0</td>\n",
       "    </tr>\n",
       "  </tbody>\n",
       "</table>\n",
       "<p>5 rows × 36 columns</p>\n",
       "</div>"
      ],
      "text/plain": [
       "   user_id  Age Attrition     BusinessTravel  DailyRate  \\\n",
       "0     1374   58        No      Travel_Rarely        605   \n",
       "1     1092   45        No      Travel_Rarely        950   \n",
       "2      768   40        No      Travel_Rarely        300   \n",
       "3      569   36        No         Non-Travel       1434   \n",
       "4      911   25       Yes  Travel_Frequently        599   \n",
       "\n",
       "               Department  DistanceFromHome  Education    EducationField  \\\n",
       "0                   Sales                21          3     Life Sciences   \n",
       "1  Research & Development                28          3  Technical Degree   \n",
       "2                   Sales                26          3         Marketing   \n",
       "3                   Sales                 8          4     Life Sciences   \n",
       "4                   Sales                24          1     Life Sciences   \n",
       "\n",
       "   EmployeeCount  ...  RelationshipSatisfaction  StandardHours  \\\n",
       "0              1  ...                         3             80   \n",
       "1              1  ...                         4             80   \n",
       "2              1  ...                         2             80   \n",
       "3              1  ...                         2             80   \n",
       "4              1  ...                         4             80   \n",
       "\n",
       "  StockOptionLevel  TotalWorkingYears  TrainingTimesLastYear  WorkLifeBalance  \\\n",
       "0                1                 29                      2                2   \n",
       "1                1                  8                      3                3   \n",
       "2                1                  8                      3                2   \n",
       "3                0                 10                      1                3   \n",
       "4                0                  1                      4                3   \n",
       "\n",
       "  YearsAtCompany  YearsInCurrentRole YearsSinceLastPromotion  \\\n",
       "0              1                   0                       0   \n",
       "1              5                   4                       0   \n",
       "2              7                   7                       7   \n",
       "3             10                   7                       0   \n",
       "4              1                   0                       1   \n",
       "\n",
       "   YearsWithCurrManager  \n",
       "0                     0  \n",
       "1                     3  \n",
       "2                     5  \n",
       "3                     9  \n",
       "4                     0  \n",
       "\n",
       "[5 rows x 36 columns]"
      ]
     },
     "execution_count": 21,
     "metadata": {},
     "output_type": "execute_result"
    }
   ],
   "source": [
    "train.head()"
   ]
  },
  {
   "cell_type": "code",
   "execution_count": 22,
   "metadata": {
    "execution": {
     "iopub.execute_input": "2025-03-07T06:14:11.047343Z",
     "iopub.status.busy": "2025-03-07T06:14:11.046996Z",
     "iopub.status.idle": "2025-03-07T06:14:11.074139Z",
     "shell.execute_reply": "2025-03-07T06:14:11.073112Z",
     "shell.execute_reply.started": "2025-03-07T06:14:11.047312Z"
    },
    "trusted": true
   },
   "outputs": [
    {
     "data": {
      "application/vnd.microsoft.datawrangler.viewer.v0+json": {
       "columns": [
        {
         "name": "index",
         "rawType": "int64",
         "type": "integer"
        },
        {
         "name": "user_id",
         "rawType": "int64",
         "type": "integer"
        },
        {
         "name": "Age",
         "rawType": "int64",
         "type": "integer"
        },
        {
         "name": "BusinessTravel",
         "rawType": "object",
         "type": "string"
        },
        {
         "name": "DailyRate",
         "rawType": "int64",
         "type": "integer"
        },
        {
         "name": "Department",
         "rawType": "object",
         "type": "string"
        },
        {
         "name": "DistanceFromHome",
         "rawType": "int64",
         "type": "integer"
        },
        {
         "name": "Education",
         "rawType": "int64",
         "type": "integer"
        },
        {
         "name": "EducationField",
         "rawType": "object",
         "type": "string"
        },
        {
         "name": "EmployeeCount",
         "rawType": "int64",
         "type": "integer"
        },
        {
         "name": "EmployeeNumber",
         "rawType": "int64",
         "type": "integer"
        },
        {
         "name": "EnvironmentSatisfaction",
         "rawType": "int64",
         "type": "integer"
        },
        {
         "name": "Gender",
         "rawType": "object",
         "type": "string"
        },
        {
         "name": "HourlyRate",
         "rawType": "int64",
         "type": "integer"
        },
        {
         "name": "JobInvolvement",
         "rawType": "int64",
         "type": "integer"
        },
        {
         "name": "JobLevel",
         "rawType": "int64",
         "type": "integer"
        },
        {
         "name": "JobRole",
         "rawType": "object",
         "type": "string"
        },
        {
         "name": "JobSatisfaction",
         "rawType": "int64",
         "type": "integer"
        },
        {
         "name": "MaritalStatus",
         "rawType": "object",
         "type": "string"
        },
        {
         "name": "MonthlyIncome",
         "rawType": "int64",
         "type": "integer"
        },
        {
         "name": "MonthlyRate",
         "rawType": "int64",
         "type": "integer"
        },
        {
         "name": "NumCompaniesWorked",
         "rawType": "int64",
         "type": "integer"
        },
        {
         "name": "Over18",
         "rawType": "object",
         "type": "string"
        },
        {
         "name": "OverTime",
         "rawType": "object",
         "type": "string"
        },
        {
         "name": "PercentSalaryHike",
         "rawType": "int64",
         "type": "integer"
        },
        {
         "name": "PerformanceRating",
         "rawType": "int64",
         "type": "integer"
        },
        {
         "name": "RelationshipSatisfaction",
         "rawType": "int64",
         "type": "integer"
        },
        {
         "name": "StandardHours",
         "rawType": "int64",
         "type": "integer"
        },
        {
         "name": "StockOptionLevel",
         "rawType": "int64",
         "type": "integer"
        },
        {
         "name": "TotalWorkingYears",
         "rawType": "int64",
         "type": "integer"
        },
        {
         "name": "TrainingTimesLastYear",
         "rawType": "int64",
         "type": "integer"
        },
        {
         "name": "WorkLifeBalance",
         "rawType": "int64",
         "type": "integer"
        },
        {
         "name": "YearsAtCompany",
         "rawType": "int64",
         "type": "integer"
        },
        {
         "name": "YearsInCurrentRole",
         "rawType": "int64",
         "type": "integer"
        },
        {
         "name": "YearsSinceLastPromotion",
         "rawType": "int64",
         "type": "integer"
        },
        {
         "name": "YearsWithCurrManager",
         "rawType": "int64",
         "type": "integer"
        }
       ],
       "conversionMethod": "pd.DataFrame",
       "ref": "5e13c3bf-7b6f-4dc9-b3a1-e40d726ea662",
       "rows": [
        [
         "0",
         "442",
         "36",
         "Non-Travel",
         "635",
         "Sales",
         "10",
         "4",
         "Medical",
         "1",
         "592",
         "2",
         "Male",
         "32",
         "3",
         "3",
         "Sales Executive",
         "4",
         "Single",
         "9980",
         "15318",
         "1",
         "Y",
         "No",
         "14",
         "3",
         "4",
         "80",
         "0",
         "10",
         "3",
         "2",
         "10",
         "3",
         "9",
         "7"
        ],
        [
         "1",
         "1091",
         "33",
         "Travel_Rarely",
         "575",
         "Research & Development",
         "25",
         "3",
         "Life Sciences",
         "1",
         "1545",
         "4",
         "Male",
         "44",
         "2",
         "2",
         "Manufacturing Director",
         "2",
         "Single",
         "4320",
         "24152",
         "1",
         "Y",
         "No",
         "13",
         "3",
         "4",
         "80",
         "0",
         "5",
         "2",
         "3",
         "5",
         "3",
         "0",
         "2"
        ],
        [
         "2",
         "981",
         "35",
         "Travel_Frequently",
         "662",
         "Sales",
         "18",
         "4",
         "Marketing",
         "1",
         "1380",
         "4",
         "Female",
         "67",
         "3",
         "2",
         "Sales Executive",
         "3",
         "Married",
         "4614",
         "23288",
         "0",
         "Y",
         "Yes",
         "18",
         "3",
         "3",
         "80",
         "1",
         "5",
         "0",
         "2",
         "4",
         "2",
         "3",
         "2"
        ],
        [
         "3",
         "785",
         "40",
         "Travel_Rarely",
         "1492",
         "Research & Development",
         "20",
         "4",
         "Technical Degree",
         "1",
         "1092",
         "1",
         "Male",
         "61",
         "3",
         "3",
         "Healthcare Representative",
         "4",
         "Married",
         "10322",
         "26542",
         "4",
         "Y",
         "No",
         "20",
         "4",
         "4",
         "80",
         "1",
         "14",
         "6",
         "3",
         "11",
         "10",
         "11",
         "1"
        ],
        [
         "4",
         "1332",
         "29",
         "Travel_Frequently",
         "459",
         "Research & Development",
         "24",
         "2",
         "Life Sciences",
         "1",
         "1868",
         "4",
         "Male",
         "73",
         "2",
         "1",
         "Research Scientist",
         "4",
         "Single",
         "2439",
         "14753",
         "1",
         "Y",
         "Yes",
         "24",
         "4",
         "2",
         "80",
         "0",
         "1",
         "3",
         "2",
         "1",
         "0",
         "1",
         "0"
        ]
       ],
       "shape": {
        "columns": 35,
        "rows": 5
       }
      },
      "text/html": [
       "<div>\n",
       "<style scoped>\n",
       "    .dataframe tbody tr th:only-of-type {\n",
       "        vertical-align: middle;\n",
       "    }\n",
       "\n",
       "    .dataframe tbody tr th {\n",
       "        vertical-align: top;\n",
       "    }\n",
       "\n",
       "    .dataframe thead th {\n",
       "        text-align: right;\n",
       "    }\n",
       "</style>\n",
       "<table border=\"1\" class=\"dataframe\">\n",
       "  <thead>\n",
       "    <tr style=\"text-align: right;\">\n",
       "      <th></th>\n",
       "      <th>user_id</th>\n",
       "      <th>Age</th>\n",
       "      <th>BusinessTravel</th>\n",
       "      <th>DailyRate</th>\n",
       "      <th>Department</th>\n",
       "      <th>DistanceFromHome</th>\n",
       "      <th>Education</th>\n",
       "      <th>EducationField</th>\n",
       "      <th>EmployeeCount</th>\n",
       "      <th>EmployeeNumber</th>\n",
       "      <th>...</th>\n",
       "      <th>RelationshipSatisfaction</th>\n",
       "      <th>StandardHours</th>\n",
       "      <th>StockOptionLevel</th>\n",
       "      <th>TotalWorkingYears</th>\n",
       "      <th>TrainingTimesLastYear</th>\n",
       "      <th>WorkLifeBalance</th>\n",
       "      <th>YearsAtCompany</th>\n",
       "      <th>YearsInCurrentRole</th>\n",
       "      <th>YearsSinceLastPromotion</th>\n",
       "      <th>YearsWithCurrManager</th>\n",
       "    </tr>\n",
       "  </thead>\n",
       "  <tbody>\n",
       "    <tr>\n",
       "      <th>0</th>\n",
       "      <td>442</td>\n",
       "      <td>36</td>\n",
       "      <td>Non-Travel</td>\n",
       "      <td>635</td>\n",
       "      <td>Sales</td>\n",
       "      <td>10</td>\n",
       "      <td>4</td>\n",
       "      <td>Medical</td>\n",
       "      <td>1</td>\n",
       "      <td>592</td>\n",
       "      <td>...</td>\n",
       "      <td>4</td>\n",
       "      <td>80</td>\n",
       "      <td>0</td>\n",
       "      <td>10</td>\n",
       "      <td>3</td>\n",
       "      <td>2</td>\n",
       "      <td>10</td>\n",
       "      <td>3</td>\n",
       "      <td>9</td>\n",
       "      <td>7</td>\n",
       "    </tr>\n",
       "    <tr>\n",
       "      <th>1</th>\n",
       "      <td>1091</td>\n",
       "      <td>33</td>\n",
       "      <td>Travel_Rarely</td>\n",
       "      <td>575</td>\n",
       "      <td>Research &amp; Development</td>\n",
       "      <td>25</td>\n",
       "      <td>3</td>\n",
       "      <td>Life Sciences</td>\n",
       "      <td>1</td>\n",
       "      <td>1545</td>\n",
       "      <td>...</td>\n",
       "      <td>4</td>\n",
       "      <td>80</td>\n",
       "      <td>0</td>\n",
       "      <td>5</td>\n",
       "      <td>2</td>\n",
       "      <td>3</td>\n",
       "      <td>5</td>\n",
       "      <td>3</td>\n",
       "      <td>0</td>\n",
       "      <td>2</td>\n",
       "    </tr>\n",
       "    <tr>\n",
       "      <th>2</th>\n",
       "      <td>981</td>\n",
       "      <td>35</td>\n",
       "      <td>Travel_Frequently</td>\n",
       "      <td>662</td>\n",
       "      <td>Sales</td>\n",
       "      <td>18</td>\n",
       "      <td>4</td>\n",
       "      <td>Marketing</td>\n",
       "      <td>1</td>\n",
       "      <td>1380</td>\n",
       "      <td>...</td>\n",
       "      <td>3</td>\n",
       "      <td>80</td>\n",
       "      <td>1</td>\n",
       "      <td>5</td>\n",
       "      <td>0</td>\n",
       "      <td>2</td>\n",
       "      <td>4</td>\n",
       "      <td>2</td>\n",
       "      <td>3</td>\n",
       "      <td>2</td>\n",
       "    </tr>\n",
       "    <tr>\n",
       "      <th>3</th>\n",
       "      <td>785</td>\n",
       "      <td>40</td>\n",
       "      <td>Travel_Rarely</td>\n",
       "      <td>1492</td>\n",
       "      <td>Research &amp; Development</td>\n",
       "      <td>20</td>\n",
       "      <td>4</td>\n",
       "      <td>Technical Degree</td>\n",
       "      <td>1</td>\n",
       "      <td>1092</td>\n",
       "      <td>...</td>\n",
       "      <td>4</td>\n",
       "      <td>80</td>\n",
       "      <td>1</td>\n",
       "      <td>14</td>\n",
       "      <td>6</td>\n",
       "      <td>3</td>\n",
       "      <td>11</td>\n",
       "      <td>10</td>\n",
       "      <td>11</td>\n",
       "      <td>1</td>\n",
       "    </tr>\n",
       "    <tr>\n",
       "      <th>4</th>\n",
       "      <td>1332</td>\n",
       "      <td>29</td>\n",
       "      <td>Travel_Frequently</td>\n",
       "      <td>459</td>\n",
       "      <td>Research &amp; Development</td>\n",
       "      <td>24</td>\n",
       "      <td>2</td>\n",
       "      <td>Life Sciences</td>\n",
       "      <td>1</td>\n",
       "      <td>1868</td>\n",
       "      <td>...</td>\n",
       "      <td>2</td>\n",
       "      <td>80</td>\n",
       "      <td>0</td>\n",
       "      <td>1</td>\n",
       "      <td>3</td>\n",
       "      <td>2</td>\n",
       "      <td>1</td>\n",
       "      <td>0</td>\n",
       "      <td>1</td>\n",
       "      <td>0</td>\n",
       "    </tr>\n",
       "  </tbody>\n",
       "</table>\n",
       "<p>5 rows × 35 columns</p>\n",
       "</div>"
      ],
      "text/plain": [
       "   user_id  Age     BusinessTravel  DailyRate              Department  \\\n",
       "0      442   36         Non-Travel        635                   Sales   \n",
       "1     1091   33      Travel_Rarely        575  Research & Development   \n",
       "2      981   35  Travel_Frequently        662                   Sales   \n",
       "3      785   40      Travel_Rarely       1492  Research & Development   \n",
       "4     1332   29  Travel_Frequently        459  Research & Development   \n",
       "\n",
       "   DistanceFromHome  Education    EducationField  EmployeeCount  \\\n",
       "0                10          4           Medical              1   \n",
       "1                25          3     Life Sciences              1   \n",
       "2                18          4         Marketing              1   \n",
       "3                20          4  Technical Degree              1   \n",
       "4                24          2     Life Sciences              1   \n",
       "\n",
       "   EmployeeNumber  ...  RelationshipSatisfaction StandardHours  \\\n",
       "0             592  ...                         4            80   \n",
       "1            1545  ...                         4            80   \n",
       "2            1380  ...                         3            80   \n",
       "3            1092  ...                         4            80   \n",
       "4            1868  ...                         2            80   \n",
       "\n",
       "   StockOptionLevel  TotalWorkingYears  TrainingTimesLastYear WorkLifeBalance  \\\n",
       "0                 0                 10                      3               2   \n",
       "1                 0                  5                      2               3   \n",
       "2                 1                  5                      0               2   \n",
       "3                 1                 14                      6               3   \n",
       "4                 0                  1                      3               2   \n",
       "\n",
       "   YearsAtCompany YearsInCurrentRole  YearsSinceLastPromotion  \\\n",
       "0              10                  3                        9   \n",
       "1               5                  3                        0   \n",
       "2               4                  2                        3   \n",
       "3              11                 10                       11   \n",
       "4               1                  0                        1   \n",
       "\n",
       "   YearsWithCurrManager  \n",
       "0                     7  \n",
       "1                     2  \n",
       "2                     2  \n",
       "3                     1  \n",
       "4                     0  \n",
       "\n",
       "[5 rows x 35 columns]"
      ]
     },
     "execution_count": 22,
     "metadata": {},
     "output_type": "execute_result"
    }
   ],
   "source": [
    "test.head()"
   ]
  },
  {
   "cell_type": "markdown",
   "metadata": {},
   "source": [
    "### 2.1 Check all the columns"
   ]
  },
  {
   "cell_type": "code",
   "execution_count": 23,
   "metadata": {
    "execution": {
     "iopub.execute_input": "2025-03-07T06:14:11.076245Z",
     "iopub.status.busy": "2025-03-07T06:14:11.075752Z",
     "iopub.status.idle": "2025-03-07T06:14:11.104596Z",
     "shell.execute_reply": "2025-03-07T06:14:11.103559Z",
     "shell.execute_reply.started": "2025-03-07T06:14:11.076210Z"
    },
    "trusted": true
   },
   "outputs": [
    {
     "name": "stdout",
     "output_type": "stream",
     "text": [
      "<class 'pandas.core.frame.DataFrame'>\n",
      "RangeIndex: 1176 entries, 0 to 1175\n",
      "Data columns (total 36 columns):\n",
      " #   Column                    Non-Null Count  Dtype \n",
      "---  ------                    --------------  ----- \n",
      " 0   user_id                   1176 non-null   int64 \n",
      " 1   Age                       1176 non-null   int64 \n",
      " 2   Attrition                 1176 non-null   object\n",
      " 3   BusinessTravel            1176 non-null   object\n",
      " 4   DailyRate                 1176 non-null   int64 \n",
      " 5   Department                1176 non-null   object\n",
      " 6   DistanceFromHome          1176 non-null   int64 \n",
      " 7   Education                 1176 non-null   int64 \n",
      " 8   EducationField            1176 non-null   object\n",
      " 9   EmployeeCount             1176 non-null   int64 \n",
      " 10  EmployeeNumber            1176 non-null   int64 \n",
      " 11  EnvironmentSatisfaction   1176 non-null   int64 \n",
      " 12  Gender                    1176 non-null   object\n",
      " 13  HourlyRate                1176 non-null   int64 \n",
      " 14  JobInvolvement            1176 non-null   int64 \n",
      " 15  JobLevel                  1176 non-null   int64 \n",
      " 16  JobRole                   1176 non-null   object\n",
      " 17  JobSatisfaction           1176 non-null   int64 \n",
      " 18  MaritalStatus             1176 non-null   object\n",
      " 19  MonthlyIncome             1176 non-null   int64 \n",
      " 20  MonthlyRate               1176 non-null   int64 \n",
      " 21  NumCompaniesWorked        1176 non-null   int64 \n",
      " 22  Over18                    1176 non-null   object\n",
      " 23  OverTime                  1176 non-null   object\n",
      " 24  PercentSalaryHike         1176 non-null   int64 \n",
      " 25  PerformanceRating         1176 non-null   int64 \n",
      " 26  RelationshipSatisfaction  1176 non-null   int64 \n",
      " 27  StandardHours             1176 non-null   int64 \n",
      " 28  StockOptionLevel          1176 non-null   int64 \n",
      " 29  TotalWorkingYears         1176 non-null   int64 \n",
      " 30  TrainingTimesLastYear     1176 non-null   int64 \n",
      " 31  WorkLifeBalance           1176 non-null   int64 \n",
      " 32  YearsAtCompany            1176 non-null   int64 \n",
      " 33  YearsInCurrentRole        1176 non-null   int64 \n",
      " 34  YearsSinceLastPromotion   1176 non-null   int64 \n",
      " 35  YearsWithCurrManager      1176 non-null   int64 \n",
      "dtypes: int64(27), object(9)\n",
      "memory usage: 330.9+ KB\n"
     ]
    }
   ],
   "source": [
    "train.info()\n",
    "#user_id:员工Id(str) Age:年龄(int) Attrition:是否离职(bool) BusinessTravel:出差情况(categorical) \n",
    "#DailyRate：？(int) Department: 部门(categorical) DistanceFromHome:居住地与工作单位距离(int) Education:教育时间(int)\n",
    "#EducationField:教育背景(categorical) EmployeeCount:?(int) EmployeeNumber:员工号码(int) EnvironmentSatisfaction:环境满意度(int/categorical)\n",
    "#Gender:性别(bool) HourlyRate:?(int) JobInvolvement:工作投入度(int) JobLevel:职位等级(categorical) JobRole:职位\n",
    "#JobSatisfaction:工作满意度(int/categorical) MaritalStatus:婚姻状态(bool) MonthlyIncome:月收入(int) MonthlyRate:?(int)\n",
    "#NumCompaniesWorked:任职过的公司数(int) Over18:是否成年(bool) OverTime:是否加班(bool) PercentSalaryHike:工资提高比率(int)\n",
    "#PerformanceRating:绩效评估(int) RelationshipSatisfaction:人际关系满意度(int) StandardHours:标准工作时间(int)\n",
    "#StockOptionLevel:股票占有等级(int) TotalWorkingYears:总计工作年数(int) TrainingTimeLastYear:去年培训时长(int)\n",
    "#WorkLifeBalance:工作生活平衡情况(int) #YearsAtCompany:在公司工作年数(int) #YearsInCurrentRole:在这一职位时长(int)\n",
    "#YearsSinceLastPromotion:距离上一次升职时间(int) YearsWithCurrManager:与同一上级工作时长(int)"
   ]
  },
  {
   "cell_type": "code",
   "execution_count": 24,
   "metadata": {
    "execution": {
     "iopub.execute_input": "2025-03-07T06:14:11.106830Z",
     "iopub.status.busy": "2025-03-07T06:14:11.106386Z",
     "iopub.status.idle": "2025-03-07T06:14:11.118488Z",
     "shell.execute_reply": "2025-03-07T06:14:11.116932Z",
     "shell.execute_reply.started": "2025-03-07T06:14:11.106795Z"
    },
    "trusted": true
   },
   "outputs": [],
   "source": [
    "#0.80\n",
    "id_col = 'user_id'\n",
    "target_col = 'Attrition'\n",
    "\n",
    "digital_cols = ['Age', 'DailyRate', 'MonthlyIncome', 'NumCompaniesWorked', 'PercentSalaryHike',\n",
    "                'TotalWorkingYears', 'YearsAtCompany', 'YearsInCurrentRole', 'YearsSinceLastPromotion', 'YearsWithCurrManager']\n",
    "category_cols = ['BusinessTravel', 'Department',  'Education', 'EducationField',\n",
    "                'EmployeeNumber', 'EnvironmentSatisfaction', 'Gender', 'JobInvolvement', 'JobLevel','DistanceFromHome',\n",
    "                'JobRole', 'JobSatisfaction', 'MaritalStatus', 'Over18', 'OverTime',\n",
    "                'RelationshipSatisfaction', 'StandardHours', 'StockOptionLevel', 'PerformanceRating', 'TrainingTimesLastYear','WorkLifeBalance' ]"
   ]
  },
  {
   "cell_type": "markdown",
   "metadata": {},
   "source": [
    "### 2.2 Nan and unique values"
   ]
  },
  {
   "cell_type": "code",
   "execution_count": 25,
   "metadata": {
    "execution": {
     "iopub.execute_input": "2025-03-07T06:14:11.120252Z",
     "iopub.status.busy": "2025-03-07T06:14:11.119930Z",
     "iopub.status.idle": "2025-03-07T06:14:11.183777Z",
     "shell.execute_reply": "2025-03-07T06:14:11.182834Z",
     "shell.execute_reply.started": "2025-03-07T06:14:11.120219Z"
    },
    "trusted": true
   },
   "outputs": [
    {
     "name": "stdout",
     "output_type": "stream",
     "text": [
      "Col name:BusinessTravel                \tunique cate num in train:    3\tunique cate num in train:    3\tnull sample in train:0.00\tnull sample in test:0.00\n",
      "Col name:Department                    \tunique cate num in train:    3\tunique cate num in train:    3\tnull sample in train:0.00\tnull sample in test:0.00\n",
      "Col name:Education                     \tunique cate num in train:    5\tunique cate num in train:    5\tnull sample in train:0.00\tnull sample in test:0.00\n",
      "Col name:EducationField                \tunique cate num in train:    6\tunique cate num in train:    6\tnull sample in train:0.00\tnull sample in test:0.00\n",
      "Col name:EmployeeNumber                \tunique cate num in train: 1176\tunique cate num in train:  294\tnull sample in train:0.00\tnull sample in test:0.00\n",
      "Col name:EnvironmentSatisfaction       \tunique cate num in train:    4\tunique cate num in train:    4\tnull sample in train:0.00\tnull sample in test:0.00\n",
      "Col name:Gender                        \tunique cate num in train:    2\tunique cate num in train:    2\tnull sample in train:0.00\tnull sample in test:0.00\n",
      "Col name:JobInvolvement                \tunique cate num in train:    4\tunique cate num in train:    4\tnull sample in train:0.00\tnull sample in test:0.00\n",
      "Col name:JobLevel                      \tunique cate num in train:    5\tunique cate num in train:    5\tnull sample in train:0.00\tnull sample in test:0.00\n",
      "Col name:DistanceFromHome              \tunique cate num in train:   29\tunique cate num in train:   29\tnull sample in train:0.00\tnull sample in test:0.00\n",
      "Col name:JobRole                       \tunique cate num in train:    9\tunique cate num in train:    9\tnull sample in train:0.00\tnull sample in test:0.00\n",
      "Col name:JobSatisfaction               \tunique cate num in train:    4\tunique cate num in train:    4\tnull sample in train:0.00\tnull sample in test:0.00\n",
      "Col name:MaritalStatus                 \tunique cate num in train:    3\tunique cate num in train:    3\tnull sample in train:0.00\tnull sample in test:0.00\n",
      "Col name:Over18                        \tunique cate num in train:    1\tunique cate num in train:    1\tnull sample in train:0.00\tnull sample in test:0.00\n",
      "Col name:OverTime                      \tunique cate num in train:    2\tunique cate num in train:    2\tnull sample in train:0.00\tnull sample in test:0.00\n",
      "Col name:RelationshipSatisfaction      \tunique cate num in train:    4\tunique cate num in train:    4\tnull sample in train:0.00\tnull sample in test:0.00\n",
      "Col name:StandardHours                 \tunique cate num in train:    1\tunique cate num in train:    1\tnull sample in train:0.00\tnull sample in test:0.00\n",
      "Col name:StockOptionLevel              \tunique cate num in train:    4\tunique cate num in train:    4\tnull sample in train:0.00\tnull sample in test:0.00\n",
      "Col name:PerformanceRating             \tunique cate num in train:    2\tunique cate num in train:    2\tnull sample in train:0.00\tnull sample in test:0.00\n",
      "Col name:TrainingTimesLastYear         \tunique cate num in train:    7\tunique cate num in train:    7\tnull sample in train:0.00\tnull sample in test:0.00\n",
      "Col name:WorkLifeBalance               \tunique cate num in train:    4\tunique cate num in train:    4\tnull sample in train:0.00\tnull sample in test:0.00\n"
     ]
    }
   ],
   "source": [
    "# Credits to https://www.kaggle.com/a763337092/lr-baseline-for-bi-class#Data-process\n",
    "# For categorical data\n",
    "for col in category_cols:\n",
    "    nunique_tr = train[col].nunique()\n",
    "    nunique_te = test[col].nunique()\n",
    "    na_tr = len(train.loc[train[col].isna()]) / len(train)\n",
    "    na_te = len(test.loc[test[col].isna()]) / len(test)\n",
    "    print(f'Col name:{col:30}\\tunique cate num in train:{nunique_tr:5}\\tunique cate num in train:{nunique_te:5}\\tnull sample in train:{na_tr:.2f}\\tnull sample in test:{na_te:.2f}')"
   ]
  },
  {
   "cell_type": "code",
   "execution_count": 26,
   "metadata": {
    "execution": {
     "iopub.execute_input": "2025-03-07T06:14:11.185684Z",
     "iopub.status.busy": "2025-03-07T06:14:11.185340Z",
     "iopub.status.idle": "2025-03-07T06:14:11.415732Z",
     "shell.execute_reply": "2025-03-07T06:14:11.414520Z",
     "shell.execute_reply.started": "2025-03-07T06:14:11.185643Z"
    },
    "trusted": true
   },
   "outputs": [
    {
     "name": "stdout",
     "output_type": "stream",
     "text": [
      "\tIn train data:\tnan sample rate:0.00\t\n",
      "\tIn test data\tnan sample rate:0.00\t\n",
      "\tIn train data:\tnan sample rate:0.00\t\n",
      "\tIn test data\tnan sample rate:0.00\t\n",
      "\tIn train data:\tnan sample rate:0.00\t\n",
      "\tIn test data\tnan sample rate:0.00\t\n",
      "\tIn train data:\tnan sample rate:0.00\t\n",
      "\tIn test data\tnan sample rate:0.00\t\n",
      "\tIn train data:\tnan sample rate:0.00\t\n",
      "\tIn test data\tnan sample rate:0.00\t\n",
      "\tIn train data:\tnan sample rate:0.00\t\n",
      "\tIn test data\tnan sample rate:0.00\t\n",
      "\tIn train data:\tnan sample rate:0.00\t\n",
      "\tIn test data\tnan sample rate:0.00\t\n",
      "\tIn train data:\tnan sample rate:0.00\t\n",
      "\tIn test data\tnan sample rate:0.00\t\n",
      "\tIn train data:\tnan sample rate:0.00\t\n",
      "\tIn test data\tnan sample rate:0.00\t\n",
      "\tIn train data:\tnan sample rate:0.00\t\n",
      "\tIn test data\tnan sample rate:0.00\t\n"
     ]
    },
    {
     "data": {
      "text/plain": [
       "<function matplotlib.pyplot.show(close=None, block=None)>"
      ]
     },
     "execution_count": 26,
     "metadata": {},
     "output_type": "execute_result"
    },
    {
     "data": {
      "image/png": "[encoded data removed]",
      "text/plain": [
       "<Figure size 640x480 with 1 Axes>"
      ]
     },
     "metadata": {},
     "output_type": "display_data"
    }
   ],
   "source": [
    "#For numerical data\n",
    "\n",
    "for col in digital_cols:\n",
    "    \n",
    "    min_tr = train[col].min()\n",
    "    max_tr = train[col].max()\n",
    "    mean_tr = train[col].mean()\n",
    "    median_tr = train[col].median()\n",
    "    std_tr = train[col].std()\n",
    "    x = ['min','mean','median','std','max']\n",
    "    y = [min_tr,mean_tr,median_tr,std_tr,max_tr]\n",
    "\n",
    "    \n",
    "    \n",
    "    min_te = test[col].min()\n",
    "    max_te = test[col].max()\n",
    "    mean_te = test[col].mean()\n",
    "    median_te = test[col].median()\n",
    "    std_te = test[col].std()\n",
    "    x = ['min','mean','median','std','max']\n",
    "    y = [min_tr,mean_tr,median_tr,std_tr,max_tr]\n",
    "    \n",
    "    na_tr = len(train.loc[train[col].isna()]) / len(train)\n",
    "    na_te = len(test.loc[test[col].isna()]) / len(test)\n",
    "    print(f'\\tIn train data:\\tnan sample rate:{na_tr:.2f}\\t')\n",
    "    print(f'\\tIn test data\\tnan sample rate:{na_te:.2f}\\t')\n",
    "plt.bar(x, y)\n",
    "plt.title(col)\n",
    "plt.show"
   ]
  },
  {
   "cell_type": "markdown",
   "metadata": {},
   "source": [
    "### 2.3 Visualization"
   ]
  },
  {
   "cell_type": "code",
   "execution_count": 27,
   "metadata": {
    "execution": {
     "iopub.execute_input": "2025-03-07T06:14:11.417657Z",
     "iopub.status.busy": "2025-03-07T06:14:11.417299Z",
     "iopub.status.idle": "2025-03-07T06:14:11.620336Z",
     "shell.execute_reply": "2025-03-07T06:14:11.619337Z",
     "shell.execute_reply.started": "2025-03-07T06:14:11.417594Z"
    },
    "trusted": true
   },
   "outputs": [
    {
     "name": "stdout",
     "output_type": "stream",
     "text": [
      "0        No\n",
      "1        No\n",
      "2        No\n",
      "3        No\n",
      "4       Yes\n",
      "       ... \n",
      "1171     No\n",
      "1172     No\n",
      "1173     No\n",
      "1174     No\n",
      "1175     No\n",
      "Name: Attrition, Length: 1176, dtype: object\n"
     ]
    },
    {
     "name": "stderr",
     "output_type": "stream",
     "text": [
      "C:\\Users\\Tiffany\\AppData\\Local\\Temp\\ipykernel_62576\\3973910140.py:4: FutureWarning: \n",
      "\n",
      "Passing `palette` without assigning `hue` is deprecated and will be removed in v0.14.0. Assign the `x` variable to `hue` and set `legend=False` for the same effect.\n",
      "\n",
      "  sns.barplot(x='Attrition', y='Age', data = train , palette = 'Set2')\n"
     ]
    },
    {
     "data": {
      "text/plain": [
       "<Axes: xlabel='Attrition', ylabel='Age'>"
      ]
     },
     "execution_count": 27,
     "metadata": {},
     "output_type": "execute_result"
    },
    {
     "data": {
      "image/png": "[encoded data removed]",
      "text/plain": [
       "<Figure size 400x300 with 1 Axes>"
      ]
     },
     "metadata": {},
     "output_type": "display_data"
    }
   ],
   "source": [
    "#age and attrition\n",
    "plt.figure(figsize=(4,3))\n",
    "print(train['Attrition'])\n",
    "sns.barplot(x='Attrition', y='Age', data = train , palette = 'Set2')"
   ]
  },
  {
   "cell_type": "markdown",
   "metadata": {},
   "source": [
    "#### HeatMap of Correlations"
   ]
  },
  {
   "cell_type": "code",
   "execution_count": 33,
   "metadata": {},
   "outputs": [
    {
     "name": "stdout",
     "output_type": "stream",
     "text": [
      "user_id                      int64\n",
      "Age                          int64\n",
      "Attrition                   object\n",
      "BusinessTravel              object\n",
      "DailyRate                    int64\n",
      "Department                  object\n",
      "DistanceFromHome             int64\n",
      "Education                    int64\n",
      "EducationField              object\n",
      "EmployeeCount                int64\n",
      "EmployeeNumber               int64\n",
      "EnvironmentSatisfaction      int64\n",
      "Gender                      object\n",
      "HourlyRate                   int64\n",
      "JobInvolvement               int64\n",
      "JobLevel                     int64\n",
      "JobRole                     object\n",
      "JobSatisfaction              int64\n",
      "MaritalStatus               object\n",
      "MonthlyIncome                int64\n",
      "MonthlyRate                  int64\n",
      "NumCompaniesWorked           int64\n",
      "Over18                      object\n",
      "OverTime                    object\n",
      "PercentSalaryHike            int64\n",
      "PerformanceRating            int64\n",
      "RelationshipSatisfaction     int64\n",
      "StandardHours                int64\n",
      "StockOptionLevel             int64\n",
      "TotalWorkingYears            int64\n",
      "TrainingTimesLastYear        int64\n",
      "WorkLifeBalance              int64\n",
      "YearsAtCompany               int64\n",
      "YearsInCurrentRole           int64\n",
      "YearsSinceLastPromotion      int64\n",
      "YearsWithCurrManager         int64\n",
      "dtype: object\n"
     ]
    }
   ],
   "source": [
    "print(train.dtypes)"
   ]
  },
  {
   "cell_type": "code",
   "execution_count": 35,
   "metadata": {
    "execution": {
     "iopub.execute_input": "2025-03-07T06:14:11.622286Z",
     "iopub.status.busy": "2025-03-07T06:14:11.621863Z",
     "iopub.status.idle": "2025-03-07T06:14:12.361039Z",
     "shell.execute_reply": "2025-03-07T06:14:12.360112Z",
     "shell.execute_reply.started": "2025-03-07T06:14:11.622250Z"
    },
    "trusted": true
   },
   "outputs": [
    {
     "ename": "ValueError",
     "evalue": "could not convert string to float: 'No'",
     "output_type": "error",
     "traceback": [
      "\u001b[1;31m---------------------------------------------------------------------------\u001b[0m",
      "\u001b[1;31mValueError\u001b[0m                                Traceback (most recent call last)",
      "Cell \u001b[1;32mIn[35], line 2\u001b[0m\n\u001b[0;32m      1\u001b[0m figure, ax \u001b[38;5;241m=\u001b[39m plt\u001b[38;5;241m.\u001b[39msubplots(figsize\u001b[38;5;241m=\u001b[39m(\u001b[38;5;241m10\u001b[39m, \u001b[38;5;241m10\u001b[39m))\n\u001b[1;32m----> 2\u001b[0m data \u001b[38;5;241m=\u001b[39m \u001b[43mpd\u001b[49m\u001b[38;5;241;43m.\u001b[39;49m\u001b[43mconcat\u001b[49m\u001b[43m(\u001b[49m\u001b[43m[\u001b[49m\u001b[43mtrain\u001b[49m\u001b[38;5;241;43m.\u001b[39;49m\u001b[43mdrop\u001b[49m\u001b[43m(\u001b[49m\u001b[43m[\u001b[49m\u001b[38;5;124;43m'\u001b[39;49m\u001b[38;5;124;43mEmployeeNumber\u001b[39;49m\u001b[38;5;124;43m'\u001b[39;49m\u001b[43m,\u001b[49m\u001b[38;5;124;43m'\u001b[39;49m\u001b[38;5;124;43mEmployeeCount\u001b[39;49m\u001b[38;5;124;43m'\u001b[39;49m\u001b[43m,\u001b[49m\u001b[43m \u001b[49m\u001b[38;5;124;43m'\u001b[39;49m\u001b[38;5;124;43mOver18\u001b[39;49m\u001b[38;5;124;43m'\u001b[39;49m\u001b[43m,\u001b[49m\u001b[38;5;124;43m'\u001b[39;49m\u001b[38;5;124;43mStandardHours\u001b[39;49m\u001b[38;5;124;43m'\u001b[39;49m\u001b[43m]\u001b[49m\u001b[43m,\u001b[49m\u001b[43maxis\u001b[49m\u001b[43m \u001b[49m\u001b[38;5;241;43m=\u001b[39;49m\u001b[43m \u001b[49m\u001b[38;5;241;43m1\u001b[39;49m\u001b[43m)\u001b[49m\u001b[43m,\u001b[49m\u001b[43m \u001b[49m\u001b[43mtest\u001b[49m\u001b[43m]\u001b[49m\u001b[43m)\u001b[49m\u001b[38;5;241;43m.\u001b[39;49m\u001b[43mcorr\u001b[49m\u001b[43m(\u001b[49m\u001b[43m)\u001b[49m \u001b[38;5;241m*\u001b[39m\u001b[38;5;241m*\u001b[39m \u001b[38;5;241m2\u001b[39m\n\u001b[0;32m      3\u001b[0m \u001b[38;5;66;03m# data = np.tril(data, k=-1)\u001b[39;00m\n\u001b[0;32m      4\u001b[0m data[data\u001b[38;5;241m==\u001b[39m\u001b[38;5;241m0\u001b[39m] \u001b[38;5;241m=\u001b[39m np\u001b[38;5;241m.\u001b[39mnan\n",
      "File \u001b[1;32mc:\\UserFiles\\Anaconda3\\envs\\hh\\lib\\site-packages\\pandas\\core\\frame.py:10054\u001b[0m, in \u001b[0;36mDataFrame.corr\u001b[1;34m(self, method, min_periods, numeric_only)\u001b[0m\n\u001b[0;32m  10052\u001b[0m cols \u001b[38;5;241m=\u001b[39m data\u001b[38;5;241m.\u001b[39mcolumns\n\u001b[0;32m  10053\u001b[0m idx \u001b[38;5;241m=\u001b[39m cols\u001b[38;5;241m.\u001b[39mcopy()\n\u001b[1;32m> 10054\u001b[0m mat \u001b[38;5;241m=\u001b[39m \u001b[43mdata\u001b[49m\u001b[38;5;241;43m.\u001b[39;49m\u001b[43mto_numpy\u001b[49m\u001b[43m(\u001b[49m\u001b[43mdtype\u001b[49m\u001b[38;5;241;43m=\u001b[39;49m\u001b[38;5;28;43mfloat\u001b[39;49m\u001b[43m,\u001b[49m\u001b[43m \u001b[49m\u001b[43mna_value\u001b[49m\u001b[38;5;241;43m=\u001b[39;49m\u001b[43mnp\u001b[49m\u001b[38;5;241;43m.\u001b[39;49m\u001b[43mnan\u001b[49m\u001b[43m,\u001b[49m\u001b[43m \u001b[49m\u001b[43mcopy\u001b[49m\u001b[38;5;241;43m=\u001b[39;49m\u001b[38;5;28;43;01mFalse\u001b[39;49;00m\u001b[43m)\u001b[49m\n\u001b[0;32m  10056\u001b[0m \u001b[38;5;28;01mif\u001b[39;00m method \u001b[38;5;241m==\u001b[39m \u001b[38;5;124m\"\u001b[39m\u001b[38;5;124mpearson\u001b[39m\u001b[38;5;124m\"\u001b[39m:\n\u001b[0;32m  10057\u001b[0m     correl \u001b[38;5;241m=\u001b[39m libalgos\u001b[38;5;241m.\u001b[39mnancorr(mat, minp\u001b[38;5;241m=\u001b[39mmin_periods)\n",
      "File \u001b[1;32mc:\\UserFiles\\Anaconda3\\envs\\hh\\lib\\site-packages\\pandas\\core\\frame.py:1838\u001b[0m, in \u001b[0;36mDataFrame.to_numpy\u001b[1;34m(self, dtype, copy, na_value)\u001b[0m\n\u001b[0;32m   1836\u001b[0m \u001b[38;5;28;01mif\u001b[39;00m dtype \u001b[38;5;129;01mis\u001b[39;00m \u001b[38;5;129;01mnot\u001b[39;00m \u001b[38;5;28;01mNone\u001b[39;00m:\n\u001b[0;32m   1837\u001b[0m     dtype \u001b[38;5;241m=\u001b[39m np\u001b[38;5;241m.\u001b[39mdtype(dtype)\n\u001b[1;32m-> 1838\u001b[0m result \u001b[38;5;241m=\u001b[39m \u001b[38;5;28;43mself\u001b[39;49m\u001b[38;5;241;43m.\u001b[39;49m\u001b[43m_mgr\u001b[49m\u001b[38;5;241;43m.\u001b[39;49m\u001b[43mas_array\u001b[49m\u001b[43m(\u001b[49m\u001b[43mdtype\u001b[49m\u001b[38;5;241;43m=\u001b[39;49m\u001b[43mdtype\u001b[49m\u001b[43m,\u001b[49m\u001b[43m \u001b[49m\u001b[43mcopy\u001b[49m\u001b[38;5;241;43m=\u001b[39;49m\u001b[43mcopy\u001b[49m\u001b[43m,\u001b[49m\u001b[43m \u001b[49m\u001b[43mna_value\u001b[49m\u001b[38;5;241;43m=\u001b[39;49m\u001b[43mna_value\u001b[49m\u001b[43m)\u001b[49m\n\u001b[0;32m   1839\u001b[0m \u001b[38;5;28;01mif\u001b[39;00m result\u001b[38;5;241m.\u001b[39mdtype \u001b[38;5;129;01mis\u001b[39;00m \u001b[38;5;129;01mnot\u001b[39;00m dtype:\n\u001b[0;32m   1840\u001b[0m     result \u001b[38;5;241m=\u001b[39m np\u001b[38;5;241m.\u001b[39marray(result, dtype\u001b[38;5;241m=\u001b[39mdtype, copy\u001b[38;5;241m=\u001b[39m\u001b[38;5;28;01mFalse\u001b[39;00m)\n",
      "File \u001b[1;32mc:\\UserFiles\\Anaconda3\\envs\\hh\\lib\\site-packages\\pandas\\core\\internals\\managers.py:1732\u001b[0m, in \u001b[0;36mBlockManager.as_array\u001b[1;34m(self, dtype, copy, na_value)\u001b[0m\n\u001b[0;32m   1730\u001b[0m         arr\u001b[38;5;241m.\u001b[39mflags\u001b[38;5;241m.\u001b[39mwriteable \u001b[38;5;241m=\u001b[39m \u001b[38;5;28;01mFalse\u001b[39;00m\n\u001b[0;32m   1731\u001b[0m \u001b[38;5;28;01melse\u001b[39;00m:\n\u001b[1;32m-> 1732\u001b[0m     arr \u001b[38;5;241m=\u001b[39m \u001b[38;5;28;43mself\u001b[39;49m\u001b[38;5;241;43m.\u001b[39;49m\u001b[43m_interleave\u001b[49m\u001b[43m(\u001b[49m\u001b[43mdtype\u001b[49m\u001b[38;5;241;43m=\u001b[39;49m\u001b[43mdtype\u001b[49m\u001b[43m,\u001b[49m\u001b[43m \u001b[49m\u001b[43mna_value\u001b[49m\u001b[38;5;241;43m=\u001b[39;49m\u001b[43mna_value\u001b[49m\u001b[43m)\u001b[49m\n\u001b[0;32m   1733\u001b[0m     \u001b[38;5;66;03m# The underlying data was copied within _interleave, so no need\u001b[39;00m\n\u001b[0;32m   1734\u001b[0m     \u001b[38;5;66;03m# to further copy if copy=True or setting na_value\u001b[39;00m\n\u001b[0;32m   1736\u001b[0m \u001b[38;5;28;01mif\u001b[39;00m na_value \u001b[38;5;129;01mis\u001b[39;00m \u001b[38;5;129;01mnot\u001b[39;00m lib\u001b[38;5;241m.\u001b[39mno_default:\n",
      "File \u001b[1;32mc:\\UserFiles\\Anaconda3\\envs\\hh\\lib\\site-packages\\pandas\\core\\internals\\managers.py:1794\u001b[0m, in \u001b[0;36mBlockManager._interleave\u001b[1;34m(self, dtype, na_value)\u001b[0m\n\u001b[0;32m   1792\u001b[0m     \u001b[38;5;28;01melse\u001b[39;00m:\n\u001b[0;32m   1793\u001b[0m         arr \u001b[38;5;241m=\u001b[39m blk\u001b[38;5;241m.\u001b[39mget_values(dtype)\n\u001b[1;32m-> 1794\u001b[0m     \u001b[43mresult\u001b[49m\u001b[43m[\u001b[49m\u001b[43mrl\u001b[49m\u001b[38;5;241;43m.\u001b[39;49m\u001b[43mindexer\u001b[49m\u001b[43m]\u001b[49m \u001b[38;5;241m=\u001b[39m arr\n\u001b[0;32m   1795\u001b[0m     itemmask[rl\u001b[38;5;241m.\u001b[39mindexer] \u001b[38;5;241m=\u001b[39m \u001b[38;5;241m1\u001b[39m\n\u001b[0;32m   1797\u001b[0m \u001b[38;5;28;01mif\u001b[39;00m \u001b[38;5;129;01mnot\u001b[39;00m itemmask\u001b[38;5;241m.\u001b[39mall():\n",
      "\u001b[1;31mValueError\u001b[0m: could not convert string to float: 'No'"
     ]
    },
    {
     "data": {
      "image/png": "[encoded data removed]",
      "text/plain": [
       "<Figure size 1000x1000 with 1 Axes>"
      ]
     },
     "metadata": {},
     "output_type": "display_data"
    }
   ],
   "source": [
    "figure, ax = plt.subplots(figsize=(10, 10))\n",
    "data = pd.concat([train.drop(['EmployeeNumber','EmployeeCount', 'Over18','StandardHours'],axis = 1), test]).corr() ** 2\n",
    "# data = np.tril(data, k=-1)\n",
    "data[data==0] = np.nan\n",
    "sns.heatmap(np.sqrt(data), annot=False, cmap='viridis', ax=ax)"
   ]
  },
  {
   "cell_type": "markdown",
   "metadata": {},
   "source": [
    "#### Correlation between vars and target"
   ]
  },
  {
   "cell_type": "code",
   "execution_count": 30,
   "metadata": {
    "execution": {
     "iopub.execute_input": "2025-03-07T06:14:12.362722Z",
     "iopub.status.busy": "2025-03-07T06:14:12.362370Z",
     "iopub.status.idle": "2025-03-07T06:14:12.367734Z",
     "shell.execute_reply": "2025-03-07T06:14:12.366784Z",
     "shell.execute_reply.started": "2025-03-07T06:14:12.362687Z"
    },
    "trusted": true
   },
   "outputs": [
    {
     "ename": "NameError",
     "evalue": "name 'data' is not defined",
     "output_type": "error",
     "traceback": [
      "\u001b[1;31m---------------------------------------------------------------------------\u001b[0m",
      "\u001b[1;31mNameError\u001b[0m                                 Traceback (most recent call last)",
      "Cell \u001b[1;32mIn[30], line 1\u001b[0m\n\u001b[1;32m----> 1\u001b[0m \u001b[38;5;28mprint\u001b[39m(\u001b[38;5;28mtype\u001b[39m(\u001b[43mdata\u001b[49m))\n",
      "\u001b[1;31mNameError\u001b[0m: name 'data' is not defined"
     ]
    }
   ],
   "source": [
    "print(type(data))"
   ]
  },
  {
   "cell_type": "markdown",
   "metadata": {},
   "source": [
    "## 3.Data preprocessing"
   ]
  },
  {
   "cell_type": "code",
   "execution_count": 36,
   "metadata": {
    "execution": {
     "iopub.execute_input": "2025-03-07T06:14:12.369829Z",
     "iopub.status.busy": "2025-03-07T06:14:12.369325Z",
     "iopub.status.idle": "2025-03-07T06:14:12.793770Z",
     "shell.execute_reply": "2025-03-07T06:14:12.792571Z",
     "shell.execute_reply.started": "2025-03-07T06:14:12.369775Z"
    },
    "trusted": true
   },
   "outputs": [
    {
     "ename": "TypeError",
     "evalue": "unsupported operand type(s) for /: 'str' and 'int'",
     "output_type": "error",
     "traceback": [
      "\u001b[1;31m---------------------------------------------------------------------------\u001b[0m",
      "\u001b[1;31mTypeError\u001b[0m                                 Traceback (most recent call last)",
      "Cell \u001b[1;32mIn[36], line 7\u001b[0m\n\u001b[0;32m      5\u001b[0m train2 \u001b[38;5;241m=\u001b[39m train1\n\u001b[0;32m      6\u001b[0m \u001b[38;5;66;03m#train2.drop(['Attrition'])\u001b[39;00m\n\u001b[1;32m----> 7\u001b[0m data \u001b[38;5;241m=\u001b[39m \u001b[43mtrain2\u001b[49m\u001b[38;5;241;43m.\u001b[39;49m\u001b[43mcorrwith\u001b[49m\u001b[43m(\u001b[49m\u001b[43mtrain1\u001b[49m\u001b[43m[\u001b[49m\u001b[38;5;124;43m'\u001b[39;49m\u001b[38;5;124;43mAttrition\u001b[39;49m\u001b[38;5;124;43m'\u001b[39;49m\u001b[43m]\u001b[49m\u001b[43m)\u001b[49m\u001b[38;5;241m.\u001b[39magg(\u001b[38;5;124m'\u001b[39m\u001b[38;5;124msquare\u001b[39m\u001b[38;5;124m'\u001b[39m)\n\u001b[0;32m      8\u001b[0m data \u001b[38;5;241m=\u001b[39m data\u001b[38;5;241m.\u001b[39mdrop(\u001b[38;5;124m'\u001b[39m\u001b[38;5;124mAttrition\u001b[39m\u001b[38;5;124m'\u001b[39m)\n\u001b[0;32m      9\u001b[0m figure, ax \u001b[38;5;241m=\u001b[39m plt\u001b[38;5;241m.\u001b[39msubplots(figsize\u001b[38;5;241m=\u001b[39m(\u001b[38;5;241m10\u001b[39m, \u001b[38;5;241m10\u001b[39m))\n",
      "File \u001b[1;32mc:\\UserFiles\\Anaconda3\\envs\\hh\\lib\\site-packages\\pandas\\core\\frame.py:10301\u001b[0m, in \u001b[0;36mDataFrame.corrwith\u001b[1;34m(self, other, axis, drop, method, numeric_only)\u001b[0m\n\u001b[0;32m  10298\u001b[0m this \u001b[38;5;241m=\u001b[39m \u001b[38;5;28mself\u001b[39m\u001b[38;5;241m.\u001b[39m_get_numeric_data() \u001b[38;5;28;01mif\u001b[39;00m numeric_only \u001b[38;5;28;01melse\u001b[39;00m \u001b[38;5;28mself\u001b[39m\n\u001b[0;32m  10300\u001b[0m \u001b[38;5;28;01mif\u001b[39;00m \u001b[38;5;28misinstance\u001b[39m(other, Series):\n\u001b[1;32m> 10301\u001b[0m     \u001b[38;5;28;01mreturn\u001b[39;00m \u001b[43mthis\u001b[49m\u001b[38;5;241;43m.\u001b[39;49m\u001b[43mapply\u001b[49m\u001b[43m(\u001b[49m\u001b[38;5;28;43;01mlambda\u001b[39;49;00m\u001b[43m \u001b[49m\u001b[43mx\u001b[49m\u001b[43m:\u001b[49m\u001b[43m \u001b[49m\u001b[43mother\u001b[49m\u001b[38;5;241;43m.\u001b[39;49m\u001b[43mcorr\u001b[49m\u001b[43m(\u001b[49m\u001b[43mx\u001b[49m\u001b[43m,\u001b[49m\u001b[43m \u001b[49m\u001b[43mmethod\u001b[49m\u001b[38;5;241;43m=\u001b[39;49m\u001b[43mmethod\u001b[49m\u001b[43m)\u001b[49m\u001b[43m,\u001b[49m\u001b[43m \u001b[49m\u001b[43maxis\u001b[49m\u001b[38;5;241;43m=\u001b[39;49m\u001b[43maxis\u001b[49m\u001b[43m)\u001b[49m\n\u001b[0;32m  10303\u001b[0m \u001b[38;5;28;01mif\u001b[39;00m numeric_only:\n\u001b[0;32m  10304\u001b[0m     other \u001b[38;5;241m=\u001b[39m other\u001b[38;5;241m.\u001b[39m_get_numeric_data()\n",
      "File \u001b[1;32mc:\\UserFiles\\Anaconda3\\envs\\hh\\lib\\site-packages\\pandas\\core\\frame.py:9423\u001b[0m, in \u001b[0;36mDataFrame.apply\u001b[1;34m(self, func, axis, raw, result_type, args, **kwargs)\u001b[0m\n\u001b[0;32m   9412\u001b[0m \u001b[38;5;28;01mfrom\u001b[39;00m \u001b[38;5;21;01mpandas\u001b[39;00m\u001b[38;5;21;01m.\u001b[39;00m\u001b[38;5;21;01mcore\u001b[39;00m\u001b[38;5;21;01m.\u001b[39;00m\u001b[38;5;21;01mapply\u001b[39;00m \u001b[38;5;28;01mimport\u001b[39;00m frame_apply\n\u001b[0;32m   9414\u001b[0m op \u001b[38;5;241m=\u001b[39m frame_apply(\n\u001b[0;32m   9415\u001b[0m     \u001b[38;5;28mself\u001b[39m,\n\u001b[0;32m   9416\u001b[0m     func\u001b[38;5;241m=\u001b[39mfunc,\n\u001b[1;32m   (...)\u001b[0m\n\u001b[0;32m   9421\u001b[0m     kwargs\u001b[38;5;241m=\u001b[39mkwargs,\n\u001b[0;32m   9422\u001b[0m )\n\u001b[1;32m-> 9423\u001b[0m \u001b[38;5;28;01mreturn\u001b[39;00m \u001b[43mop\u001b[49m\u001b[38;5;241;43m.\u001b[39;49m\u001b[43mapply\u001b[49m\u001b[43m(\u001b[49m\u001b[43m)\u001b[49m\u001b[38;5;241m.\u001b[39m__finalize__(\u001b[38;5;28mself\u001b[39m, method\u001b[38;5;241m=\u001b[39m\u001b[38;5;124m\"\u001b[39m\u001b[38;5;124mapply\u001b[39m\u001b[38;5;124m\"\u001b[39m)\n",
      "File \u001b[1;32mc:\\UserFiles\\Anaconda3\\envs\\hh\\lib\\site-packages\\pandas\\core\\apply.py:678\u001b[0m, in \u001b[0;36mFrameApply.apply\u001b[1;34m(self)\u001b[0m\n\u001b[0;32m    675\u001b[0m \u001b[38;5;28;01melif\u001b[39;00m \u001b[38;5;28mself\u001b[39m\u001b[38;5;241m.\u001b[39mraw:\n\u001b[0;32m    676\u001b[0m     \u001b[38;5;28;01mreturn\u001b[39;00m \u001b[38;5;28mself\u001b[39m\u001b[38;5;241m.\u001b[39mapply_raw()\n\u001b[1;32m--> 678\u001b[0m \u001b[38;5;28;01mreturn\u001b[39;00m \u001b[38;5;28;43mself\u001b[39;49m\u001b[38;5;241;43m.\u001b[39;49m\u001b[43mapply_standard\u001b[49m\u001b[43m(\u001b[49m\u001b[43m)\u001b[49m\n",
      "File \u001b[1;32mc:\\UserFiles\\Anaconda3\\envs\\hh\\lib\\site-packages\\pandas\\core\\apply.py:798\u001b[0m, in \u001b[0;36mFrameApply.apply_standard\u001b[1;34m(self)\u001b[0m\n\u001b[0;32m    797\u001b[0m \u001b[38;5;28;01mdef\u001b[39;00m \u001b[38;5;21mapply_standard\u001b[39m(\u001b[38;5;28mself\u001b[39m):\n\u001b[1;32m--> 798\u001b[0m     results, res_index \u001b[38;5;241m=\u001b[39m \u001b[38;5;28;43mself\u001b[39;49m\u001b[38;5;241;43m.\u001b[39;49m\u001b[43mapply_series_generator\u001b[49m\u001b[43m(\u001b[49m\u001b[43m)\u001b[49m\n\u001b[0;32m    800\u001b[0m     \u001b[38;5;66;03m# wrap results\u001b[39;00m\n\u001b[0;32m    801\u001b[0m     \u001b[38;5;28;01mreturn\u001b[39;00m \u001b[38;5;28mself\u001b[39m\u001b[38;5;241m.\u001b[39mwrap_results(results, res_index)\n",
      "File \u001b[1;32mc:\\UserFiles\\Anaconda3\\envs\\hh\\lib\\site-packages\\pandas\\core\\apply.py:814\u001b[0m, in \u001b[0;36mFrameApply.apply_series_generator\u001b[1;34m(self)\u001b[0m\n\u001b[0;32m    811\u001b[0m \u001b[38;5;28;01mwith\u001b[39;00m option_context(\u001b[38;5;124m\"\u001b[39m\u001b[38;5;124mmode.chained_assignment\u001b[39m\u001b[38;5;124m\"\u001b[39m, \u001b[38;5;28;01mNone\u001b[39;00m):\n\u001b[0;32m    812\u001b[0m     \u001b[38;5;28;01mfor\u001b[39;00m i, v \u001b[38;5;129;01min\u001b[39;00m \u001b[38;5;28menumerate\u001b[39m(series_gen):\n\u001b[0;32m    813\u001b[0m         \u001b[38;5;66;03m# ignore SettingWithCopy here in case the user mutates\u001b[39;00m\n\u001b[1;32m--> 814\u001b[0m         results[i] \u001b[38;5;241m=\u001b[39m \u001b[38;5;28;43mself\u001b[39;49m\u001b[38;5;241;43m.\u001b[39;49m\u001b[43mf\u001b[49m\u001b[43m(\u001b[49m\u001b[43mv\u001b[49m\u001b[43m)\u001b[49m\n\u001b[0;32m    815\u001b[0m         \u001b[38;5;28;01mif\u001b[39;00m \u001b[38;5;28misinstance\u001b[39m(results[i], ABCSeries):\n\u001b[0;32m    816\u001b[0m             \u001b[38;5;66;03m# If we have a view on v, we need to make a copy because\u001b[39;00m\n\u001b[0;32m    817\u001b[0m             \u001b[38;5;66;03m#  series_generator will swap out the underlying data\u001b[39;00m\n\u001b[0;32m    818\u001b[0m             results[i] \u001b[38;5;241m=\u001b[39m results[i]\u001b[38;5;241m.\u001b[39mcopy(deep\u001b[38;5;241m=\u001b[39m\u001b[38;5;28;01mFalse\u001b[39;00m)\n",
      "File \u001b[1;32mc:\\UserFiles\\Anaconda3\\envs\\hh\\lib\\site-packages\\pandas\\core\\frame.py:10301\u001b[0m, in \u001b[0;36mDataFrame.corrwith.<locals>.<lambda>\u001b[1;34m(x)\u001b[0m\n\u001b[0;32m  10298\u001b[0m this \u001b[38;5;241m=\u001b[39m \u001b[38;5;28mself\u001b[39m\u001b[38;5;241m.\u001b[39m_get_numeric_data() \u001b[38;5;28;01mif\u001b[39;00m numeric_only \u001b[38;5;28;01melse\u001b[39;00m \u001b[38;5;28mself\u001b[39m\n\u001b[0;32m  10300\u001b[0m \u001b[38;5;28;01mif\u001b[39;00m \u001b[38;5;28misinstance\u001b[39m(other, Series):\n\u001b[1;32m> 10301\u001b[0m     \u001b[38;5;28;01mreturn\u001b[39;00m this\u001b[38;5;241m.\u001b[39mapply(\u001b[38;5;28;01mlambda\u001b[39;00m x: \u001b[43mother\u001b[49m\u001b[38;5;241;43m.\u001b[39;49m\u001b[43mcorr\u001b[49m\u001b[43m(\u001b[49m\u001b[43mx\u001b[49m\u001b[43m,\u001b[49m\u001b[43m \u001b[49m\u001b[43mmethod\u001b[49m\u001b[38;5;241;43m=\u001b[39;49m\u001b[43mmethod\u001b[49m\u001b[43m)\u001b[49m, axis\u001b[38;5;241m=\u001b[39maxis)\n\u001b[0;32m  10303\u001b[0m \u001b[38;5;28;01mif\u001b[39;00m numeric_only:\n\u001b[0;32m  10304\u001b[0m     other \u001b[38;5;241m=\u001b[39m other\u001b[38;5;241m.\u001b[39m_get_numeric_data()\n",
      "File \u001b[1;32mc:\\UserFiles\\Anaconda3\\envs\\hh\\lib\\site-packages\\pandas\\core\\series.py:2727\u001b[0m, in \u001b[0;36mSeries.corr\u001b[1;34m(self, other, method, min_periods)\u001b[0m\n\u001b[0;32m   2724\u001b[0m     \u001b[38;5;28;01mreturn\u001b[39;00m np\u001b[38;5;241m.\u001b[39mnan\n\u001b[0;32m   2726\u001b[0m \u001b[38;5;28;01mif\u001b[39;00m method \u001b[38;5;129;01min\u001b[39;00m [\u001b[38;5;124m\"\u001b[39m\u001b[38;5;124mpearson\u001b[39m\u001b[38;5;124m\"\u001b[39m, \u001b[38;5;124m\"\u001b[39m\u001b[38;5;124mspearman\u001b[39m\u001b[38;5;124m\"\u001b[39m, \u001b[38;5;124m\"\u001b[39m\u001b[38;5;124mkendall\u001b[39m\u001b[38;5;124m\"\u001b[39m] \u001b[38;5;129;01mor\u001b[39;00m \u001b[38;5;28mcallable\u001b[39m(method):\n\u001b[1;32m-> 2727\u001b[0m     \u001b[38;5;28;01mreturn\u001b[39;00m \u001b[43mnanops\u001b[49m\u001b[38;5;241;43m.\u001b[39;49m\u001b[43mnancorr\u001b[49m\u001b[43m(\u001b[49m\n\u001b[0;32m   2728\u001b[0m \u001b[43m        \u001b[49m\u001b[43mthis\u001b[49m\u001b[38;5;241;43m.\u001b[39;49m\u001b[43mvalues\u001b[49m\u001b[43m,\u001b[49m\u001b[43m \u001b[49m\u001b[43mother\u001b[49m\u001b[38;5;241;43m.\u001b[39;49m\u001b[43mvalues\u001b[49m\u001b[43m,\u001b[49m\u001b[43m \u001b[49m\u001b[43mmethod\u001b[49m\u001b[38;5;241;43m=\u001b[39;49m\u001b[43mmethod\u001b[49m\u001b[43m,\u001b[49m\u001b[43m \u001b[49m\u001b[43mmin_periods\u001b[49m\u001b[38;5;241;43m=\u001b[39;49m\u001b[43mmin_periods\u001b[49m\n\u001b[0;32m   2729\u001b[0m \u001b[43m    \u001b[49m\u001b[43m)\u001b[49m\n\u001b[0;32m   2731\u001b[0m \u001b[38;5;28;01mraise\u001b[39;00m \u001b[38;5;167;01mValueError\u001b[39;00m(\n\u001b[0;32m   2732\u001b[0m     \u001b[38;5;124m\"\u001b[39m\u001b[38;5;124mmethod must be either \u001b[39m\u001b[38;5;124m'\u001b[39m\u001b[38;5;124mpearson\u001b[39m\u001b[38;5;124m'\u001b[39m\u001b[38;5;124m, \u001b[39m\u001b[38;5;124m\"\u001b[39m\n\u001b[0;32m   2733\u001b[0m     \u001b[38;5;124m\"\u001b[39m\u001b[38;5;124m'\u001b[39m\u001b[38;5;124mspearman\u001b[39m\u001b[38;5;124m'\u001b[39m\u001b[38;5;124m, \u001b[39m\u001b[38;5;124m'\u001b[39m\u001b[38;5;124mkendall\u001b[39m\u001b[38;5;124m'\u001b[39m\u001b[38;5;124m, or a callable, \u001b[39m\u001b[38;5;124m\"\u001b[39m\n\u001b[0;32m   2734\u001b[0m     \u001b[38;5;124mf\u001b[39m\u001b[38;5;124m\"\u001b[39m\u001b[38;5;124m'\u001b[39m\u001b[38;5;132;01m{\u001b[39;00mmethod\u001b[38;5;132;01m}\u001b[39;00m\u001b[38;5;124m'\u001b[39m\u001b[38;5;124m was supplied\u001b[39m\u001b[38;5;124m\"\u001b[39m\n\u001b[0;32m   2735\u001b[0m )\n",
      "File \u001b[1;32mc:\\UserFiles\\Anaconda3\\envs\\hh\\lib\\site-packages\\pandas\\core\\nanops.py:96\u001b[0m, in \u001b[0;36mdisallow.__call__.<locals>._f\u001b[1;34m(*args, **kwargs)\u001b[0m\n\u001b[0;32m     94\u001b[0m \u001b[38;5;28;01mtry\u001b[39;00m:\n\u001b[0;32m     95\u001b[0m     \u001b[38;5;28;01mwith\u001b[39;00m np\u001b[38;5;241m.\u001b[39merrstate(invalid\u001b[38;5;241m=\u001b[39m\u001b[38;5;124m\"\u001b[39m\u001b[38;5;124mignore\u001b[39m\u001b[38;5;124m\"\u001b[39m):\n\u001b[1;32m---> 96\u001b[0m         \u001b[38;5;28;01mreturn\u001b[39;00m \u001b[43mf\u001b[49m\u001b[43m(\u001b[49m\u001b[38;5;241;43m*\u001b[39;49m\u001b[43margs\u001b[49m\u001b[43m,\u001b[49m\u001b[43m \u001b[49m\u001b[38;5;241;43m*\u001b[39;49m\u001b[38;5;241;43m*\u001b[39;49m\u001b[43mkwargs\u001b[49m\u001b[43m)\u001b[49m\n\u001b[0;32m     97\u001b[0m \u001b[38;5;28;01mexcept\u001b[39;00m \u001b[38;5;167;01mValueError\u001b[39;00m \u001b[38;5;28;01mas\u001b[39;00m e:\n\u001b[0;32m     98\u001b[0m     \u001b[38;5;66;03m# we want to transform an object array\u001b[39;00m\n\u001b[0;32m     99\u001b[0m     \u001b[38;5;66;03m# ValueError message to the more typical TypeError\u001b[39;00m\n\u001b[0;32m    100\u001b[0m     \u001b[38;5;66;03m# e.g. this is normally a disallowed function on\u001b[39;00m\n\u001b[0;32m    101\u001b[0m     \u001b[38;5;66;03m# object arrays that contain strings\u001b[39;00m\n\u001b[0;32m    102\u001b[0m     \u001b[38;5;28;01mif\u001b[39;00m is_object_dtype(args[\u001b[38;5;241m0\u001b[39m]):\n",
      "File \u001b[1;32mc:\\UserFiles\\Anaconda3\\envs\\hh\\lib\\site-packages\\pandas\\core\\nanops.py:1614\u001b[0m, in \u001b[0;36mnancorr\u001b[1;34m(a, b, method, min_periods)\u001b[0m\n\u001b[0;32m   1611\u001b[0m     \u001b[38;5;28;01mreturn\u001b[39;00m np\u001b[38;5;241m.\u001b[39mnan\n\u001b[0;32m   1613\u001b[0m f \u001b[38;5;241m=\u001b[39m get_corr_func(method)\n\u001b[1;32m-> 1614\u001b[0m \u001b[38;5;28;01mreturn\u001b[39;00m \u001b[43mf\u001b[49m\u001b[43m(\u001b[49m\u001b[43ma\u001b[49m\u001b[43m,\u001b[49m\u001b[43m \u001b[49m\u001b[43mb\u001b[49m\u001b[43m)\u001b[49m\n",
      "File \u001b[1;32mc:\\UserFiles\\Anaconda3\\envs\\hh\\lib\\site-packages\\pandas\\core\\nanops.py:1637\u001b[0m, in \u001b[0;36mget_corr_func.<locals>.func\u001b[1;34m(a, b)\u001b[0m\n\u001b[0;32m   1636\u001b[0m \u001b[38;5;28;01mdef\u001b[39;00m \u001b[38;5;21mfunc\u001b[39m(a, b):\n\u001b[1;32m-> 1637\u001b[0m     \u001b[38;5;28;01mreturn\u001b[39;00m \u001b[43mnp\u001b[49m\u001b[38;5;241;43m.\u001b[39;49m\u001b[43mcorrcoef\u001b[49m\u001b[43m(\u001b[49m\u001b[43ma\u001b[49m\u001b[43m,\u001b[49m\u001b[43m \u001b[49m\u001b[43mb\u001b[49m\u001b[43m)\u001b[49m[\u001b[38;5;241m0\u001b[39m, \u001b[38;5;241m1\u001b[39m]\n",
      "File \u001b[1;32m<__array_function__ internals>:200\u001b[0m, in \u001b[0;36mcorrcoef\u001b[1;34m(*args, **kwargs)\u001b[0m\n",
      "File \u001b[1;32mc:\\UserFiles\\Anaconda3\\envs\\hh\\lib\\site-packages\\numpy\\lib\\function_base.py:2846\u001b[0m, in \u001b[0;36mcorrcoef\u001b[1;34m(x, y, rowvar, bias, ddof, dtype)\u001b[0m\n\u001b[0;32m   2842\u001b[0m \u001b[38;5;28;01mif\u001b[39;00m bias \u001b[38;5;129;01mis\u001b[39;00m \u001b[38;5;129;01mnot\u001b[39;00m np\u001b[38;5;241m.\u001b[39m_NoValue \u001b[38;5;129;01mor\u001b[39;00m ddof \u001b[38;5;129;01mis\u001b[39;00m \u001b[38;5;129;01mnot\u001b[39;00m np\u001b[38;5;241m.\u001b[39m_NoValue:\n\u001b[0;32m   2843\u001b[0m     \u001b[38;5;66;03m# 2015-03-15, 1.10\u001b[39;00m\n\u001b[0;32m   2844\u001b[0m     warnings\u001b[38;5;241m.\u001b[39mwarn(\u001b[38;5;124m'\u001b[39m\u001b[38;5;124mbias and ddof have no effect and are deprecated\u001b[39m\u001b[38;5;124m'\u001b[39m,\n\u001b[0;32m   2845\u001b[0m                   \u001b[38;5;167;01mDeprecationWarning\u001b[39;00m, stacklevel\u001b[38;5;241m=\u001b[39m\u001b[38;5;241m3\u001b[39m)\n\u001b[1;32m-> 2846\u001b[0m c \u001b[38;5;241m=\u001b[39m \u001b[43mcov\u001b[49m\u001b[43m(\u001b[49m\u001b[43mx\u001b[49m\u001b[43m,\u001b[49m\u001b[43m \u001b[49m\u001b[43my\u001b[49m\u001b[43m,\u001b[49m\u001b[43m \u001b[49m\u001b[43mrowvar\u001b[49m\u001b[43m,\u001b[49m\u001b[43m \u001b[49m\u001b[43mdtype\u001b[49m\u001b[38;5;241;43m=\u001b[39;49m\u001b[43mdtype\u001b[49m\u001b[43m)\u001b[49m\n\u001b[0;32m   2847\u001b[0m \u001b[38;5;28;01mtry\u001b[39;00m:\n\u001b[0;32m   2848\u001b[0m     d \u001b[38;5;241m=\u001b[39m diag(c)\n",
      "File \u001b[1;32m<__array_function__ internals>:200\u001b[0m, in \u001b[0;36mcov\u001b[1;34m(*args, **kwargs)\u001b[0m\n",
      "File \u001b[1;32mc:\\UserFiles\\Anaconda3\\envs\\hh\\lib\\site-packages\\numpy\\lib\\function_base.py:2681\u001b[0m, in \u001b[0;36mcov\u001b[1;34m(m, y, rowvar, bias, ddof, fweights, aweights, dtype)\u001b[0m\n\u001b[0;32m   2678\u001b[0m     \u001b[38;5;28;01melse\u001b[39;00m:\n\u001b[0;32m   2679\u001b[0m         w \u001b[38;5;241m*\u001b[39m\u001b[38;5;241m=\u001b[39m aweights\n\u001b[1;32m-> 2681\u001b[0m avg, w_sum \u001b[38;5;241m=\u001b[39m \u001b[43maverage\u001b[49m\u001b[43m(\u001b[49m\u001b[43mX\u001b[49m\u001b[43m,\u001b[49m\u001b[43m \u001b[49m\u001b[43maxis\u001b[49m\u001b[38;5;241;43m=\u001b[39;49m\u001b[38;5;241;43m1\u001b[39;49m\u001b[43m,\u001b[49m\u001b[43m \u001b[49m\u001b[43mweights\u001b[49m\u001b[38;5;241;43m=\u001b[39;49m\u001b[43mw\u001b[49m\u001b[43m,\u001b[49m\u001b[43m \u001b[49m\u001b[43mreturned\u001b[49m\u001b[38;5;241;43m=\u001b[39;49m\u001b[38;5;28;43;01mTrue\u001b[39;49;00m\u001b[43m)\u001b[49m\n\u001b[0;32m   2682\u001b[0m w_sum \u001b[38;5;241m=\u001b[39m w_sum[\u001b[38;5;241m0\u001b[39m]\n\u001b[0;32m   2684\u001b[0m \u001b[38;5;66;03m# Determine the normalization\u001b[39;00m\n",
      "File \u001b[1;32m<__array_function__ internals>:200\u001b[0m, in \u001b[0;36maverage\u001b[1;34m(*args, **kwargs)\u001b[0m\n",
      "File \u001b[1;32mc:\\UserFiles\\Anaconda3\\envs\\hh\\lib\\site-packages\\numpy\\lib\\function_base.py:518\u001b[0m, in \u001b[0;36maverage\u001b[1;34m(a, axis, weights, returned, keepdims)\u001b[0m\n\u001b[0;32m    515\u001b[0m     keepdims_kw \u001b[38;5;241m=\u001b[39m {\u001b[38;5;124m'\u001b[39m\u001b[38;5;124mkeepdims\u001b[39m\u001b[38;5;124m'\u001b[39m: keepdims}\n\u001b[0;32m    517\u001b[0m \u001b[38;5;28;01mif\u001b[39;00m weights \u001b[38;5;129;01mis\u001b[39;00m \u001b[38;5;28;01mNone\u001b[39;00m:\n\u001b[1;32m--> 518\u001b[0m     avg \u001b[38;5;241m=\u001b[39m \u001b[43ma\u001b[49m\u001b[38;5;241;43m.\u001b[39;49m\u001b[43mmean\u001b[49m\u001b[43m(\u001b[49m\u001b[43maxis\u001b[49m\u001b[43m,\u001b[49m\u001b[43m \u001b[49m\u001b[38;5;241;43m*\u001b[39;49m\u001b[38;5;241;43m*\u001b[39;49m\u001b[43mkeepdims_kw\u001b[49m\u001b[43m)\u001b[49m\n\u001b[0;32m    519\u001b[0m     avg_as_array \u001b[38;5;241m=\u001b[39m np\u001b[38;5;241m.\u001b[39masanyarray(avg)\n\u001b[0;32m    520\u001b[0m     scl \u001b[38;5;241m=\u001b[39m avg_as_array\u001b[38;5;241m.\u001b[39mdtype\u001b[38;5;241m.\u001b[39mtype(a\u001b[38;5;241m.\u001b[39msize\u001b[38;5;241m/\u001b[39mavg_as_array\u001b[38;5;241m.\u001b[39msize)\n",
      "File \u001b[1;32mc:\\UserFiles\\Anaconda3\\envs\\hh\\lib\\site-packages\\numpy\\core\\_methods.py:184\u001b[0m, in \u001b[0;36m_mean\u001b[1;34m(a, axis, dtype, out, keepdims, where)\u001b[0m\n\u001b[0;32m    182\u001b[0m \u001b[38;5;28;01mif\u001b[39;00m \u001b[38;5;28misinstance\u001b[39m(ret, mu\u001b[38;5;241m.\u001b[39mndarray):\n\u001b[0;32m    183\u001b[0m     \u001b[38;5;28;01mwith\u001b[39;00m _no_nep50_warning():\n\u001b[1;32m--> 184\u001b[0m         ret \u001b[38;5;241m=\u001b[39m \u001b[43mum\u001b[49m\u001b[38;5;241;43m.\u001b[39;49m\u001b[43mtrue_divide\u001b[49m\u001b[43m(\u001b[49m\n\u001b[0;32m    185\u001b[0m \u001b[43m                \u001b[49m\u001b[43mret\u001b[49m\u001b[43m,\u001b[49m\u001b[43m \u001b[49m\u001b[43mrcount\u001b[49m\u001b[43m,\u001b[49m\u001b[43m \u001b[49m\u001b[43mout\u001b[49m\u001b[38;5;241;43m=\u001b[39;49m\u001b[43mret\u001b[49m\u001b[43m,\u001b[49m\u001b[43m \u001b[49m\u001b[43mcasting\u001b[49m\u001b[38;5;241;43m=\u001b[39;49m\u001b[38;5;124;43m'\u001b[39;49m\u001b[38;5;124;43munsafe\u001b[39;49m\u001b[38;5;124;43m'\u001b[39;49m\u001b[43m,\u001b[49m\u001b[43m \u001b[49m\u001b[43msubok\u001b[49m\u001b[38;5;241;43m=\u001b[39;49m\u001b[38;5;28;43;01mFalse\u001b[39;49;00m\u001b[43m)\u001b[49m\n\u001b[0;32m    186\u001b[0m     \u001b[38;5;28;01mif\u001b[39;00m is_float16_result \u001b[38;5;129;01mand\u001b[39;00m out \u001b[38;5;129;01mis\u001b[39;00m \u001b[38;5;28;01mNone\u001b[39;00m:\n\u001b[0;32m    187\u001b[0m         ret \u001b[38;5;241m=\u001b[39m arr\u001b[38;5;241m.\u001b[39mdtype\u001b[38;5;241m.\u001b[39mtype(ret)\n",
      "\u001b[1;31mTypeError\u001b[0m: unsupported operand type(s) for /: 'str' and 'int'"
     ]
    }
   ],
   "source": [
    "train = pd.read_csv(f'{DATA_PATH}/train.csv')\n",
    "target_col_dict = {'Yes': 1, 'No': 0}\n",
    "train1 = train\n",
    "train1['Attrition'] = train1['Attrition'].map(target_col_dict).values\n",
    "train2 = train1\n",
    "#train2.drop(['Attrition'])\n",
    "data = train2.corrwith(train1['Attrition']).agg('square')\n",
    "data = data.drop('Attrition')\n",
    "figure, ax = plt.subplots(figsize=(10, 10))\n",
    "data.agg('sqrt').plot.bar(ax=ax)\n",
    "# del data"
   ]
  },
  {
   "cell_type": "markdown",
   "metadata": {},
   "source": [
    "### For digital cols"
   ]
  },
  {
   "cell_type": "code",
   "execution_count": null,
   "metadata": {
    "execution": {
     "iopub.execute_input": "2025-03-07T06:14:12.795911Z",
     "iopub.status.busy": "2025-03-07T06:14:12.795476Z",
     "iopub.status.idle": "2025-03-07T06:14:12.808556Z",
     "shell.execute_reply": "2025-03-07T06:14:12.807284Z",
     "shell.execute_reply.started": "2025-03-07T06:14:12.795875Z"
    },
    "trusted": true
   },
   "outputs": [],
   "source": [
    "from sklearn.preprocessing import MinMaxScaler\n",
    "\n",
    "sacalar = MinMaxScaler()\n",
    "train_digital = sacalar.fit_transform(train[digital_cols])\n",
    "test_digital = sacalar.transform(test[digital_cols])\n"
   ]
  },
  {
   "cell_type": "code",
   "execution_count": null,
   "metadata": {
    "execution": {
     "iopub.execute_input": "2025-03-07T06:22:07.381050Z",
     "iopub.status.busy": "2025-03-07T06:22:07.380683Z",
     "iopub.status.idle": "2025-03-07T06:22:07.385728Z",
     "shell.execute_reply": "2025-03-07T06:22:07.384283Z",
     "shell.execute_reply.started": "2025-03-07T06:22:07.381020Z"
    },
    "trusted": true
   },
   "outputs": [],
   "source": [
    "import warnings\n",
    "# 忽略所有警告\n",
    "warnings.filterwarnings(\"ignore\")"
   ]
  },
  {
   "cell_type": "markdown",
   "metadata": {},
   "source": [
    "### For categorical cols"
   ]
  },
  {
   "cell_type": "code",
   "execution_count": null,
   "metadata": {
    "execution": {
     "iopub.execute_input": "2025-03-07T06:22:11.562335Z",
     "iopub.status.busy": "2025-03-07T06:22:11.561956Z",
     "iopub.status.idle": "2025-03-07T06:22:11.633670Z",
     "shell.execute_reply": "2025-03-07T06:22:11.632203Z",
     "shell.execute_reply.started": "2025-03-07T06:22:11.562300Z"
    },
    "trusted": true
   },
   "outputs": [
    {
     "name": "stdout",
     "output_type": "stream",
     "text": [
      "[[0. 0. 1. 0. 0. 1. 0. 0. 0. 1. 0. 0. 0. 0. 0. 0. 0. 1. 1. 0. 0. 0. 1. 0.\n",
      "  0. 0. 0. 1. 0. 0. 0. 0. 0. 0. 0. 0. 0. 0. 0. 0. 0. 0. 0. 0. 0. 0. 0. 0.\n",
      "  0. 1. 0. 0. 0. 0. 0. 0. 0. 0. 0. 0. 0. 1. 0. 0. 0. 0. 0. 0. 0. 0. 1. 0.\n",
      "  1. 0. 0. 1. 0. 0. 1. 0. 0. 1. 0. 0. 1. 0. 0. 0. 1. 0. 0. 0. 0. 0. 1. 0.\n",
      "  0.]]\n",
      "[[2. 0. 0. ... 1. 0. 0.]\n",
      " [2. 0. 1. ... 0. 1. 0.]\n",
      " [2. 0. 0. ... 1. 0. 0.]\n",
      " ...\n",
      " [2. 0. 0. ... 0. 1. 0.]\n",
      " [2. 0. 1. ... 0. 0. 0.]\n",
      " [2. 0. 0. ... 1. 0. 0.]]\n"
     ]
    }
   ],
   "source": [
    "# from sklearn.preprocessing import LabelEncoder, OneHotEncoder\n",
    "\n",
    "# train_category, test_category = None, None\n",
    "# drop_cols = ['EmployeeNumber', 'Over18', 'StandardHours']\n",
    "# for col in [var for var in category_cols if var not in drop_cols]:\n",
    "#     lbe, ohe = LabelEncoder(), OneHotEncoder()\n",
    "    \n",
    "#     lbe.fit(pd.concat([train[col], test[col]]).values.reshape(-1, 1))\n",
    "#     train[col] = lbe.transform(train[col])\n",
    "#     test[col] = lbe.transform(test[col])\n",
    "    \n",
    "#     ohe.fit(pd.concat([train[col], test[col]]).values.reshape(-1, 1))\n",
    "#     oht_train = ohe.transform(train[col].values.reshape(-1, 1)).todense()\n",
    "#     oht_test = ohe.transform(test[col].values.reshape(-1, 1)).todense()\n",
    "    \n",
    "#     if train_category is None:\n",
    "#         train_category = oht_train\n",
    "#         test_category = oht_test\n",
    "#     else:\n",
    "#         train_category = np.hstack((train_category, oht_train))\n",
    "#         test_category = np.hstack((test_category, oht_test))\n",
    "\n",
    "import pandas as pd\n",
    "import numpy as np\n",
    "from sklearn.preprocessing import LabelEncoder, OneHotEncoder\n",
    "\n",
    "# 假设 train 和 test 数据集已经加载\n",
    "# train = pd.read_csv('train.csv')\n",
    "# test = pd.read_csv('test.csv')\n",
    "\n",
    "# 假设 category_cols 是分类特征列名的列表\n",
    "# category_cols = ['Feature1', 'Feature2', 'Feature3']\n",
    "\n",
    "train_category, test_category = None, None\n",
    "drop_cols = ['EmployeeNumber', 'Over18', 'StandardHours', 'BusinessTravel']\n",
    "\n",
    "for col in [var for var in category_cols if var not in drop_cols]:\n",
    "    lbe, ohe = LabelEncoder(), OneHotEncoder()\n",
    "    \n",
    "    # 拟合标签编码器\n",
    "    lbe.fit(pd.concat([train[col], test[col]]).values.reshape(-1, 1))\n",
    "    train[col] = lbe.transform(train[col])\n",
    "    test[col] = lbe.transform(test[col])\n",
    "    \n",
    "    # 拟合独热编码器\n",
    "    ohe.fit(pd.concat([train[col], test[col]]).values.reshape(-1, 1))\n",
    "    oht_train = ohe.transform(train[col].values.reshape(-1, 1)).todense()\n",
    "    oht_test = ohe.transform(test[col].values.reshape(-1, 1)).todense()\n",
    "    \n",
    "    if train_category is None:\n",
    "        train_category = oht_train\n",
    "        test_category = oht_test\n",
    "    else:\n",
    "        train_category = np.hstack((train_category, oht_train))\n",
    "        test_category = np.hstack((test_category, oht_test))\n",
    "\n",
    "# 打印第一个样本的独热编码特征\n",
    "print(train_category[0, :])\n",
    "\n",
    "# 处理 BusinessTravel 特征\n",
    "lbe.fit(pd.concat([train['BusinessTravel'], test['BusinessTravel']]).values.reshape(-1, 1))\n",
    "BT_train = lbe.transform(train['BusinessTravel'])\n",
    "BT_test = lbe.transform(test['BusinessTravel'])\n",
    "\n",
    "# 将 BusinessTravel 特征插入到独热编码矩阵的第一列\n",
    "train_category = np.insert(train_category, 0, values=BT_train, axis=1)\n",
    "test_category = np.insert(test_category, 0, values=BT_test, axis=1)\n",
    "\n",
    "# 打印处理后的独热编码矩阵\n",
    "print(train_category)"
   ]
  },
  {
   "cell_type": "code",
   "execution_count": null,
   "metadata": {
    "execution": {
     "iopub.execute_input": "2025-03-07T06:22:16.524310Z",
     "iopub.status.busy": "2025-03-07T06:22:16.523941Z",
     "iopub.status.idle": "2025-03-07T06:22:16.532169Z",
     "shell.execute_reply": "2025-03-07T06:22:16.531194Z",
     "shell.execute_reply.started": "2025-03-07T06:22:16.524281Z"
    },
    "trusted": true
   },
   "outputs": [
    {
     "data": {
      "text/plain": [
       "((1176, 10), (294, 10), (1176, 98), (294, 98))"
      ]
     },
     "execution_count": 29,
     "metadata": {},
     "output_type": "execute_result"
    }
   ],
   "source": [
    "train_digital.shape, test_digital.shape, train_category.shape, test_category.shape"
   ]
  },
  {
   "cell_type": "code",
   "execution_count": null,
   "metadata": {
    "execution": {
     "iopub.execute_input": "2025-03-07T06:22:18.474832Z",
     "iopub.status.busy": "2025-03-07T06:22:18.474420Z",
     "iopub.status.idle": "2025-03-07T06:22:18.480710Z",
     "shell.execute_reply": "2025-03-07T06:22:18.479545Z",
     "shell.execute_reply.started": "2025-03-07T06:22:18.474790Z"
    },
    "trusted": true
   },
   "outputs": [],
   "source": [
    "feature_names = ['Age', 'DailyRate', 'MonthlyIncome', 'NumCompaniesWorked', 'PercentSalaryHike',\n",
    "                'TotalWorkingYears', 'YearsAtCompany', 'YearsInCurrentRole', 'YearsSinceLastPromotion', 'YearsWithCurrManager',\n",
    "                'BusinessTravel', 'Department', 'DistanceFromHome', 'Education', 'EducationField',\n",
    "                'EmployeeNumber', 'EnvironmentSatisfaction', 'Gender', 'JobInvolvement', 'JobLevel',\n",
    "                'JobRole', 'JobSatisfaction', 'MaritalStatus', 'Over18', 'OverTime',\n",
    "                'PerformanceRating', 'RelationshipSatisfaction', 'StandardHours', 'StockOptionLevel', 'TrainingTimesLastYear',\n",
    "                'WorkLifeBalance']"
   ]
  },
  {
   "cell_type": "code",
   "execution_count": null,
   "metadata": {
    "execution": {
     "iopub.execute_input": "2025-03-07T06:22:21.191553Z",
     "iopub.status.busy": "2025-03-07T06:22:21.191227Z",
     "iopub.status.idle": "2025-03-07T06:22:21.200072Z",
     "shell.execute_reply": "2025-03-07T06:22:21.199077Z",
     "shell.execute_reply.started": "2025-03-07T06:22:21.191526Z"
    },
    "trusted": true
   },
   "outputs": [
    {
     "data": {
      "text/plain": [
       "((1176, 108), (294, 108))"
      ]
     },
     "execution_count": 31,
     "metadata": {},
     "output_type": "execute_result"
    }
   ],
   "source": [
    "train_features = np.hstack((train_digital, train_category))\n",
    "test_features = np.hstack((test_digital, test_category))\n",
    "train_features.shape, test_features.shape"
   ]
  },
  {
   "cell_type": "code",
   "execution_count": null,
   "metadata": {
    "execution": {
     "iopub.execute_input": "2025-03-07T06:22:24.068760Z",
     "iopub.status.busy": "2025-03-07T06:22:24.068335Z",
     "iopub.status.idle": "2025-03-07T06:22:24.075713Z",
     "shell.execute_reply": "2025-03-07T06:22:24.074380Z",
     "shell.execute_reply.started": "2025-03-07T06:22:24.068719Z"
    },
    "trusted": true
   },
   "outputs": [
    {
     "data": {
      "text/plain": [
       "(1176,)"
      ]
     },
     "execution_count": 32,
     "metadata": {},
     "output_type": "execute_result"
    }
   ],
   "source": [
    "# target_col_dict = {'Yes': 1, 'No': 0}\n",
    "# train_labels = train[target_col].map(target_col_dict).values\n",
    "train_labels = train[target_col]\n",
    "train_labels.shape"
   ]
  },
  {
   "cell_type": "code",
   "execution_count": null,
   "metadata": {
    "execution": {
     "iopub.execute_input": "2025-03-07T06:24:51.044370Z",
     "iopub.status.busy": "2025-03-07T06:24:51.043998Z",
     "iopub.status.idle": "2025-03-07T06:24:51.053329Z",
     "shell.execute_reply": "2025-03-07T06:24:51.052204Z",
     "shell.execute_reply.started": "2025-03-07T06:24:51.044339Z"
    },
    "trusted": true
   },
   "outputs": [],
   "source": [
    "from sklearn.model_selection import train_test_split\n",
    "X_train, X_val, y_train, y_val = train_test_split(train_features, train_labels, test_size=0.20, random_state=42)"
   ]
  },
  {
   "cell_type": "markdown",
   "metadata": {},
   "source": [
    "### SMOTE Upsampling"
   ]
  },
  {
   "cell_type": "code",
   "execution_count": null,
   "metadata": {
    "execution": {
     "iopub.execute_input": "2025-03-07T06:24:54.021559Z",
     "iopub.status.busy": "2025-03-07T06:24:54.021200Z",
     "iopub.status.idle": "2025-03-07T06:24:54.156966Z",
     "shell.execute_reply": "2025-03-07T06:24:54.155717Z",
     "shell.execute_reply.started": "2025-03-07T06:24:54.021529Z"
    },
    "trusted": true
   },
   "outputs": [],
   "source": [
    "from imblearn.over_sampling import KMeansSMOTE\n",
    "sm = KMeansSMOTE(random_state=42 ,cluster_balance_threshold = 0.3, k_neighbors=2)\n",
    "X_res, y_res = sm.fit_resample(X_train, y_train)\n",
    "\n",
    "from imblearn.over_sampling import SMOTE\n",
    "sm = SMOTE(random_state=42)\n",
    "X_res, y_res = sm.fit_resample(X_train, y_train)\n",
    "\n",
    "# from imblearn.over_sampling import ADASYN\n",
    "# ad = ADASYN(random_state  = 42)\n",
    "# X_res, y_res = ad.fit_resample(X_train, y_train)\n",
    "\n",
    "# from imblearn.combine import SMOTEENN\n",
    "# sme = SMOTEENN(random_state = 42)\n",
    "# X_res, y_res = sme.fit_resample(X_train, y_train)"
   ]
  },
  {
   "cell_type": "markdown",
   "metadata": {},
   "source": [
    "## 4.Using Xgboost on validation set"
   ]
  },
  {
   "cell_type": "markdown",
   "metadata": {},
   "source": [
    "### Split validation set"
   ]
  },
  {
   "cell_type": "code",
   "execution_count": null,
   "metadata": {
    "execution": {
     "iopub.execute_input": "2025-03-07T06:25:03.979931Z",
     "iopub.status.busy": "2025-03-07T06:25:03.979498Z",
     "iopub.status.idle": "2025-03-07T06:25:03.988043Z",
     "shell.execute_reply": "2025-03-07T06:25:03.986679Z",
     "shell.execute_reply.started": "2025-03-07T06:25:03.979893Z"
    },
    "trusted": true
   },
   "outputs": [],
   "source": [
    "from sklearn.model_selection import train_test_split\n",
    "X_train, X_val, y_train, y_val = train_test_split(train_features, train_labels, test_size=0.20, random_state=42)"
   ]
  },
  {
   "cell_type": "code",
   "execution_count": null,
   "metadata": {
    "execution": {
     "iopub.execute_input": "2025-03-07T06:25:06.936842Z",
     "iopub.status.busy": "2025-03-07T06:25:06.936479Z",
     "iopub.status.idle": "2025-03-07T06:25:06.943488Z",
     "shell.execute_reply": "2025-03-07T06:25:06.942517Z",
     "shell.execute_reply.started": "2025-03-07T06:25:06.936812Z"
    },
    "trusted": true
   },
   "outputs": [
    {
     "data": {
      "text/plain": [
       "((940, 108), (236, 108), (940,), (236,))"
      ]
     },
     "execution_count": 39,
     "metadata": {},
     "output_type": "execute_result"
    }
   ],
   "source": [
    "X_train.shape,X_val.shape,y_train.shape,y_val.shape"
   ]
  },
  {
   "cell_type": "markdown",
   "metadata": {},
   "source": [
    "### PCA"
   ]
  },
  {
   "cell_type": "code",
   "execution_count": null,
   "metadata": {
    "execution": {
     "iopub.execute_input": "2025-03-07T06:27:15.653230Z",
     "iopub.status.busy": "2025-03-07T06:27:15.652823Z",
     "iopub.status.idle": "2025-03-07T06:27:15.791423Z",
     "shell.execute_reply": "2025-03-07T06:27:15.790491Z",
     "shell.execute_reply.started": "2025-03-07T06:27:15.653194Z"
    },
    "trusted": true
   },
   "outputs": [
    {
     "name": "stdout",
     "output_type": "stream",
     "text": [
      "保留的特征数：\n",
      "108\n",
      "特征所占比重分别为：\n",
      "[6.41066356e-02 5.91590064e-02 4.29260102e-02 3.87049094e-02\n",
      " 3.47790232e-02 3.35298241e-02 3.29385384e-02 3.21267480e-02\n",
      " 3.09227147e-02 2.94074366e-02 2.90420905e-02 2.83033564e-02\n",
      " 2.64374980e-02 2.56184162e-02 2.48958720e-02 2.37128435e-02\n",
      " 2.27873577e-02 2.07571352e-02 2.06378661e-02 1.95034321e-02\n",
      " 1.92970220e-02 1.70781907e-02 1.61645120e-02 1.56780282e-02\n",
      " 1.49932710e-02 1.40469516e-02 1.34743221e-02 1.24182642e-02\n",
      " 1.19824382e-02 1.18471471e-02 1.07822505e-02 1.07192144e-02\n",
      " 1.00175877e-02 9.44916903e-03 8.79444068e-03 8.06313494e-03\n",
      " 7.79994820e-03 7.34648907e-03 7.14231267e-03 6.66134671e-03\n",
      " 6.35106265e-03 6.14744785e-03 5.80213629e-03 5.64835632e-03\n",
      " 5.54523198e-03 5.21731852e-03 4.98472279e-03 4.69676093e-03\n",
      " 4.50158318e-03 4.40527763e-03 4.37331126e-03 4.22247833e-03\n",
      " 4.09725307e-03 3.93339466e-03 3.80548723e-03 3.64792502e-03\n",
      " 3.20785941e-03 3.05707023e-03 2.94439842e-03 2.59867228e-03\n",
      " 2.49610628e-03 2.37610955e-03 2.17098232e-03 1.90435133e-03\n",
      " 1.84291330e-03 1.71977034e-03 1.57626338e-03 1.55098988e-03\n",
      " 1.50417918e-03 1.46965902e-03 1.43595532e-03 1.38562861e-03\n",
      " 1.35788549e-03 1.26550746e-03 1.15401354e-03 1.07882334e-03\n",
      " 1.05386177e-03 1.00242227e-03 9.39654952e-04 9.11654177e-04\n",
      " 8.96994865e-04 8.87961999e-04 8.06477073e-04 7.76379463e-04\n",
      " 7.55642031e-04 7.39771591e-04 5.17457649e-04 4.52984855e-04\n",
      " 2.86626848e-04 2.59721224e-04 1.82747520e-04 1.26428047e-32\n",
      " 2.81548347e-33 2.25276394e-33 2.17624273e-33 1.77149561e-33\n",
      " 1.41220702e-33 1.32423895e-33 8.79778609e-34 7.92826753e-34\n",
      " 6.83117993e-34 5.71514258e-34 4.22501387e-34 4.07561090e-34\n",
      " 3.67453910e-34 7.93342347e-35 7.23977126e-35 1.17842556e-35]\n",
      "特征所占比重之和：\n",
      "0.9999999999999999\n"
     ]
    }
   ],
   "source": [
    "from sklearn.decomposition import PCA\n",
    "#pca = PCA(n_components = 'mle')\n",
    "pca = PCA(n_components = 108)\n",
    "X_val_new = pca.fit_transform(X_val)\n",
    "train_features_new = pca.fit_transform(train_features)\n",
    "test_features_new = pca.fit_transform(test_features)\n",
    "X_train_new = pca.fit_transform(X_train)\n",
    "print('保留的特征数：')\n",
    "print(pca.n_components_)\n",
    "print('特征所占比重分别为：')\n",
    "print(pca.explained_variance_ratio_)\n",
    "print('特征所占比重之和：')\n",
    "print(sum(pca.explained_variance_ratio_))\n",
    "\n",
    "# X_train_new 的形状为 (940, 108)。\n",
    "# X_val_new 的形状为 (236, 108)。\n",
    "# 如果你选择了小于 108 的 n_components，降维后的特征数会相应减少。"
   ]
  },
  {
   "cell_type": "markdown",
   "metadata": {},
   "source": [
    "### 4.1 Settings"
   ]
  },
  {
   "cell_type": "code",
   "execution_count": null,
   "metadata": {
    "trusted": true
   },
   "outputs": [
    {
     "data": {
      "text/plain": [
       "matrix([[0.30952381, 0.83870968, 0.50758294, ..., 0.        , 0.        ,\n",
       "         1.        ],\n",
       "        [0.52380952, 0.87311828, 0.09478673, ..., 0.        , 1.        ,\n",
       "         0.        ],\n",
       "        [0.5952381 , 0.85089606, 0.87382833, ..., 0.        , 1.        ,\n",
       "         0.        ],\n",
       "        ...,\n",
       "        [0.85714286, 0.21003584, 0.5116377 , ..., 0.        , 0.        ,\n",
       "         1.        ],\n",
       "        [0.19047619, 0.03799283, 0.09784097, ..., 1.        , 0.        ,\n",
       "         0.        ],\n",
       "        [0.35714286, 0.62078853, 0.17340706, ..., 0.        , 1.        ,\n",
       "         0.        ]])"
      ]
     },
     "execution_count": 49,
     "metadata": {},
     "output_type": "execute_result"
    }
   ],
   "source": [
    "### fit model for train data\n",
    "import xgboost as xgb\n",
    "#dataset\n",
    "dtrain = xgb.DMatrix(X_train, label = y_train)\n",
    "\n",
    "#parameters\n",
    "num_round = 500\n",
    "param = {'bst:max_depth':2, 'bst:eta':1, 'silent':1, 'objective':'binary:logistic' }\n",
    "param['nthread'] = 2\n",
    "param['eval_metric'] = 'auc'\n",
    "plst = param.items()"
   ]
  },
  {
   "cell_type": "code",
   "execution_count": null,
   "metadata": {
    "execution": {
     "iopub.execute_input": "2025-03-07T06:28:29.682132Z",
     "iopub.status.busy": "2025-03-07T06:28:29.681758Z",
     "iopub.status.idle": "2025-03-07T06:28:29.692492Z",
     "shell.execute_reply": "2025-03-07T06:28:29.691418Z",
     "shell.execute_reply.started": "2025-03-07T06:28:29.682099Z"
    },
    "trusted": true
   },
   "outputs": [
    {
     "data": {
      "text/plain": [
       "False"
      ]
     },
     "execution_count": 43,
     "metadata": {},
     "output_type": "execute_result"
    }
   ],
   "source": [
    "np.any(np.isnan(y_train))"
   ]
  },
  {
   "cell_type": "markdown",
   "metadata": {},
   "source": [
    "### 4.2 Training"
   ]
  },
  {
   "cell_type": "code",
   "execution_count": null,
   "metadata": {
    "execution": {
     "iopub.execute_input": "2025-03-07T06:32:33.455095Z",
     "iopub.status.busy": "2025-03-07T06:32:33.454744Z",
     "iopub.status.idle": "2025-03-07T06:32:33.460219Z",
     "shell.execute_reply": "2025-03-07T06:32:33.459061Z",
     "shell.execute_reply.started": "2025-03-07T06:32:33.455064Z"
    },
    "trusted": true
   },
   "outputs": [
    {
     "name": "stdout",
     "output_type": "stream",
     "text": [
      "<xgboost.core.DMatrix object at 0x785260c36e90>\n"
     ]
    }
   ],
   "source": [
    "print(dtrain)"
   ]
  },
  {
   "cell_type": "code",
   "execution_count": null,
   "metadata": {
    "execution": {
     "iopub.execute_input": "2025-03-07T06:32:14.854578Z",
     "iopub.status.busy": "2025-03-07T06:32:14.854198Z",
     "iopub.status.idle": "2025-03-07T06:32:14.860043Z",
     "shell.execute_reply": "2025-03-07T06:32:14.859072Z",
     "shell.execute_reply.started": "2025-03-07T06:32:14.854547Z"
    },
    "trusted": true
   },
   "outputs": [
    {
     "name": "stdout",
     "output_type": "stream",
     "text": [
      "dict_items([('bst:max_depth', 2), ('bst:eta', 1), ('silent', 1), ('objective', 'binary:logistic'), ('nthread', 2), ('eval_metric', 'auc')])\n"
     ]
    }
   ],
   "source": [
    "print(plst)"
   ]
  },
  {
   "cell_type": "markdown",
   "metadata": {},
   "source": [
    "### xgb"
   ]
  },
  {
   "cell_type": "code",
   "execution_count": null,
   "metadata": {
    "execution": {
     "iopub.execute_input": "2025-03-07T06:28:35.654648Z",
     "iopub.status.busy": "2025-03-07T06:28:35.654279Z",
     "iopub.status.idle": "2025-03-07T06:28:36.687587Z",
     "shell.execute_reply": "2025-03-07T06:28:36.686552Z",
     "shell.execute_reply.started": "2025-03-07T06:28:35.654592Z"
    },
    "trusted": true
   },
   "outputs": [],
   "source": [
    "bst = xgb.train(plst, dtrain, num_round)\n",
    "#save the model\n",
    "bst.save_model('0001.model')"
   ]
  },
  {
   "cell_type": "markdown",
   "metadata": {},
   "source": [
    "### 4.3 Prediction"
   ]
  },
  {
   "cell_type": "code",
   "execution_count": null,
   "metadata": {
    "execution": {
     "iopub.execute_input": "2025-03-07T06:28:39.382710Z",
     "iopub.status.busy": "2025-03-07T06:28:39.382309Z",
     "iopub.status.idle": "2025-03-07T06:28:39.392375Z",
     "shell.execute_reply": "2025-03-07T06:28:39.391086Z",
     "shell.execute_reply.started": "2025-03-07T06:28:39.382674Z"
    },
    "trusted": true
   },
   "outputs": [],
   "source": [
    "dtest = xgb.DMatrix(X_val)\n",
    "ypred = bst.predict(dtest)"
   ]
  },
  {
   "cell_type": "markdown",
   "metadata": {},
   "source": [
    "### 4.4 Evaluation"
   ]
  },
  {
   "cell_type": "code",
   "execution_count": null,
   "metadata": {
    "execution": {
     "iopub.execute_input": "2025-03-07T06:28:42.841897Z",
     "iopub.status.busy": "2025-03-07T06:28:42.841510Z",
     "iopub.status.idle": "2025-03-07T06:28:42.852902Z",
     "shell.execute_reply": "2025-03-07T06:28:42.851753Z",
     "shell.execute_reply.started": "2025-03-07T06:28:42.841865Z"
    },
    "trusted": true
   },
   "outputs": [
    {
     "name": "stdout",
     "output_type": "stream",
     "text": [
      "0.8200371057513913\n"
     ]
    }
   ],
   "source": [
    "test_auc = metrics.roc_auc_score(y_val,ypred)#验证集上的auc值\n",
    "print(test_auc)"
   ]
  },
  {
   "cell_type": "code",
   "execution_count": null,
   "metadata": {
    "execution": {
     "iopub.execute_input": "2025-03-07T06:34:23.649746Z",
     "iopub.status.busy": "2025-03-07T06:34:23.649368Z",
     "iopub.status.idle": "2025-03-07T06:34:23.939839Z",
     "shell.execute_reply": "2025-03-07T06:34:23.938925Z",
     "shell.execute_reply.started": "2025-03-07T06:34:23.649712Z"
    },
    "trusted": true
   },
   "outputs": [
    {
     "name": "stdout",
     "output_type": "stream",
     "text": [
      "测试集 AUC:  0.8142529739168394\n"
     ]
    }
   ],
   "source": [
    "#xgb\n",
    "import xgboost as xgb  # XGBoost模型\n",
    "from sklearn.metrics import roc_auc_score\n",
    "# 定义 XGBoost 模型（使用默认参数）\n",
    "xgb_model = xgb.XGBClassifier(random_state=42)\n",
    "\n",
    "# 训练模型\n",
    "xgb_model.fit(X_train, y_train)\n",
    "\n",
    "# 在测试集上进行预测\n",
    "y_pred_proba = xgb_model.predict_proba(X_val)[:, 1]  # 获取正类的概率\n",
    "\n",
    "# 输出测试集 AUC\n",
    "print(\"测试集 AUC: \", roc_auc_score(y_val, y_pred_proba))\n"
   ]
  },
  {
   "cell_type": "code",
   "execution_count": null,
   "metadata": {
    "execution": {
     "iopub.execute_input": "2025-03-07T06:54:07.408202Z",
     "iopub.status.busy": "2025-03-07T06:54:07.407772Z",
     "iopub.status.idle": "2025-03-07T06:56:47.156467Z",
     "shell.execute_reply": "2025-03-07T06:56:47.155406Z",
     "shell.execute_reply.started": "2025-03-07T06:54:07.408156Z"
    },
    "trusted": true
   },
   "outputs": [
    {
     "name": "stdout",
     "output_type": "stream",
     "text": [
      "最佳参数组合: {'colsample_bytree': 0.8, 'learning_rate': 0.1, 'max_depth': 3, 'n_estimators': 100, 'subsample': 0.8}\n",
      "Confusion Matrix:\n",
      " [[181   6]\n",
      " [ 32  17]]\n",
      "Classification Report:\n",
      "               precision    recall  f1-score   support\n",
      "\n",
      "           0       0.85      0.97      0.91       187\n",
      "           1       0.74      0.35      0.47        49\n",
      "\n",
      "    accuracy                           0.84       236\n",
      "   macro avg       0.79      0.66      0.69       236\n",
      "weighted avg       0.83      0.84      0.82       236\n",
      "\n",
      "测试集 AUC:  0.8057404780093856\n"
     ]
    }
   ],
   "source": [
    "### 网格搜索\n",
    "import xgboost as xgb  # XGBoost模型\n",
    "from sklearn.model_selection import GridSearchCV\n",
    "from sklearn.metrics import confusion_matrix, classification_report, roc_auc_score\n",
    "# 定义 XGBoost 模型\n",
    "xgb_model = xgb.XGBClassifier(random_state=42)\n",
    "\n",
    "# 定义参数网格\n",
    "param_grid = {\n",
    "    'max_depth': [3, 6, 9],  # 树的最大深度\n",
    "    'learning_rate': [0.01, 0.1, 0.3],  # 学习率\n",
    "    'n_estimators': [100, 200, 300],  # 树的数量\n",
    "    'subsample': [0.8, 1.0],  # 样本采样比例\n",
    "    'colsample_bytree': [0.8, 1.0]  # 特征采样比例\n",
    "}\n",
    "\n",
    "# 初始化网格搜索\n",
    "grid_search = GridSearchCV(\n",
    "    estimator=xgb_model,  # 模型\n",
    "    param_grid=param_grid,  # 参数网格\n",
    "    cv=5,  # 五折交叉验证\n",
    "    scoring='roc_auc',  # 使用 AUC 作为评估指标\n",
    "    n_jobs=-1  # 使用所有可用的CPU核心\n",
    ")\n",
    "\n",
    "# 在训练集上执行网格搜索\n",
    "grid_search.fit(X_train, y_train)\n",
    "\n",
    "# 输出最佳参数\n",
    "print(\"最佳参数组合:\", grid_search.best_params_)\n",
    "\n",
    "# 使用最佳参数训练模型\n",
    "best_xgb = grid_search.best_estimator_\n",
    "\n",
    "# 在测试集上进行预测\n",
    "y_pred_proba = best_xgb.predict_proba(X_val)[:, 1]  # 获取正类的概率\n",
    "y_pred_lr = best_xgb.predict(X_val)\n",
    "\n",
    "# 输出混淆矩阵\n",
    "print(\"Confusion Matrix:\\n\", confusion_matrix(y_val, y_pred_lr))\n",
    "\n",
    "# 输出分类报告\n",
    "print(\"Classification Report:\\n\", classification_report(y_val, y_pred_lr))\n",
    "\n",
    "# 输出测试集 AUC\n",
    "print(\"测试集 AUC: \", roc_auc_score(y_val, y_pred_proba))"
   ]
  },
  {
   "cell_type": "markdown",
   "metadata": {},
   "source": [
    "### XGBClassifier"
   ]
  },
  {
   "cell_type": "code",
   "execution_count": null,
   "metadata": {
    "execution": {
     "iopub.execute_input": "2025-03-07T07:15:48.668914Z",
     "iopub.status.busy": "2025-03-07T07:15:48.668533Z",
     "iopub.status.idle": "2025-03-07T07:15:49.419180Z",
     "shell.execute_reply": "2025-03-07T07:15:49.418205Z",
     "shell.execute_reply.started": "2025-03-07T07:15:48.668880Z"
    },
    "trusted": true
   },
   "outputs": [
    {
     "name": "stdout",
     "output_type": "stream",
     "text": [
      "0.8204736440030558\n"
     ]
    }
   ],
   "source": [
    "from xgboost import XGBClassifier\n",
    "\n",
    "bst2 = XGBClassifier(#learning_rate=0.08,\n",
    "                      n_estimators=300,         # 树的个数--300棵树建立xgboost\n",
    "                      #max_depth=3,               # 树的深度\n",
    "                      #min_child_weight = 1,      # 叶子节点最小权重\n",
    "                      #gamma=0.3,                  # 惩罚项中叶子结点个数前的参数\n",
    "                      #subsample=0.8,             # 随机选择80%样本建立决策树\n",
    "                      #colsample_btree=0.8,       # 随机选择80%特征建立决策树\n",
    "#                       objective='binary:logistic', # 指定损失函数\n",
    "#                       scale_pos_weight=1,        # 解决样本个数不平衡的问题\n",
    "                       random_state=42            # 随机数\n",
    "                      )\n",
    "bst2.fit(X_train,\n",
    "          y_train,\n",
    "           eval_set = [(X_val,y_val)],\n",
    "           eval_metric = \"auc\",\n",
    "          #early_stopping_rounds = 10,\n",
    "          verbose = False)\n",
    "#save the model\n",
    "bst2.save_model('0002.model')\n",
    "\n",
    "ypred2 = bst2.predict_proba(X_val)[:,1]\n",
    "test_auc = metrics.roc_auc_score(y_val,ypred2)#验证集上的auc值\n",
    "print(test_auc)"
   ]
  },
  {
   "cell_type": "code",
   "execution_count": null,
   "metadata": {
    "execution": {
     "iopub.execute_input": "2025-03-07T07:16:19.658728Z",
     "iopub.status.busy": "2025-03-07T07:16:19.658347Z",
     "iopub.status.idle": "2025-03-07T07:16:19.846559Z",
     "shell.execute_reply": "2025-03-07T07:16:19.845449Z",
     "shell.execute_reply.started": "2025-03-07T07:16:19.658695Z"
    },
    "trusted": true
   },
   "outputs": [
    {
     "name": "stdout",
     "output_type": "stream",
     "text": [
      "0.8175270108043218\n"
     ]
    }
   ],
   "source": [
    "# 看一下其他参数的训练效果\n",
    "from xgboost import XGBClassifier\n",
    "\n",
    "bst2 = XGBClassifier(learning_rate=0.1,\n",
    "                      n_estimators=100,         # 树的个数--300棵树建立xgboost\n",
    "                      max_depth=3,               # 树的深度\n",
    "                      min_child_weight = 1,      # 叶子节点最小权重\n",
    "                      gamma=0.3,                  # 惩罚项中叶子结点个数前的参数\n",
    "                      subsample=0.8,             # 随机选择80%样本建立决策树\n",
    "                      colsample_btree=0.8,       # 随机选择80%特征建立决策树\n",
    "                       objective='binary:logistic', # 指定损失函数\n",
    "                       scale_pos_weight=1,        # 解决样本个数不平衡的问题\n",
    "                       random_state=42            # 随机数\n",
    "                      )\n",
    "bst2.fit(X_train,\n",
    "          y_train,\n",
    "          #  eval_set = [(X_val,y_val)],\n",
    "          #  eval_metric = \"auc\",\n",
    "          # early_stopping_rounds = 10,\n",
    "          verbose = False)\n",
    "#save the model\n",
    "bst2.save_model('0002.model')\n",
    "\n",
    "ypred2 = bst2.predict_proba(X_val)[:,1]\n",
    "test_auc = metrics.roc_auc_score(y_val,ypred2)#验证集上的auc值\n",
    "print(test_auc)"
   ]
  },
  {
   "cell_type": "markdown",
   "metadata": {},
   "source": [
    "### 4.5 Explore the features"
   ]
  },
  {
   "cell_type": "markdown",
   "metadata": {},
   "source": [
    "#### Feature importance Using Xgboost"
   ]
  },
  {
   "cell_type": "code",
   "execution_count": null,
   "metadata": {
    "execution": {
     "execution_failed": "2025-03-07T09:03:06.768Z"
    },
    "trusted": true
   },
   "outputs": [],
   "source": [
    "from sklearn.preprocessing import minmax_scale\n",
    "feature_importance = bst.get_score(importance_type = 'total_cover')\n",
    "feature_values = list(feature_importance.values())\n",
    "feature_keys = list(feature_importance.keys())\n",
    "original_importance_sort = np.sort(feature_values)[::-1]\n",
    "new_dict = {v : k for k, v in feature_importance.items()} #key,value 互换位置\n",
    "feature_label = []\n",
    "for i in range(len(new_dict)): feature_label.append(new_dict[original_importance_sort[i]])\n",
    "print(feature_label)\n",
    "print(feature_keys)\n",
    "feature_importance = np.sort(minmax_scale(feature_values,feature_range = (0,1)))[::-1]\n",
    "print(feature_importance)\n",
    "\n",
    "\n",
    "\n",
    "from xgboost import plot_importance\n",
    "fig,ax = plt.subplots(figsize=(15,15))\n",
    "plot_importance(bst,\n",
    "                height=0.5,\n",
    "                ax=ax,\n",
    "                max_num_features=64)"
   ]
  },
  {
   "cell_type": "markdown",
   "metadata": {},
   "source": [
    "### Feature Selection"
   ]
  },
  {
   "cell_type": "code",
   "execution_count": null,
   "metadata": {
    "execution": {
     "iopub.status.busy": "2025-03-07T06:14:20.006607Z",
     "iopub.status.idle": "2025-03-07T06:14:20.007134Z",
     "shell.execute_reply": "2025-03-07T06:14:20.006872Z"
    },
    "trusted": true
   },
   "outputs": [],
   "source": [
    "feature_importance_per = feature_importance / sum(feature_importance)\n",
    "print(feature_importance_per)\n",
    "\n",
    "threshold = 0.95\n",
    "#根据重要性阈值选择前N个特征\n",
    "def TopiElements(feature_importance_per,threshold):\n",
    "    score = 0\n",
    "    for i in range(len(feature_importance_per)):\n",
    "        if score < threshold:\n",
    "            score += feature_importance_per[i]\n",
    "        else:\n",
    "            return i+1\n",
    "def TopiFeaturesName(feature_label,feature_importance_per,threshold):\n",
    "    return feature_label[0:TopiElements(feature_importance_per,threshold)-1]\n",
    "print('共有',TopiElements(feature_importance_per,threshold),'个特征')\n",
    "TopiFeatures = TopiFeaturesName(feature_label,feature_importance_per,threshold)\n",
    "print(TopiFeatures)"
   ]
  },
  {
   "cell_type": "code",
   "execution_count": null,
   "metadata": {
    "execution": {
     "iopub.status.busy": "2025-03-07T06:14:20.008119Z",
     "iopub.status.idle": "2025-03-07T06:14:20.008572Z",
     "shell.execute_reply": "2025-03-07T06:14:20.008337Z"
    },
    "trusted": true
   },
   "outputs": [],
   "source": [
    "#输入features为矩阵,返回值为矩阵\n",
    "def GenerateNewFeatures(features,TopiFeatures):\n",
    "    feature_columns = []\n",
    "    for i in range(110): feature_columns.append('f{}'.format(i))\n",
    "    train_Features = pd.DataFrame(features,columns = [feature_columns])\n",
    "    train_Features.head()\n",
    "    new_train_Features = train_Features[TopiFeatures]\n",
    "    return new_train_Features.values"
   ]
  },
  {
   "cell_type": "code",
   "execution_count": null,
   "metadata": {
    "execution": {
     "iopub.status.busy": "2025-03-07T06:14:20.009578Z",
     "iopub.status.idle": "2025-03-07T06:14:20.009986Z",
     "shell.execute_reply": "2025-03-07T06:14:20.009792Z"
    },
    "trusted": true
   },
   "outputs": [],
   "source": [
    "new_train_features = GenerateNewFeatures(train_features,TopiFeatures)\n",
    "new_test_features = GenerateNewFeatures(test_features,TopiFeatures)"
   ]
  },
  {
   "cell_type": "markdown",
   "metadata": {},
   "source": [
    "#### Use SelectFromModel to select"
   ]
  },
  {
   "cell_type": "code",
   "execution_count": null,
   "metadata": {
    "execution": {
     "iopub.status.busy": "2025-03-07T06:14:20.010868Z",
     "iopub.status.idle": "2025-03-07T06:14:20.011256Z",
     "shell.execute_reply": "2025-03-07T06:14:20.011062Z"
    },
    "trusted": true
   },
   "outputs": [],
   "source": [
    "# from sklearn.feature_selection import SelectFromModel\n",
    "\n",
    "# thresholds = sorted(bst2.feature_importances_)\n",
    "# for thresh in thresholds:\n",
    "#     # select features using threshold\n",
    "#     selection = SelectFromModel(bst2, threshold=thresh, prefit=True)\n",
    "#     select_X_train = selection.transform(X_train)\n",
    "#     # train model\n",
    "#     selection_model = XGBClassifier()\n",
    "#     selection_model.fit(select_X_train, y_train)\n",
    "#     # eval model\n",
    "#     select_X_val = selection.transform(X_val)\n",
    "#     ypred2 = selection_model.predict(select_X_val)\n",
    "#     predictions = [round(value) for value in ypred2]\n",
    "#     auc = metrics.roc_auc_score(y_val,ypred2)\n",
    "#     print(\"Thresh=%.3f, n=%d, auc: %.2f%%\" % (thresh, select_X_train.shape[1], auc))\n"
   ]
  },
  {
   "cell_type": "markdown",
   "metadata": {},
   "source": [
    "### Calculate model ACC"
   ]
  },
  {
   "cell_type": "code",
   "execution_count": null,
   "metadata": {
    "execution": {
     "iopub.status.busy": "2025-03-07T06:14:20.012341Z",
     "iopub.status.idle": "2025-03-07T06:14:20.012791Z",
     "shell.execute_reply": "2025-03-07T06:14:20.012537Z"
    },
    "trusted": true
   },
   "outputs": [],
   "source": [
    "threshold_res = 0.5\n",
    "def EncodeResult(threshold, results):\n",
    "    encodeResult = []\n",
    "    for i in range(len(results)):\n",
    "        encodeResult.append(1) if results[i] > threshold else encodeResult.append(0)\n",
    "    return encodeResult"
   ]
  },
  {
   "cell_type": "markdown",
   "metadata": {},
   "source": [
    "### 4.6 Try xgb model with New Features"
   ]
  },
  {
   "cell_type": "code",
   "execution_count": null,
   "metadata": {
    "execution": {
     "iopub.status.busy": "2025-03-07T06:14:20.013739Z",
     "iopub.status.idle": "2025-03-07T06:14:20.014141Z",
     "shell.execute_reply": "2025-03-07T06:14:20.013935Z"
    },
    "trusted": true
   },
   "outputs": [],
   "source": [
    "from sklearn.model_selection import train_test_split\n",
    "X_train, X_val, y_train, y_val = train_test_split(new_train_features, train_labels, test_size=0.20, random_state=42)\n",
    "#dataset\n",
    "dtrain = xgb.DMatrix(X_train, label = y_train)\n",
    "\n",
    "#parameters\n",
    "num_round = 300\n",
    "param = {'bst:max_depth':3, 'bst:eta':1, 'silent':1, 'objective':'binary:logistic' }\n",
    "param['nthread'] = 2\n",
    "plst = param.items()\n",
    "\n",
    "bst = xgb.train(plst, dtrain, num_round)\n",
    "#save the model\n",
    "bst.save_model('0001.model')\n",
    "\n",
    "dtest = xgb.DMatrix(X_val)\n",
    "ypred = bst.predict(dtest)\n",
    "\n",
    "test_auc = metrics.roc_auc_score(y_val,ypred)#验证集上的auc值\n",
    "print(test_auc)\n",
    "print(ypred)\n",
    "encode_result = EncodeResult(threshold_res,ypred)\n",
    "print(encode_result)\n",
    "test_acc = metrics.accuracy_score(y_val,encode_result)\n",
    "print(test_acc)"
   ]
  },
  {
   "cell_type": "markdown",
   "metadata": {},
   "source": [
    "## 5.LR on validation set"
   ]
  },
  {
   "cell_type": "markdown",
   "metadata": {},
   "source": [
    "#### After Feature Selection"
   ]
  },
  {
   "cell_type": "code",
   "execution_count": null,
   "metadata": {
    "execution": {
     "iopub.status.busy": "2025-03-07T06:14:20.015026Z",
     "iopub.status.idle": "2025-03-07T06:14:20.015467Z",
     "shell.execute_reply": "2025-03-07T06:14:20.015267Z"
    },
    "trusted": true
   },
   "outputs": [],
   "source": [
    "from sklearn.linear_model import LinearRegression\n",
    "\n",
    "clf_after = LinearRegression()\n",
    "clf_after.fit(X_train, y_train)"
   ]
  },
  {
   "cell_type": "code",
   "execution_count": null,
   "metadata": {
    "execution": {
     "iopub.status.busy": "2025-03-07T06:14:20.016985Z",
     "iopub.status.idle": "2025-03-07T06:14:20.017480Z",
     "shell.execute_reply": "2025-03-07T06:14:20.017233Z"
    },
    "trusted": true
   },
   "outputs": [],
   "source": [
    "ypred = clf_after.predict(X_val)\n",
    "ypred.shape\n",
    "test_auc = metrics.roc_auc_score(y_val,ypred)#验证集上的auc值\n",
    "print(test_auc)"
   ]
  },
  {
   "cell_type": "markdown",
   "metadata": {},
   "source": [
    "#### Before Feature Selection"
   ]
  },
  {
   "cell_type": "code",
   "execution_count": null,
   "metadata": {
    "execution": {
     "iopub.status.busy": "2025-03-07T06:14:20.018572Z",
     "iopub.status.idle": "2025-03-07T06:14:20.019104Z",
     "shell.execute_reply": "2025-03-07T06:14:20.018860Z"
    },
    "trusted": true
   },
   "outputs": [],
   "source": [
    "X_train, X_val, y_train, y_val = train_test_split(train_features, train_labels, test_size=0.20, random_state=42)\n",
    "clf = LinearRegression()\n",
    "clf.fit(X_train, y_train)\n",
    "ypred = clf.predict(X_val)\n",
    "ypred.shape\n",
    "test_auc = metrics.roc_auc_score(y_val,ypred)#验证集上的auc值\n",
    "print(test_auc)"
   ]
  },
  {
   "cell_type": "markdown",
   "metadata": {},
   "source": [
    "## 6. RandomForest"
   ]
  },
  {
   "cell_type": "markdown",
   "metadata": {},
   "source": [
    "#### Before Feature Selection"
   ]
  },
  {
   "cell_type": "code",
   "execution_count": null,
   "metadata": {
    "execution": {
     "iopub.status.busy": "2025-03-07T06:14:20.020098Z",
     "iopub.status.idle": "2025-03-07T06:14:20.020556Z",
     "shell.execute_reply": "2025-03-07T06:14:20.020328Z"
    },
    "trusted": true
   },
   "outputs": [],
   "source": [
    "#X_train, X_val, y_train, y_val = train_test_split(train_features, train_labels, test_size=0.20, random_state=42)\n",
    "from sklearn.ensemble import RandomForestRegressor\n",
    "rf = RandomForestRegressor(random_state=0,max_features = 0.40)\n",
    "rf.fit(X_train,y_train)\n",
    "ypred = rf.predict(X_val)\n",
    "test_auc = metrics.roc_auc_score(y_val,ypred)#验证集上的auc值\n",
    "print('Random forest auc:',test_auc)\n",
    "#print('acc:',metrics.accuracy_score(y_val,ypred))\n",
    "#print(ypred)"
   ]
  },
  {
   "cell_type": "markdown",
   "metadata": {},
   "source": [
    "#### After Feature Selection"
   ]
  },
  {
   "cell_type": "code",
   "execution_count": null,
   "metadata": {
    "execution": {
     "iopub.status.busy": "2025-03-07T06:14:20.021705Z",
     "iopub.status.idle": "2025-03-07T06:14:20.022168Z",
     "shell.execute_reply": "2025-03-07T06:14:20.021933Z"
    },
    "trusted": true
   },
   "outputs": [],
   "source": [
    "X_train, X_val, y_train, y_val = train_test_split(new_train_features, train_labels, test_size=0.20, random_state=42)\n",
    "from sklearn.ensemble import RandomForestClassifier\n",
    "rf = RandomForestClassifier(random_state=0,max_features = 0.30)\n",
    "rf.fit(X_train,y_train)\n",
    "ypred = rf.predict(X_val)\n",
    "test_auc = metrics.roc_auc_score(y_val,ypred)#验证集上的auc值\n",
    "print('auc:',test_auc)\n",
    "print('acc:',metrics.accuracy_score(y_val,ypred))"
   ]
  },
  {
   "cell_type": "markdown",
   "metadata": {},
   "source": [
    "## 7. Ensemble-----classification"
   ]
  },
  {
   "cell_type": "code",
   "execution_count": null,
   "metadata": {
    "execution": {
     "iopub.status.busy": "2025-03-07T06:14:20.023100Z",
     "iopub.status.idle": "2025-03-07T06:14:20.023566Z",
     "shell.execute_reply": "2025-03-07T06:14:20.023332Z"
    },
    "trusted": true
   },
   "outputs": [],
   "source": [
    "from sklearn.ensemble import AdaBoostClassifier, GradientBoostingClassifier,RandomForestClassifier\n",
    "from sklearn.svm import SVC\n",
    "from sklearn.linear_model import LogisticRegression\n",
    "from sklearn.model_selection import KFold, cross_val_score\n",
    "from sklearn.preprocessing import RobustScaler\n",
    "from sklearn.model_selection import RandomizedSearchCV\n",
    "from sklearn.base import BaseEstimator, clone\n",
    "from sklearn.pipeline import make_pipeline\n",
    "import xgboost as xgb"
   ]
  },
  {
   "cell_type": "code",
   "execution_count": null,
   "metadata": {
    "execution": {
     "iopub.status.busy": "2025-03-07T06:14:20.024882Z",
     "iopub.status.idle": "2025-03-07T06:14:20.025276Z",
     "shell.execute_reply": "2025-03-07T06:14:20.025082Z"
    },
    "trusted": true
   },
   "outputs": [],
   "source": [
    "X_train, X_val, y_train, y_val = train_test_split(train_features, train_labels, test_size=0.20, random_state=42)\n",
    "n_folds = 5\n",
    "def acc_cv(model):\n",
    "    kf = KFold(n_folds, shuffle=True, random_state=42).get_n_splits(X_train)\n",
    "    acc= cross_val_score(model, X_train, y_train, scoring=\"accuracy\", cv = kf)\n",
    "    return(acc)"
   ]
  },
  {
   "cell_type": "markdown",
   "metadata": {},
   "source": [
    "#### Adaboost"
   ]
  },
  {
   "cell_type": "code",
   "execution_count": null,
   "metadata": {
    "execution": {
     "iopub.status.busy": "2025-03-07T06:14:20.026215Z",
     "iopub.status.idle": "2025-03-07T06:14:20.026704Z",
     "shell.execute_reply": "2025-03-07T06:14:20.026441Z"
    },
    "trusted": true
   },
   "outputs": [],
   "source": [
    "Adaboost = make_pipeline(RobustScaler(),\n",
    "                         AdaBoostClassifier(base_estimator=None,\n",
    "                                            n_estimators = 56,\n",
    "                                            learning_rate= 0.18,\n",
    "                                            algorithm='SAMME.R',\n",
    "                                            random_state = 1)\n",
    "                        )"
   ]
  },
  {
   "cell_type": "markdown",
   "metadata": {},
   "source": [
    "#### Gradient Boosting"
   ]
  },
  {
   "cell_type": "code",
   "execution_count": null,
   "metadata": {
    "execution": {
     "iopub.status.busy": "2025-03-07T06:14:20.027791Z",
     "iopub.status.idle": "2025-03-07T06:14:20.028244Z",
     "shell.execute_reply": "2025-03-07T06:14:20.028006Z"
    },
    "trusted": true
   },
   "outputs": [],
   "source": [
    "GBoosting = make_pipeline(RobustScaler(), \n",
    "                          GradientBoostingClassifier(loss='deviance',\n",
    "                                                     learning_rate = 0.05,\n",
    "                                                     n_estimators = 56,\n",
    "                                                     min_samples_split = 9,\n",
    "                                                     min_samples_leaf = 2,\n",
    "                                                     max_depth = 4,\n",
    "                                                     random_state = 1,\n",
    "                                                     max_features = 9)\n",
    "                         )"
   ]
  },
  {
   "cell_type": "markdown",
   "metadata": {},
   "source": [
    "#### SVC"
   ]
  },
  {
   "cell_type": "code",
   "execution_count": null,
   "metadata": {
    "execution": {
     "iopub.status.busy": "2025-03-07T06:14:20.029186Z",
     "iopub.status.idle": "2025-03-07T06:14:20.029600Z",
     "shell.execute_reply": "2025-03-07T06:14:20.029399Z"
    },
    "trusted": true
   },
   "outputs": [],
   "source": [
    "SVC =  make_pipeline(RobustScaler(), \n",
    "                     SVC(decision_function_shape = 'ovr',\n",
    "                         random_state = 1,\n",
    "                         max_iter = 14888,\n",
    "                         kernel = 'poly',\n",
    "                         degree = 2,\n",
    "                         coef0 = 0.49, \n",
    "                         C =  9.6)\n",
    "                     )"
   ]
  },
  {
   "cell_type": "markdown",
   "metadata": {},
   "source": [
    "#### Random Forest"
   ]
  },
  {
   "cell_type": "code",
   "execution_count": null,
   "metadata": {
    "execution": {
     "iopub.status.busy": "2025-03-07T06:14:20.030685Z",
     "iopub.status.idle": "2025-03-07T06:14:20.031171Z",
     "shell.execute_reply": "2025-03-07T06:14:20.030959Z"
    },
    "trusted": true
   },
   "outputs": [],
   "source": [
    "RF = make_pipeline(RobustScaler(), \n",
    "                   RandomForestClassifier(criterion='gini', \n",
    "                                          n_estimators=364,\n",
    "                                          max_depth = 11,                    \n",
    "                                          min_samples_split=6,\n",
    "                                          min_samples_leaf=1,\n",
    "                                          max_features='auto',\n",
    "                                          oob_score=True,\n",
    "                                          random_state=1,\n",
    "                                          )\n",
    "                  )"
   ]
  },
  {
   "cell_type": "markdown",
   "metadata": {},
   "source": [
    "#### XGBOOST"
   ]
  },
  {
   "cell_type": "code",
   "execution_count": null,
   "metadata": {
    "execution": {
     "iopub.status.busy": "2025-03-07T06:14:20.032107Z",
     "iopub.status.idle": "2025-03-07T06:14:20.032514Z",
     "shell.execute_reply": "2025-03-07T06:14:20.032314Z"
    },
    "trusted": true
   },
   "outputs": [],
   "source": [
    "xgbc = make_pipeline(RobustScaler(), \n",
    "                     xgb.XGBClassifier(n_estimators=121,\n",
    "                                       reg_lambda = 0.9,\n",
    "                                       reg_alpha = 0.5,\n",
    "                                       max_depth = 9,\n",
    "                                       learning_rate = 0.55,\n",
    "                                       gamma = 0.5,\n",
    "                                       colsample_bytree = 0.4,\n",
    "                                       coldsample_bynode = 0.15,\n",
    "                                       colsample_bylevel = 0.5)\n",
    "                    )"
   ]
  },
  {
   "cell_type": "markdown",
   "metadata": {},
   "source": [
    "#### Scores"
   ]
  },
  {
   "cell_type": "code",
   "execution_count": null,
   "metadata": {
    "execution": {
     "iopub.status.busy": "2025-03-07T06:14:20.033448Z",
     "iopub.status.idle": "2025-03-07T06:14:20.033935Z",
     "shell.execute_reply": "2025-03-07T06:14:20.033694Z"
    },
    "trusted": true
   },
   "outputs": [],
   "source": [
    "score = acc_cv(Adaboost)\n",
    "print(\"Adaboost score: {:.4f} ({:.4f})\\n\".format(score.mean(), score.std()))\n",
    "\n",
    "score = acc_cv(GBoosting)\n",
    "print(\"Gradient Boosting score: {:.4f} ({:.4f})\\n\".format(score.mean(), score.std()))\n",
    "\n",
    "score = acc_cv(SVC)\n",
    "print(\"SVC  score: {:.4f} ({:.4f})\\n\".format(score.mean(), score.std()))\n",
    "\n",
    "score = acc_cv(RF)\n",
    "print(\"Random Forest score: {:.4f} ({:.4f})\\n\".format(score.mean(), score.std()))\n",
    "\n",
    "score = acc_cv(xgbc)\n",
    "print(\"Xgboost score: {:.4f} ({:.4f})\\n\".format(score.mean(), score.std()))"
   ]
  },
  {
   "cell_type": "markdown",
   "metadata": {},
   "source": [
    "### Average ensembling"
   ]
  },
  {
   "cell_type": "markdown",
   "metadata": {},
   "source": [
    "### original"
   ]
  },
  {
   "cell_type": "code",
   "execution_count": null,
   "metadata": {
    "execution": {
     "iopub.status.busy": "2025-03-07T06:14:20.035144Z",
     "iopub.status.idle": "2025-03-07T06:14:20.035608Z",
     "shell.execute_reply": "2025-03-07T06:14:20.035373Z"
    },
    "trusted": true
   },
   "outputs": [],
   "source": [
    "class AveragingModels(BaseEstimator):\n",
    "    def __init__(self, models):\n",
    "        self.models = models\n",
    "        \n",
    "    # we define clones of the original models to fit the data in\n",
    "    def fit(self, X, y):\n",
    "        self.models_ = [clone(x) for x in self.models]\n",
    "        \n",
    "        # Train cloned base models\n",
    "        for model in self.models_:\n",
    "            model.fit(X, y)\n",
    "\n",
    "        return self\n",
    "    \n",
    "    #Now we do the predictions for cloned models and average them\n",
    "    def predict(self, X):\n",
    "        predictions = np.column_stack([\n",
    "            model.predict(X) for model in self.models_\n",
    "        ])\n",
    "        return np.mean(predictions, axis=1)"
   ]
  },
  {
   "cell_type": "code",
   "execution_count": null,
   "metadata": {
    "execution": {
     "iopub.status.busy": "2025-03-07T06:14:20.036910Z",
     "iopub.status.idle": "2025-03-07T06:14:20.037383Z",
     "shell.execute_reply": "2025-03-07T06:14:20.037142Z"
    },
    "trusted": true
   },
   "outputs": [],
   "source": [
    "%%capture\n",
    "averaged_models = AveragingModels(models = (Adaboost,SVC, GBoosting, RF,xgbc))\n",
    "averaged_models.fit(X_train, y_train)\n",
    "#predict\n",
    "train_pred = averaged_models.predict(X_train)\n",
    "test_pred = averaged_models.predict(X_val)"
   ]
  },
  {
   "cell_type": "code",
   "execution_count": null,
   "metadata": {
    "execution": {
     "iopub.status.busy": "2025-03-07T06:14:20.038529Z",
     "iopub.status.idle": "2025-03-07T06:14:20.039060Z",
     "shell.execute_reply": "2025-03-07T06:14:20.038816Z"
    },
    "trusted": true
   },
   "outputs": [],
   "source": [
    "test_pred.shape\n",
    "print('ensemble_auc:', metrics.roc_auc_score(y_val,test_pred))"
   ]
  },
  {
   "cell_type": "code",
   "execution_count": null,
   "metadata": {
    "execution": {
     "iopub.status.busy": "2025-03-07T06:14:20.040033Z",
     "iopub.status.idle": "2025-03-07T06:14:20.040529Z",
     "shell.execute_reply": "2025-03-07T06:14:20.040289Z"
    },
    "trusted": true
   },
   "outputs": [],
   "source": [
    "# train_pred = np.round(train_pred)\n",
    "# test_pred = np.round(test_pred)\n",
    "\n",
    "acc_averaged = np.round((train_pred==y_train).sum()/train_pred.shape[0],5)\n",
    "print(f\"Averaged models accuracy: {acc_averaged}\")"
   ]
  },
  {
   "cell_type": "markdown",
   "metadata": {},
   "source": [
    "## 8.LightGBM"
   ]
  },
  {
   "cell_type": "code",
   "execution_count": null,
   "metadata": {
    "execution": {
     "iopub.status.busy": "2025-03-07T06:14:20.041559Z",
     "iopub.status.idle": "2025-03-07T06:14:20.042067Z",
     "shell.execute_reply": "2025-03-07T06:14:20.041825Z"
    },
    "trusted": true
   },
   "outputs": [],
   "source": [
    "#new features\n",
    "from sklearn.model_selection import train_test_split\n",
    "X_train, X_val, y_train, y_val = train_test_split(new_train_features, train_labels, test_size=0.20, random_state=42)"
   ]
  },
  {
   "cell_type": "code",
   "execution_count": null,
   "metadata": {
    "execution": {
     "iopub.status.busy": "2025-03-07T06:14:20.043034Z",
     "iopub.status.idle": "2025-03-07T06:14:20.043510Z",
     "shell.execute_reply": "2025-03-07T06:14:20.043265Z"
    },
    "trusted": true
   },
   "outputs": [],
   "source": [
    "#old features\n",
    "from sklearn.model_selection import train_test_split\n",
    "X_train, X_val, y_train, y_val = train_test_split(train_features, train_labels, test_size=0.20, random_state=42)"
   ]
  },
  {
   "cell_type": "code",
   "execution_count": null,
   "metadata": {
    "execution": {
     "iopub.status.busy": "2025-03-07T06:14:20.044596Z",
     "iopub.status.idle": "2025-03-07T06:14:20.045106Z",
     "shell.execute_reply": "2025-03-07T06:14:20.044857Z"
    },
    "trusted": true
   },
   "outputs": [],
   "source": [
    "from pandas import DataFrame\n",
    "X_train = DataFrame(X_train, index = None)\n",
    "y_train = DataFrame(y_train, index = None)\n",
    "X_val = DataFrame(X_val,index = None)\n",
    "y_val = DataFrame(y_val,index = None)"
   ]
  },
  {
   "cell_type": "code",
   "execution_count": null,
   "metadata": {
    "execution": {
     "iopub.status.busy": "2025-03-07T06:14:20.046205Z",
     "iopub.status.idle": "2025-03-07T06:14:20.046678Z",
     "shell.execute_reply": "2025-03-07T06:14:20.046428Z"
    },
    "trusted": true
   },
   "outputs": [],
   "source": [
    "import lightgbm as lgb\n",
    "train_data = lgb.Dataset(data = X_train, label = y_train)\n",
    "test_data = lgb.Dataset(data = X_val, label = y_val)\n",
    "# parameters\n",
    "param = {'num_leaves':20, 'num_trees':300, 'objective':'binary'}\n",
    "param['metric'] = ['binary_logloss']\n",
    "# use test_data as validation dataset\n",
    "num_round = 100\n",
    "bst = lgb.train(param, train_data, num_round, valid_sets = test_data, early_stopping_rounds =10)\n",
    "y_pred = bst.predict(X_val)\n",
    "print('lightGBM_auc:', metrics.roc_auc_score(y_val,y_pred))"
   ]
  },
  {
   "cell_type": "markdown",
   "metadata": {},
   "source": [
    "## 9.TPOT"
   ]
  },
  {
   "cell_type": "code",
   "execution_count": null,
   "metadata": {
    "execution": {
     "iopub.status.busy": "2025-03-07T06:14:20.047806Z",
     "iopub.status.idle": "2025-03-07T06:14:20.048292Z",
     "shell.execute_reply": "2025-03-07T06:14:20.048035Z"
    },
    "trusted": true
   },
   "outputs": [],
   "source": [
    "from tpot import TPOTRegressor\n",
    "tpot = TPOTRegressor(generations=3, population_size=50, verbosity=2)\n",
    "tpot.fit(X_train, y_train)\n",
    "print(tpot.score(X_val, y_val))\n",
    "tpot.export('tpot_titanic_pipeline.py')\n",
    "\n",
    "y_pred = tpot.predict(X_val)\n",
    "print('topt AUC:',metrics.roc_auc_score(y_val,y_pred))"
   ]
  },
  {
   "cell_type": "code",
   "execution_count": null,
   "metadata": {
    "execution": {
     "iopub.status.busy": "2025-03-07T06:14:20.049355Z",
     "iopub.status.idle": "2025-03-07T06:14:20.049837Z",
     "shell.execute_reply": "2025-03-07T06:14:20.049575Z"
    },
    "trusted": true
   },
   "outputs": [],
   "source": [
    "# bernoli distribution\n",
    "from sklearn.naive_bayes import BernoulliNB\n",
    "clf = BernoulliNB(alpha = 2, fit_prior=False)\n",
    "clf.fit(X_train,y_train)\n",
    "y_pred = clf.predict(X_val)\n",
    "print('BernoulliNB AUC:',metrics.roc_auc_score(y_val,y_pred))"
   ]
  },
  {
   "cell_type": "code",
   "execution_count": null,
   "metadata": {
    "execution": {
     "iopub.status.busy": "2025-03-07T06:14:20.050865Z",
     "iopub.status.idle": "2025-03-07T06:14:20.051327Z",
     "shell.execute_reply": "2025-03-07T06:14:20.051097Z"
    },
    "trusted": true
   },
   "outputs": [],
   "source": [
    "from sklearn.ensemble import GradientBoostingClassifier\n",
    "from sklearn.preprocessing import StandardScaler\n",
    "from sklearn.pipeline import make_pipeline\n",
    "\n",
    "\n",
    "exported_pipeline = make_pipeline(\n",
    "    StandardScaler(),\n",
    "    GradientBoostingClassifier(learning_rate=0.1, max_depth=2, max_features=0.45, min_samples_leaf=6, min_samples_split=5, n_estimators=100, subsample=0.25)\n",
    ")\n",
    "exported_pipeline.fit(X_train, y_train)\n",
    "y_pred = exported_pipeline.predict(X_val)\n",
    "print('GBDT AUC:',metrics.roc_auc_score(y_val,y_pred))"
   ]
  },
  {
   "cell_type": "markdown",
   "metadata": {},
   "source": [
    "## 10.SVM"
   ]
  },
  {
   "cell_type": "code",
   "execution_count": null,
   "metadata": {
    "execution": {
     "iopub.status.busy": "2025-03-07T06:14:20.052549Z",
     "iopub.status.idle": "2025-03-07T06:14:20.053026Z",
     "shell.execute_reply": "2025-03-07T06:14:20.052789Z"
    },
    "trusted": true
   },
   "outputs": [],
   "source": [
    "from sklearn.svm import SVR\n",
    "from sklearn import metrics\n",
    "X_train, X_val, y_train, y_val = train_test_split(new_train_features, train_labels, test_size=0.20, random_state=42)\n",
    "svc = SVR(kernel = 'linear')\n",
    "svc.fit(X_train,y_train)\n",
    "y_pred = svc.predict(X_val)\n",
    "print('SVM_auc:',metrics.roc_auc_score(y_val,y_pred))\n"
   ]
  },
  {
   "cell_type": "markdown",
   "metadata": {},
   "source": [
    "## 11. catboost"
   ]
  },
  {
   "cell_type": "code",
   "execution_count": null,
   "metadata": {
    "execution": {
     "iopub.status.busy": "2025-03-07T06:14:20.054088Z",
     "iopub.status.idle": "2025-03-07T06:14:20.054539Z",
     "shell.execute_reply": "2025-03-07T06:14:20.054300Z"
    },
    "trusted": true
   },
   "outputs": [],
   "source": [
    "import numpy as np\n",
    "from catboost import Pool, CatBoostRegressor\n",
    "\n",
    "id_col = 'user_id'\n",
    "target_col = 'Attrition'\n",
    "\n",
    "digital_cols = ['Age', 'DailyRate', 'MonthlyIncome', 'NumCompaniesWorked', 'PercentSalaryHike',\n",
    "                'TotalWorkingYears', 'YearsAtCompany', 'YearsInCurrentRole', 'YearsSinceLastPromotion', 'YearsWithCurrManager']\n",
    "category_cols = ['BusinessTravel', 'Department',  'Education', 'EducationField',\n",
    "                 'EnvironmentSatisfaction', 'Gender', 'JobInvolvement', 'JobLevel','DistanceFromHome',\n",
    "                'JobRole', 'JobSatisfaction', 'MaritalStatus', 'OverTime',\n",
    "                'RelationshipSatisfaction',  'StockOptionLevel', 'PerformanceRating', 'TrainingTimesLastYear','WorkLifeBalance' ]\n",
    "feature_cols = digital_cols + category_cols\n",
    "\n",
    "X_train, X_val, y_train, y_val = train_test_split(train[feature_cols], train[target_col], test_size=0.20, random_state=42)\n",
    "\n",
    "cat_feature_indice = [i for i in range(10,28)]\n",
    "train_pool = Pool(X_train, \n",
    "                  y_train, \n",
    "                  cat_features=cat_feature_indice)\n",
    "test_pool = Pool(X_val, \n",
    "                 cat_features=cat_feature_indice) \n",
    "\n",
    "# specify the training parameters \n",
    "# ctb = CatBoostRegressor(iterations=1200, \n",
    "#                           depth=2, \n",
    "#                           learning_rate=0.1, \n",
    "#                           loss_function='RMSE')\n",
    "ctb = CatBoostRegressor(iterations=1200, \n",
    "                          depth=2, \n",
    "                          learning_rate=0.1, \n",
    "                          loss_function='RMSE')\n",
    "\n",
    "#train the model\n",
    "ctb.fit(train_pool)\n",
    "# make the prediction using the resulting model\n",
    "y_pred = ctb.predict(test_pool)\n",
    "print('catboost_auc:',metrics.roc_auc_score(y_val,y_pred))"
   ]
  },
  {
   "cell_type": "markdown",
   "metadata": {},
   "source": [
    "## End: On test set"
   ]
  },
  {
   "cell_type": "code",
   "execution_count": null,
   "metadata": {
    "execution": {
     "iopub.status.busy": "2025-03-07T06:14:20.055662Z",
     "iopub.status.idle": "2025-03-07T06:14:20.056141Z",
     "shell.execute_reply": "2025-03-07T06:14:20.055891Z"
    },
    "trusted": true
   },
   "outputs": [],
   "source": [
    "#catboost\n",
    "import numpy as np\n",
    "from catboost import Pool, CatBoostRegressor\n",
    "\n",
    "id_col = 'user_id'\n",
    "target_col = 'Attrition'\n",
    "\n",
    "digital_cols = ['Age', 'DailyRate', 'MonthlyIncome', 'NumCompaniesWorked', 'PercentSalaryHike',\n",
    "                'TotalWorkingYears', 'YearsAtCompany', 'YearsInCurrentRole', 'YearsSinceLastPromotion', 'YearsWithCurrManager']\n",
    "category_cols = ['BusinessTravel', 'Department',  'Education', 'EducationField',\n",
    "                'EmployeeNumber', 'EnvironmentSatisfaction', 'Gender', 'JobInvolvement', 'JobLevel','DistanceFromHome',\n",
    "                'JobRole', 'JobSatisfaction', 'MaritalStatus', 'Over18', 'OverTime',\n",
    "                'RelationshipSatisfaction', 'StandardHours', 'StockOptionLevel', 'PerformanceRating', 'TrainingTimesLastYear','WorkLifeBalance' ]\n",
    "feature_cols = digital_cols + category_cols\n",
    "\n",
    "#X_train, X_val, y_train, y_val = train_test_split(train[feature_cols], train[target_col], test_size=0.20, random_state=42)\n",
    "\n",
    "cat_feature_indice = [i for i in range(10,31)]\n",
    "train_pool = Pool(train[feature_cols], \n",
    "                  train[target_col], \n",
    "                  cat_features=cat_feature_indice)\n",
    "test_pool = Pool(test[feature_cols], \n",
    "                 cat_features=cat_feature_indice) \n",
    "\n",
    "# specify the training parameters \n",
    "# ctb = CatBoostRegressor(iterations=1200, \n",
    "#                           depth=2, \n",
    "#                           learning_rate=0.1, \n",
    "#                           loss_function='RMSE')\n",
    "ctb = CatBoostRegressor(iterations=1100, \n",
    "                          depth=2, \n",
    "                          learning_rate=0.1, \n",
    "                          loss_function='RMSE')\n",
    "\n",
    "#train the model\n",
    "ctb.fit(train_pool)\n",
    "# make the prediction using the resulting model\n",
    "ypred = ctb.predict(test_pool)"
   ]
  },
  {
   "cell_type": "code",
   "execution_count": null,
   "metadata": {
    "execution": {
     "iopub.status.busy": "2025-03-07T06:14:20.057190Z",
     "iopub.status.idle": "2025-03-07T06:14:20.057668Z",
     "shell.execute_reply": "2025-03-07T06:14:20.057414Z"
    },
    "trusted": true
   },
   "outputs": [],
   "source": [
    "#linear\n",
    "# from sklearn.linear_model import LinearRegression\n",
    "\n",
    "# clf_after = LinearRegression()\n",
    "# clf_after.fit(new_train_features, train_labels)\n",
    "# ypred = clf_after.predict(new_test_features)\n",
    "\n",
    "from sklearn.linear_model import LinearRegression\n",
    "\n",
    "clf_after = LinearRegression()\n",
    "clf_after.fit(train_features, train_labels)\n",
    "ypred = clf_after.predict(test_features)\n"
   ]
  },
  {
   "cell_type": "code",
   "execution_count": null,
   "metadata": {
    "execution": {
     "iopub.status.busy": "2025-03-07T06:14:20.058865Z",
     "iopub.status.idle": "2025-03-07T06:14:20.059336Z",
     "shell.execute_reply": "2025-03-07T06:14:20.059099Z"
    },
    "trusted": true
   },
   "outputs": [],
   "source": [
    "#ensemble__classification\n",
    "averaged_models = AveragingModels(models = (Adaboost,SVC, GBoosting, RF,xgbc))\n",
    "averaged_models.fit(train_features, train_labels)\n",
    "#predict\n",
    "ypred = averaged_models.predict(test_features)"
   ]
  },
  {
   "cell_type": "code",
   "execution_count": null,
   "metadata": {
    "execution": {
     "iopub.status.busy": "2025-03-07T06:14:20.060352Z",
     "iopub.status.idle": "2025-03-07T06:14:20.060858Z",
     "shell.execute_reply": "2025-03-07T06:14:20.060573Z"
    },
    "trusted": true
   },
   "outputs": [],
   "source": [
    "#xgboost\n",
    "### fit model for train data\n",
    "import xgboost as xgb\n",
    "#dataset\n",
    "dtrain = xgb.DMatrix(train_features, label = train_labels)\n",
    "\n",
    "#parameters\n",
    "num_round = 500\n",
    "param = {'bst:max_depth':2, 'bst:eta':1, 'silent':1, 'objective':'binary:logistic' }\n",
    "param['nthread'] = 2\n",
    "param['eval_metric'] = 'auc'\n",
    "plst = param.items()\n",
    "bst = xgb.train(plst, dtrain, num_round)\n",
    "dtest = xgb.DMatrix(test_features)\n",
    "ypred = bst.predict(dtest)"
   ]
  },
  {
   "cell_type": "markdown",
   "metadata": {},
   "source": [
    "## Submission"
   ]
  },
  {
   "cell_type": "code",
   "execution_count": null,
   "metadata": {
    "execution": {
     "iopub.status.busy": "2025-03-07T06:14:20.061933Z",
     "iopub.status.idle": "2025-03-07T06:14:20.062403Z",
     "shell.execute_reply": "2025-03-07T06:14:20.062159Z"
    },
    "trusted": true
   },
   "outputs": [],
   "source": [
    "#SMOTE SVM\n",
    "# from imblearn.over_sampling import SMOTE\n",
    "# sm = SMOTE(random_state=42)\n",
    "# X_res, y_res = sm.fit_resample(train_features, train_labels)\n",
    "\n",
    "\n",
    "from sklearn.svm import SVR\n",
    "from sklearn import metrics\n",
    "#X_train, X_val, y_train, y_val = train_test_split(train_features, train_labels, test_size=0.20, random_state=42)\n",
    "svc = SVR(kernel = 'linear')\n",
    "svc.fit(new_train_features, train_labels)\n",
    "ypred = svc.predict(new_test_features)\n",
    "\n",
    "# #X_train, X_val, y_train, y_val = train_test_split(train_features, train_labels, test_size=0.20, random_state=42)\n",
    "# svc = SVR(kernel = 'linear')\n",
    "# svc.fit(X_res, y_res)\n",
    "# ypred_up = svc.predict(test_features)\n"
   ]
  },
  {
   "cell_type": "code",
   "execution_count": null,
   "metadata": {
    "execution": {
     "iopub.status.busy": "2025-03-07T06:14:20.063461Z",
     "iopub.status.idle": "2025-03-07T06:14:20.063965Z",
     "shell.execute_reply": "2025-03-07T06:14:20.063723Z"
    },
    "trusted": true
   },
   "outputs": [],
   "source": [
    "sub = test[['user_id']].copy()\n",
    "sub['Attrition'] = ypred\n",
    "sub['Attrition'] = sub['Attrition'].apply(lambda x: x if x >=0 else 0.0005)\n",
    "sub.to_csv('submission.csv', index=False)\n",
    "\n",
    "# sub['Attrition'] = ypred_up\n",
    "# sub['Attrition'] = sub['Attrition'].apply(lambda x: x if x >=0 else 0.0005)\n",
    "# sub.to_csv('submission_up.csv', index=False)"
   ]
  }
 ],
 "metadata": {
  "kaggle": {
   "accelerator": "none",
   "dataSources": [
    {
     "databundleVersionId": 1183733,
     "sourceId": 20707,
     "sourceType": "competition"
    }
   ],
   "dockerImageVersionId": 29926,
   "isGpuEnabled": false,
   "isInternetEnabled": false,
   "language": "python",
   "sourceType": "notebook"
  },
  "kernelspec": {
   "display_name": "hh",
   "language": "python",
   "name": "python3"
  },
  "language_info": {
   "codemirror_mode": {
    "name": "ipython",
    "version": 3
   },
   "file_extension": ".py",
   "mimetype": "text/x-python",
   "name": "python",
   "nbconvert_exporter": "python",
   "pygments_lexer": "ipython3",
   "version": "3.8.20"
  }
 },
 "nbformat": 4,
 "nbformat_minor": 4
}
